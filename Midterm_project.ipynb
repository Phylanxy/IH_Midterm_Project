{
 "cells": [
  {
   "cell_type": "code",
   "execution_count": 325,
   "metadata": {
    "collapsed": true
   },
   "outputs": [],
   "source": [
    "import pandas as pd\n",
    "import numpy as np\n",
    "import seaborn as sns\n",
    "import matplotlib.pyplot as plt"
   ]
  },
  {
   "cell_type": "code",
   "execution_count": 270,
   "outputs": [],
   "source": [
    "# Function to transform each column into small capital letters\n",
    "def column_into_small_letters(df):\n",
    "    for column in df.columns:\n",
    "        df.rename(columns = {column:column.replace(\" \", \"_\").lower()}, inplace = True)\n",
    "    return df"
   ],
   "metadata": {
    "collapsed": false
   }
  },
  {
   "cell_type": "code",
   "execution_count": 271,
   "outputs": [],
   "source": [
    "# import dataframe\n",
    "df = pd.read_csv(\"nys_homes.csv\")"
   ],
   "metadata": {
    "collapsed": false
   }
  },
  {
   "cell_type": "code",
   "execution_count": 272,
   "outputs": [
    {
     "data": {
      "text/plain": "              reporting_period home_performance_project_id  \\\n0      2020-02-12T00:00:00.000                      483911   \n1      2020-02-12T00:00:00.000                      486389   \n2      2020-02-12T00:00:00.000                      483374   \n3      2020-02-12T00:00:00.000                      475733   \n4      2020-02-12T00:00:00.000                      483731   \n...                        ...                         ...   \n55825  2020-02-12T00:00:00.000                P00000721450   \n55826  2020-02-12T00:00:00.000                P00000727276   \n55827  2020-02-12T00:00:00.000                P00000726343   \n55828  2020-02-12T00:00:00.000                P00000727199   \n55829  2020-02-12T00:00:00.000                P00000725072   \n\n      home_performance_site_id project_county project_city  project_zip  \\\n0                       357221         Oneida    Barneveld        13304   \n1                       343438          Wayne      Palmyra        14522   \n2                       356880           Erie      Buffalo        14215   \n3                       350454         Oneida         Rome        13440   \n4                       356491     Livingston         Lima        14485   \n...                        ...            ...          ...          ...   \n55825             S00000124921           Erie        Depew        14043   \n55826             S00000130155    Schenectady  Schenectady        12303   \n55827             S00000129326       Tompkins    Freeville        13068   \n55828             S00000130090         Monroe    Rochester        14617   \n55829             S00000128120         Monroe    Rochester        14624   \n\n                          gas_utility               electric_utility  \\\n0                                 NaN                  National Grid   \n1                                 NaN  New York State Electric & Gas   \n2      National Fuel Gas Distribution                  National Grid   \n3                                 NaN                  National Grid   \n4                                 NaN                  National Grid   \n...                               ...                            ...   \n55825  National Fuel Gas Distribution  New York State Electric & Gas   \n55826                   National Grid                  National Grid   \n55827   New York State Electric & Gas  New York State Electric & Gas   \n55828        Rochester Gas & Electric       Rochester Gas & Electric   \n55829        Rochester Gas & Electric       Rochester Gas & Electric   \n\n       project_completion_date customer_type  ... number_of_units  \\\n0      2021-01-16T00:00:00.000      Assisted  ...             1.0   \n1      2021-01-06T00:00:00.000      Assisted  ...             1.0   \n2      2020-12-15T00:00:00.000      Assisted  ...             1.0   \n3      2020-12-09T00:00:00.000      Assisted  ...             1.0   \n4      2020-12-08T00:00:00.000      Assisted  ...             1.0   \n...                        ...           ...  ...             ...   \n55825  2010-11-15T00:00:00.000        Market  ...             1.0   \n55826  2011-01-28T00:00:00.000      Assisted  ...             1.0   \n55827  2011-01-13T00:00:00.000        Market  ...             1.0   \n55828  2010-12-26T00:00:00.000        Market  ...             1.0   \n55829  2011-02-01T00:00:00.000        Market  ...             1.0   \n\n         measure_type  estimated_annual_kwh_savings  \\\n0      Building Shell                             0   \n1      Building Shell                           309   \n2      Building Shell                             0   \n3      Building Shell                             0   \n4      Building Shell                             0   \n...               ...                           ...   \n55825  Building Shell                             0   \n55826  Building Shell                             0   \n55827  Building Shell                             0   \n55828  Building Shell                           601   \n55829  Building Shell                             0   \n\n      estimated_annual_mmbtu_savings  first_year_energy_savings_$_estimate  \\\n0                                 27                                   474   \n1                                  3                                   111   \n2                                  8                                    61   \n3                                 28                                   681   \n4                                  6                                   146   \n...                              ...                                   ...   \n55825                             24                                   340   \n55826                             33                                   823   \n55827                             16                                   887   \n55828                             11                                   258   \n55829                              1                                     9   \n\n      homeowner_received_green_jobs-green_ny_free/reduced_cost_audit_(y/n)  \\\n0                                                      Y                     \n1                                                      Y                     \n2                                                      Y                     \n3                                                      Y                     \n4                                                      Y                     \n...                                                  ...                     \n55825                                                  N                     \n55826                                                  N                     \n55827                                                  N                     \n55828                                                  N                     \n55829                                                  N                     \n\n                                new_georeferenced_column  \\\n0      {'type': 'Point', 'coordinates': [-75.16936, 4...   \n1      {'type': 'Point', 'coordinates': [-77.218837, ...   \n2      {'type': 'Point', 'coordinates': [-78.808435, ...   \n3      {'type': 'Point', 'coordinates': [-75.454665, ...   \n4      {'type': 'Point', 'coordinates': [-77.603561, ...   \n...                                                  ...   \n55825  {'type': 'Point', 'coordinates': [-78.702553, ...   \n55826  {'type': 'Point', 'coordinates': [-73.932117, ...   \n55827  {'type': 'Point', 'coordinates': [-76.359264, ...   \n55828  {'type': 'Point', 'coordinates': [-77.597999, ...   \n55829  {'type': 'Point', 'coordinates': [-77.729647, ...   \n\n       new_york_zip_codes_2  counties_2  nys_municipal_boundaries_2  \n0                     764.0       625.0                         985  \n1                     364.0       631.0                         631  \n2                      71.0      2041.0                         300  \n3                    1366.0       625.0                         989  \n4                     312.0      2091.0                         742  \n...                     ...         ...                         ...  \n55825                 506.0      2041.0                         298  \n55826                  72.0      2030.0                         832  \n55827                 622.0      2181.0                         712  \n55828                1676.0      2093.0                         545  \n55829                1683.0      2093.0                         549  \n\n[55830 rows x 29 columns]",
      "text/html": "<div>\n<style scoped>\n    .dataframe tbody tr th:only-of-type {\n        vertical-align: middle;\n    }\n\n    .dataframe tbody tr th {\n        vertical-align: top;\n    }\n\n    .dataframe thead th {\n        text-align: right;\n    }\n</style>\n<table border=\"1\" class=\"dataframe\">\n  <thead>\n    <tr style=\"text-align: right;\">\n      <th></th>\n      <th>reporting_period</th>\n      <th>home_performance_project_id</th>\n      <th>home_performance_site_id</th>\n      <th>project_county</th>\n      <th>project_city</th>\n      <th>project_zip</th>\n      <th>gas_utility</th>\n      <th>electric_utility</th>\n      <th>project_completion_date</th>\n      <th>customer_type</th>\n      <th>...</th>\n      <th>number_of_units</th>\n      <th>measure_type</th>\n      <th>estimated_annual_kwh_savings</th>\n      <th>estimated_annual_mmbtu_savings</th>\n      <th>first_year_energy_savings_$_estimate</th>\n      <th>homeowner_received_green_jobs-green_ny_free/reduced_cost_audit_(y/n)</th>\n      <th>new_georeferenced_column</th>\n      <th>new_york_zip_codes_2</th>\n      <th>counties_2</th>\n      <th>nys_municipal_boundaries_2</th>\n    </tr>\n  </thead>\n  <tbody>\n    <tr>\n      <th>0</th>\n      <td>2020-02-12T00:00:00.000</td>\n      <td>483911</td>\n      <td>357221</td>\n      <td>Oneida</td>\n      <td>Barneveld</td>\n      <td>13304</td>\n      <td>NaN</td>\n      <td>National Grid</td>\n      <td>2021-01-16T00:00:00.000</td>\n      <td>Assisted</td>\n      <td>...</td>\n      <td>1.0</td>\n      <td>Building Shell</td>\n      <td>0</td>\n      <td>27</td>\n      <td>474</td>\n      <td>Y</td>\n      <td>{'type': 'Point', 'coordinates': [-75.16936, 4...</td>\n      <td>764.0</td>\n      <td>625.0</td>\n      <td>985</td>\n    </tr>\n    <tr>\n      <th>1</th>\n      <td>2020-02-12T00:00:00.000</td>\n      <td>486389</td>\n      <td>343438</td>\n      <td>Wayne</td>\n      <td>Palmyra</td>\n      <td>14522</td>\n      <td>NaN</td>\n      <td>New York State Electric &amp; Gas</td>\n      <td>2021-01-06T00:00:00.000</td>\n      <td>Assisted</td>\n      <td>...</td>\n      <td>1.0</td>\n      <td>Building Shell</td>\n      <td>309</td>\n      <td>3</td>\n      <td>111</td>\n      <td>Y</td>\n      <td>{'type': 'Point', 'coordinates': [-77.218837, ...</td>\n      <td>364.0</td>\n      <td>631.0</td>\n      <td>631</td>\n    </tr>\n    <tr>\n      <th>2</th>\n      <td>2020-02-12T00:00:00.000</td>\n      <td>483374</td>\n      <td>356880</td>\n      <td>Erie</td>\n      <td>Buffalo</td>\n      <td>14215</td>\n      <td>National Fuel Gas Distribution</td>\n      <td>National Grid</td>\n      <td>2020-12-15T00:00:00.000</td>\n      <td>Assisted</td>\n      <td>...</td>\n      <td>1.0</td>\n      <td>Building Shell</td>\n      <td>0</td>\n      <td>8</td>\n      <td>61</td>\n      <td>Y</td>\n      <td>{'type': 'Point', 'coordinates': [-78.808435, ...</td>\n      <td>71.0</td>\n      <td>2041.0</td>\n      <td>300</td>\n    </tr>\n    <tr>\n      <th>3</th>\n      <td>2020-02-12T00:00:00.000</td>\n      <td>475733</td>\n      <td>350454</td>\n      <td>Oneida</td>\n      <td>Rome</td>\n      <td>13440</td>\n      <td>NaN</td>\n      <td>National Grid</td>\n      <td>2020-12-09T00:00:00.000</td>\n      <td>Assisted</td>\n      <td>...</td>\n      <td>1.0</td>\n      <td>Building Shell</td>\n      <td>0</td>\n      <td>28</td>\n      <td>681</td>\n      <td>Y</td>\n      <td>{'type': 'Point', 'coordinates': [-75.454665, ...</td>\n      <td>1366.0</td>\n      <td>625.0</td>\n      <td>989</td>\n    </tr>\n    <tr>\n      <th>4</th>\n      <td>2020-02-12T00:00:00.000</td>\n      <td>483731</td>\n      <td>356491</td>\n      <td>Livingston</td>\n      <td>Lima</td>\n      <td>14485</td>\n      <td>NaN</td>\n      <td>National Grid</td>\n      <td>2020-12-08T00:00:00.000</td>\n      <td>Assisted</td>\n      <td>...</td>\n      <td>1.0</td>\n      <td>Building Shell</td>\n      <td>0</td>\n      <td>6</td>\n      <td>146</td>\n      <td>Y</td>\n      <td>{'type': 'Point', 'coordinates': [-77.603561, ...</td>\n      <td>312.0</td>\n      <td>2091.0</td>\n      <td>742</td>\n    </tr>\n    <tr>\n      <th>...</th>\n      <td>...</td>\n      <td>...</td>\n      <td>...</td>\n      <td>...</td>\n      <td>...</td>\n      <td>...</td>\n      <td>...</td>\n      <td>...</td>\n      <td>...</td>\n      <td>...</td>\n      <td>...</td>\n      <td>...</td>\n      <td>...</td>\n      <td>...</td>\n      <td>...</td>\n      <td>...</td>\n      <td>...</td>\n      <td>...</td>\n      <td>...</td>\n      <td>...</td>\n      <td>...</td>\n    </tr>\n    <tr>\n      <th>55825</th>\n      <td>2020-02-12T00:00:00.000</td>\n      <td>P00000721450</td>\n      <td>S00000124921</td>\n      <td>Erie</td>\n      <td>Depew</td>\n      <td>14043</td>\n      <td>National Fuel Gas Distribution</td>\n      <td>New York State Electric &amp; Gas</td>\n      <td>2010-11-15T00:00:00.000</td>\n      <td>Market</td>\n      <td>...</td>\n      <td>1.0</td>\n      <td>Building Shell</td>\n      <td>0</td>\n      <td>24</td>\n      <td>340</td>\n      <td>N</td>\n      <td>{'type': 'Point', 'coordinates': [-78.702553, ...</td>\n      <td>506.0</td>\n      <td>2041.0</td>\n      <td>298</td>\n    </tr>\n    <tr>\n      <th>55826</th>\n      <td>2020-02-12T00:00:00.000</td>\n      <td>P00000727276</td>\n      <td>S00000130155</td>\n      <td>Schenectady</td>\n      <td>Schenectady</td>\n      <td>12303</td>\n      <td>National Grid</td>\n      <td>National Grid</td>\n      <td>2011-01-28T00:00:00.000</td>\n      <td>Assisted</td>\n      <td>...</td>\n      <td>1.0</td>\n      <td>Building Shell</td>\n      <td>0</td>\n      <td>33</td>\n      <td>823</td>\n      <td>N</td>\n      <td>{'type': 'Point', 'coordinates': [-73.932117, ...</td>\n      <td>72.0</td>\n      <td>2030.0</td>\n      <td>832</td>\n    </tr>\n    <tr>\n      <th>55827</th>\n      <td>2020-02-12T00:00:00.000</td>\n      <td>P00000726343</td>\n      <td>S00000129326</td>\n      <td>Tompkins</td>\n      <td>Freeville</td>\n      <td>13068</td>\n      <td>New York State Electric &amp; Gas</td>\n      <td>New York State Electric &amp; Gas</td>\n      <td>2011-01-13T00:00:00.000</td>\n      <td>Market</td>\n      <td>...</td>\n      <td>1.0</td>\n      <td>Building Shell</td>\n      <td>0</td>\n      <td>16</td>\n      <td>887</td>\n      <td>N</td>\n      <td>{'type': 'Point', 'coordinates': [-76.359264, ...</td>\n      <td>622.0</td>\n      <td>2181.0</td>\n      <td>712</td>\n    </tr>\n    <tr>\n      <th>55828</th>\n      <td>2020-02-12T00:00:00.000</td>\n      <td>P00000727199</td>\n      <td>S00000130090</td>\n      <td>Monroe</td>\n      <td>Rochester</td>\n      <td>14617</td>\n      <td>Rochester Gas &amp; Electric</td>\n      <td>Rochester Gas &amp; Electric</td>\n      <td>2010-12-26T00:00:00.000</td>\n      <td>Market</td>\n      <td>...</td>\n      <td>1.0</td>\n      <td>Building Shell</td>\n      <td>601</td>\n      <td>11</td>\n      <td>258</td>\n      <td>N</td>\n      <td>{'type': 'Point', 'coordinates': [-77.597999, ...</td>\n      <td>1676.0</td>\n      <td>2093.0</td>\n      <td>545</td>\n    </tr>\n    <tr>\n      <th>55829</th>\n      <td>2020-02-12T00:00:00.000</td>\n      <td>P00000725072</td>\n      <td>S00000128120</td>\n      <td>Monroe</td>\n      <td>Rochester</td>\n      <td>14624</td>\n      <td>Rochester Gas &amp; Electric</td>\n      <td>Rochester Gas &amp; Electric</td>\n      <td>2011-02-01T00:00:00.000</td>\n      <td>Market</td>\n      <td>...</td>\n      <td>1.0</td>\n      <td>Building Shell</td>\n      <td>0</td>\n      <td>1</td>\n      <td>9</td>\n      <td>N</td>\n      <td>{'type': 'Point', 'coordinates': [-77.729647, ...</td>\n      <td>1683.0</td>\n      <td>2093.0</td>\n      <td>549</td>\n    </tr>\n  </tbody>\n</table>\n<p>55830 rows × 29 columns</p>\n</div>"
     },
     "execution_count": 272,
     "metadata": {},
     "output_type": "execute_result"
    }
   ],
   "source": [
    "# convert column names to lower and replace spaces with underscore\n",
    "column_into_small_letters(df)"
   ],
   "metadata": {
    "collapsed": false
   }
  },
  {
   "cell_type": "code",
   "execution_count": 282,
   "outputs": [],
   "source": [
    "# save reporting period to variable and then drop it, since there is only one\n",
    "reporting_period = df[\"reporting_period\"].unique()\n",
    "df = df.drop(\"reporting_period\", axis=1)"
   ],
   "metadata": {
    "collapsed": false
   }
  },
  {
   "cell_type": "code",
   "execution_count": 120,
   "outputs": [
    {
     "name": "stdout",
     "output_type": "stream",
     "text": [
      "<class 'pandas.core.frame.DataFrame'>\n",
      "RangeIndex: 55830 entries, 0 to 55829\n",
      "Data columns (total 29 columns):\n",
      " #   Column                                                                Non-Null Count  Dtype  \n",
      "---  ------                                                                --------------  -----  \n",
      " 0   Reporting Period                                                      55830 non-null  object \n",
      " 1   Home Performance Project ID                                           55830 non-null  object \n",
      " 2   Home Performance Site ID                                              55830 non-null  object \n",
      " 3   Project County                                                        55830 non-null  object \n",
      " 4   Project City                                                          55830 non-null  object \n",
      " 5   Project Zip                                                           55830 non-null  int64  \n",
      " 6   Gas Utility                                                           39852 non-null  object \n",
      " 7   Electric Utility                                                      55830 non-null  object \n",
      " 8   Project Completion Date                                               55830 non-null  object \n",
      " 9   Customer Type                                                         55830 non-null  object \n",
      " 10  Low-Rise or Home Performance Indicator                                55830 non-null  object \n",
      " 11  Total Project Cost                                                    55830 non-null  int64  \n",
      " 12  Total Incentives                                                      55830 non-null  int64  \n",
      " 13  Type of Program Financing                                             18465 non-null  object \n",
      " 14  Amount Financed Through Program                                       55830 non-null  int64  \n",
      " 15  Pre-Retrofit Home Heating Fuel Type                                   55437 non-null  object \n",
      " 16  Year Home Built                                                       38956 non-null  float64\n",
      " 17  Size of Home                                                          47629 non-null  float64\n",
      " 18  Volume of Home                                                        47629 non-null  float64\n",
      " 19  Number of Units                                                       38971 non-null  float64\n",
      " 20  Measure Type                                                          55830 non-null  object \n",
      " 21  Estimated Annual kWh Savings                                          55830 non-null  int64  \n",
      " 22  Estimated Annual MMBtu Savings                                        55830 non-null  int64  \n",
      " 23  First Year Energy Savings $ Estimate                                  55830 non-null  int64  \n",
      " 24  Homeowner Received Green Jobs-Green NY Free/Reduced Cost Audit (Y/N)  55830 non-null  object \n",
      " 25  New Georeferenced Column                                              55830 non-null  object \n",
      " 26  New York Zip Codes 2                                                  55729 non-null  float64\n",
      " 27  Counties 2                                                            55826 non-null  float64\n",
      " 28  NYS Municipal Boundaries 2                                            55830 non-null  int64  \n",
      "dtypes: float64(6), int64(8), object(15)\n",
      "memory usage: 12.4+ MB\n"
     ]
    }
   ],
   "source": [
    "# df info summary\n",
    "df.info()"
   ],
   "metadata": {
    "collapsed": false
   }
  },
  {
   "cell_type": "code",
   "execution_count": 108,
   "outputs": [],
   "source": [
    "# replace nan in Type of Program Financing with \"None\"\n",
    "# code not working yet. replaces all nans in the df with None\n",
    "#df.loc[df[\"Type of Program Financing\"].isna()] = \"None\""
   ],
   "metadata": {
    "collapsed": false
   }
  },
  {
   "cell_type": "markdown",
   "source": [
    "## home_performance_project_id"
   ],
   "metadata": {
    "collapsed": false
   }
  },
  {
   "cell_type": "code",
   "execution_count": 281,
   "outputs": [
    {
     "data": {
      "text/plain": "428275          2\nP00000851554    2\n346123          2\n387339          2\n315721          2\n               ..\nP00000883459    1\nP00000971469    1\nP00001002123    1\nP00000970398    1\nP00000725072    1\nName: home_performance_project_id, Length: 55809, dtype: int64"
     },
     "execution_count": 281,
     "metadata": {},
     "output_type": "execute_result"
    }
   ],
   "source": [
    "# how many Site IDs have more than 1 or 2 project IDs?\n",
    "over_1_project_id = (df[\"home_performance_project_id\"].value_counts() > 1).value_counts()\n",
    "over_2_project_id = (df[\"home_performance_project_id\"].value_counts() > 2).value_counts()\n",
    "df[\"home_performance_project_id\"].value_counts()"
   ],
   "metadata": {
    "collapsed": false
   }
  },
  {
   "cell_type": "markdown",
   "source": [
    "## couty, city, zipcode"
   ],
   "metadata": {
    "collapsed": false
   }
  },
  {
   "cell_type": "code",
   "execution_count": 284,
   "outputs": [],
   "source": [
    "# define variables for counties, cities and zipcodes\n",
    "counties = df[\"project_county\"].unique()\n",
    "cities = df[\"project_city\"].unique()\n",
    "zipcodes = df[\"project_zip\"].unique()"
   ],
   "metadata": {
    "collapsed": false
   }
  },
  {
   "cell_type": "markdown",
   "source": [
    "## electric_utility"
   ],
   "metadata": {
    "collapsed": false
   }
  },
  {
   "cell_type": "code",
   "execution_count": 199,
   "outputs": [
    {
     "data": {
      "text/plain": "array(['National Grid', 'New York State Electric & Gas',\n       'Rochester Gas & Electric', 'Consolidated Edison',\n       'Long Island Power Authority', 'Orange & Rockland',\n       'Central Hudson Gas & Electric', 'Municipal (Not Qualified)'],\n      dtype=object)"
     },
     "execution_count": 199,
     "metadata": {},
     "output_type": "execute_result"
    }
   ],
   "source": [
    "# show electric utility operators\n",
    "df[\"electric_utility\"].unique()"
   ],
   "metadata": {
    "collapsed": false
   }
  },
  {
   "cell_type": "markdown",
   "source": [
    "## project_completion_date"
   ],
   "metadata": {
    "collapsed": false
   }
  },
  {
   "cell_type": "code",
   "execution_count": 276,
   "outputs": [],
   "source": [
    "# convert project completion date to datetime format with pandas\n",
    "df[\"project_completion_date\"] = pd.to_datetime(df[\"project_completion_date\"])"
   ],
   "metadata": {
    "collapsed": false
   }
  },
  {
   "cell_type": "code",
   "execution_count": 277,
   "outputs": [],
   "source": [
    "# get years from Project Completion Date\n",
    "df[\"year\"] = df[\"project_completion_date\"].apply(lambda x: x.year)"
   ],
   "metadata": {
    "collapsed": false
   }
  },
  {
   "cell_type": "code",
   "execution_count": 280,
   "outputs": [
    {
     "data": {
      "text/plain": "2016    7016\n2015    6568\n2019    5804\n2014    5799\n2011    5470\n2013    5360\n2017    5187\n2018    5116\n2012    5106\n2020    3084\n2010     898\n2021     422\nName: year, dtype: int64"
     },
     "execution_count": 280,
     "metadata": {},
     "output_type": "execute_result"
    }
   ],
   "source": [
    "# How many projects per year?\n",
    "df[\"year\"].value_counts()"
   ],
   "metadata": {
    "collapsed": false
   }
  },
  {
   "cell_type": "markdown",
   "source": [
    "## customer_type"
   ],
   "metadata": {
    "collapsed": false
   }
  },
  {
   "cell_type": "code",
   "execution_count": 288,
   "outputs": [
    {
     "data": {
      "text/plain": "Market      34085\nAssisted    21745\nName: customer_type, dtype: int64"
     },
     "execution_count": 288,
     "metadata": {},
     "output_type": "execute_result"
    }
   ],
   "source": [
    "df[\"customer_type\"].value_counts()"
   ],
   "metadata": {
    "collapsed": false
   }
  },
  {
   "cell_type": "markdown",
   "source": [
    "## low-rise_rise_or_home_performance_indicator"
   ],
   "metadata": {
    "collapsed": false
   }
  },
  {
   "cell_type": "code",
   "execution_count": 292,
   "outputs": [
    {
     "data": {
      "text/plain": "Home Performance    55830\nName: low-rise_or_home_performance_indicator, dtype: int64"
     },
     "execution_count": 292,
     "metadata": {},
     "output_type": "execute_result"
    }
   ],
   "source": [
    "df[\"low-rise_or_home_performance_indicator\"].value_counts()"
   ],
   "metadata": {
    "collapsed": false
   }
  },
  {
   "cell_type": "markdown",
   "source": [
    "## total project cost"
   ],
   "metadata": {
    "collapsed": false
   }
  },
  {
   "cell_type": "code",
   "execution_count": 295,
   "outputs": [
    {
     "data": {
      "text/plain": "count    55830.000000\nmean      8572.804263\nstd       5582.971049\nmin          0.000000\n25%       4700.000000\n50%       7286.000000\n75%      10757.000000\nmax      85290.000000\nName: total_project_cost, dtype: float64"
     },
     "execution_count": 295,
     "metadata": {},
     "output_type": "execute_result"
    }
   ],
   "source": [
    "df[\"total_project_cost\"].describe()"
   ],
   "metadata": {
    "collapsed": false
   }
  },
  {
   "cell_type": "code",
   "execution_count": 313,
   "outputs": [],
   "source": [
    "# remove null value in total_project_cost (it's only one!)\n",
    "df = df.loc[(df[\"total_project_cost\"] != 0)]"
   ],
   "metadata": {
    "collapsed": false
   }
  },
  {
   "cell_type": "code",
   "execution_count": 326,
   "outputs": [
    {
     "data": {
      "text/plain": "<AxesSubplot:xlabel='total_project_cost', ylabel='Count'>"
     },
     "execution_count": 326,
     "metadata": {},
     "output_type": "execute_result"
    },
    {
     "data": {
      "text/plain": "<Figure size 640x480 with 1 Axes>",
      "image/png": "[encoded data removed]"
     },
     "metadata": {},
     "output_type": "display_data"
    }
   ],
   "source": [
    "sns.histplot(df[\"total_project_cost\"])"
   ],
   "metadata": {
    "collapsed": false
   }
  },
  {
   "cell_type": "markdown",
   "source": [
    "## total_incentives"
   ],
   "metadata": {
    "collapsed": false
   }
  },
  {
   "cell_type": "code",
   "execution_count": 314,
   "outputs": [
    {
     "data": {
      "text/plain": "count    55829.000000\nmean      1687.341418\nstd       1705.700525\nmin          0.000000\n25%        301.000000\n50%       1004.000000\n75%       2899.000000\nmax      10000.000000\nName: total_incentives, dtype: float64"
     },
     "execution_count": 314,
     "metadata": {},
     "output_type": "execute_result"
    }
   ],
   "source": [
    "df[\"total_incentives\"].describe()"
   ],
   "metadata": {
    "collapsed": false
   }
  },
  {
   "cell_type": "code",
   "execution_count": 316,
   "outputs": [
    {
     "data": {
      "text/plain": "False    44697\nTrue     11132\nName: total_incentives, dtype: int64"
     },
     "execution_count": 316,
     "metadata": {},
     "output_type": "execute_result"
    }
   ],
   "source": [
    "(df[\"total_incentives\"]==0).value_counts()"
   ],
   "metadata": {
    "collapsed": false
   }
  },
  {
   "cell_type": "code",
   "execution_count": 327,
   "outputs": [
    {
     "data": {
      "text/plain": "<AxesSubplot:xlabel='total_incentives', ylabel='Count'>"
     },
     "execution_count": 327,
     "metadata": {},
     "output_type": "execute_result"
    },
    {
     "data": {
      "text/plain": "<Figure size 640x480 with 1 Axes>",
      "image/png": "[encoded data removed]"
     },
     "metadata": {},
     "output_type": "display_data"
    }
   ],
   "source": [
    "sns.histplot(df[\"total_incentives\"])"
   ],
   "metadata": {
    "collapsed": false
   }
  },
  {
   "cell_type": "markdown",
   "source": [
    "## type_of_program_financing"
   ],
   "metadata": {
    "collapsed": false
   }
  },
  {
   "cell_type": "code",
   "execution_count": 318,
   "outputs": [
    {
     "data": {
      "text/plain": "Green Jobs - Green NY Smart Energy Loan        14474\nGreen Jobs - Green NY On-Bill Recovery Loan     3689\nESMART                                           219\nESTAR                                             83\nName: type_of_program_financing, dtype: int64"
     },
     "execution_count": 318,
     "metadata": {},
     "output_type": "execute_result"
    }
   ],
   "source": [
    "df[\"type_of_program_financing\"].value_counts()"
   ],
   "metadata": {
    "collapsed": false
   }
  },
  {
   "cell_type": "code",
   "execution_count": 320,
   "outputs": [
    {
     "data": {
      "text/plain": "True     37364\nFalse    18465\nName: type_of_program_financing, dtype: int64"
     },
     "execution_count": 320,
     "metadata": {},
     "output_type": "execute_result"
    }
   ],
   "source": [
    "df[\"type_of_program_financing\"].isna().value_counts()"
   ],
   "metadata": {
    "collapsed": false
   }
  },
  {
   "cell_type": "markdown",
   "source": [
    "## amount_financed_through_program"
   ],
   "metadata": {
    "collapsed": false
   }
  },
  {
   "cell_type": "code",
   "execution_count": 323,
   "outputs": [
    {
     "data": {
      "text/plain": "count    55829.000000\nmean      2805.029107\nstd       5084.069034\nmin          0.000000\n25%          0.000000\n50%          0.000000\n75%       4307.000000\nmax      25000.000000\nName: amount_financed_through_program, dtype: float64"
     },
     "execution_count": 323,
     "metadata": {},
     "output_type": "execute_result"
    }
   ],
   "source": [
    "df[\"amount_financed_through_program\"].describe()"
   ],
   "metadata": {
    "collapsed": false
   }
  },
  {
   "cell_type": "code",
   "execution_count": 337,
   "outputs": [
    {
     "data": {
      "text/plain": "<AxesSubplot:xlabel='amount_financed_through_program', ylabel='Count'>"
     },
     "execution_count": 337,
     "metadata": {},
     "output_type": "execute_result"
    },
    {
     "data": {
      "text/plain": "<Figure size 640x480 with 1 Axes>",
      "image/png": "[encoded data removed]"
     },
     "metadata": {},
     "output_type": "display_data"
    }
   ],
   "source": [
    "# histogram of all non-zero values in amount_financed_through_program\n",
    "sns.histplot(df[\"amount_financed_through_program\"].loc[df[\"amount_financed_through_program\"] != 0])"
   ],
   "metadata": {
    "collapsed": false
   }
  },
  {
   "cell_type": "markdown",
   "source": [
    "## year_home_built"
   ],
   "metadata": {
    "collapsed": false
   }
  },
  {
   "cell_type": "code",
   "execution_count": 113,
   "outputs": [],
   "source": [
    "# drop all rows where Year Built == nan (drops around 20.000 rows)\n",
    "df = df.loc[df[\"year_home_built\"].notna()]"
   ],
   "metadata": {
    "collapsed": false
   }
  },
  {
   "cell_type": "code",
   "execution_count": 353,
   "outputs": [
    {
     "data": {
      "text/plain": "\"{'type': 'Point', 'coordinates': [-75.16936, 43.241398]}\""
     },
     "execution_count": 353,
     "metadata": {},
     "output_type": "execute_result"
    }
   ],
   "source": [
    "# google says \"latitude and longitude\" --> change order\n",
    "df[\"new_georeferenced_column\"][0]"
   ],
   "metadata": {
    "collapsed": false
   }
  }
 ],
 "metadata": {
  "kernelspec": {
   "display_name": "Python 3",
   "language": "python",
   "name": "python3"
  },
  "language_info": {
   "codemirror_mode": {
    "name": "ipython",
    "version": 2
   },
   "file_extension": ".py",
   "mimetype": "text/x-python",
   "name": "python",
   "nbconvert_exporter": "python",
   "pygments_lexer": "ipython2",
   "version": "2.7.6"
  }
 },
 "nbformat": 4,
 "nbformat_minor": 0
}
