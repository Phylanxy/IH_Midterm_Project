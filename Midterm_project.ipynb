{
 "cells": [
  {
   "cell_type": "markdown",
   "source": [
    "# Building Energy Efficiency Analysis"
   ],
   "metadata": {
    "collapsed": false
   }
  },
  {
   "cell_type": "markdown",
   "source": [
    "## Unifying column names"
   ],
   "metadata": {
    "collapsed": false
   }
  },
  {
   "cell_type": "markdown",
   "source": [],
   "metadata": {
    "collapsed": false
   }
  },
  {
   "cell_type": "code",
   "execution_count": 1,
   "outputs": [],
   "source": [
    "import pandas as pd\n",
    "import numpy as np\n",
    "import seaborn as sns\n",
    "import matplotlib.pyplot as plt"
   ],
   "metadata": {
    "collapsed": false
   }
  },
  {
   "cell_type": "code",
   "execution_count": 2,
   "outputs": [],
   "source": [
    "# import dataframe\n",
    "df = pd.read_csv(\"nys_homes.csv\")"
   ],
   "metadata": {
    "collapsed": false
   }
  },
  {
   "cell_type": "code",
   "execution_count": 3,
   "outputs": [],
   "source": [
    "#Function to rename columns\n",
    "def rename_df(df, rename_dict):\n",
    "    df.rename(columns = rename_dict, inplace=True)\n",
    "    return df"
   ],
   "metadata": {
    "collapsed": false
   }
  },
  {
   "cell_type": "code",
   "execution_count": 4,
   "outputs": [],
   "source": [
    "#Function to transform each column into small capital letters\n",
    "def column_into_small_letters(df):\n",
    "    for column in df.columns:\n",
    "        df.rename(columns = {column:column.replace(\" \", \"_\").lower()}, inplace = True)\n",
    "    return df"
   ],
   "metadata": {
    "collapsed": false
   }
  },
  {
   "cell_type": "code",
   "execution_count": 5,
   "outputs": [],
   "source": [
    "#Function to unify entries in column according to given translator dictionary\n",
    "def unify_column_entries(df, translator, column):\n",
    "    df.replace({column: translator}, inplace = True)\n",
    "    return df"
   ],
   "metadata": {
    "collapsed": false
   }
  },
  {
   "cell_type": "code",
   "execution_count": 6,
   "outputs": [
    {
     "data": {
      "text/plain": "              Reporting Period Home Performance Project ID  \\\n0      2020-02-12T00:00:00.000                      483911   \n1      2020-02-12T00:00:00.000                      486389   \n2      2020-02-12T00:00:00.000                      483374   \n3      2020-02-12T00:00:00.000                      475733   \n4      2020-02-12T00:00:00.000                      483731   \n...                        ...                         ...   \n55825  2020-02-12T00:00:00.000                P00000721450   \n55826  2020-02-12T00:00:00.000                P00000727276   \n55827  2020-02-12T00:00:00.000                P00000726343   \n55828  2020-02-12T00:00:00.000                P00000727199   \n55829  2020-02-12T00:00:00.000                P00000725072   \n\n      Home Performance Site ID Project County Project City  Project Zip  \\\n0                       357221         Oneida    Barneveld        13304   \n1                       343438          Wayne      Palmyra        14522   \n2                       356880           Erie      Buffalo        14215   \n3                       350454         Oneida         Rome        13440   \n4                       356491     Livingston         Lima        14485   \n...                        ...            ...          ...          ...   \n55825             S00000124921           Erie        Depew        14043   \n55826             S00000130155    Schenectady  Schenectady        12303   \n55827             S00000129326       Tompkins    Freeville        13068   \n55828             S00000130090         Monroe    Rochester        14617   \n55829             S00000128120         Monroe    Rochester        14624   \n\n                 Gas Utility Provider      Electric Utility Provider  \\\n0                                 NaN                  National Grid   \n1                                 NaN  New York State Electric & Gas   \n2      National Fuel Gas Distribution                  National Grid   \n3                                 NaN                  National Grid   \n4                                 NaN                  National Grid   \n...                               ...                            ...   \n55825  National Fuel Gas Distribution  New York State Electric & Gas   \n55826                   National Grid                  National Grid   \n55827   New York State Electric & Gas  New York State Electric & Gas   \n55828        Rochester Gas & Electric       Rochester Gas & Electric   \n55829        Rochester Gas & Electric       Rochester Gas & Electric   \n\n       Project Completion Date Customer Type  ... Number of Units  \\\n0      2021-01-16T00:00:00.000      Assisted  ...             1.0   \n1      2021-01-06T00:00:00.000      Assisted  ...             1.0   \n2      2020-12-15T00:00:00.000      Assisted  ...             1.0   \n3      2020-12-09T00:00:00.000      Assisted  ...             1.0   \n4      2020-12-08T00:00:00.000      Assisted  ...             1.0   \n...                        ...           ...  ...             ...   \n55825  2010-11-15T00:00:00.000        Market  ...             1.0   \n55826  2011-01-28T00:00:00.000      Assisted  ...             1.0   \n55827  2011-01-13T00:00:00.000        Market  ...             1.0   \n55828  2010-12-26T00:00:00.000        Market  ...             1.0   \n55829  2011-02-01T00:00:00.000        Market  ...             1.0   \n\n         Measure Type  Estimated Annual Electricity kWh Savings  \\\n0      Building Shell                                         0   \n1      Building Shell                                       309   \n2      Building Shell                                         0   \n3      Building Shell                                         0   \n4      Building Shell                                         0   \n...               ...                                       ...   \n55825  Building Shell                                         0   \n55826  Building Shell                                         0   \n55827  Building Shell                                         0   \n55828  Building Shell                                       601   \n55829  Building Shell                                         0   \n\n      Estimated Annual Water Heating MMBtu Savings  \\\n0                                               27   \n1                                                3   \n2                                                8   \n3                                               28   \n4                                                6   \n...                                            ...   \n55825                                           24   \n55826                                           33   \n55827                                           16   \n55828                                           11   \n55829                                            1   \n\n       First Year Energy Savings $ Estimate  \\\n0                                       474   \n1                                       111   \n2                                        61   \n3                                       681   \n4                                       146   \n...                                     ...   \n55825                                   340   \n55826                                   823   \n55827                                   887   \n55828                                   258   \n55829                                     9   \n\n      Homeowner Received Free/Reduced Cost Audit?  \\\n0                                               Y   \n1                                               Y   \n2                                               Y   \n3                                               Y   \n4                                               Y   \n...                                           ...   \n55825                                           N   \n55826                                           N   \n55827                                           N   \n55828                                           N   \n55829                                           N   \n\n                                                Location  New York Zip Codes  \\\n0      {'type': 'Point', 'coordinates': [-75.16936, 4...               764.0   \n1      {'type': 'Point', 'coordinates': [-77.218837, ...               364.0   \n2      {'type': 'Point', 'coordinates': [-78.808435, ...                71.0   \n3      {'type': 'Point', 'coordinates': [-75.454665, ...              1366.0   \n4      {'type': 'Point', 'coordinates': [-77.603561, ...               312.0   \n...                                                  ...                 ...   \n55825  {'type': 'Point', 'coordinates': [-78.702553, ...               506.0   \n55826  {'type': 'Point', 'coordinates': [-73.932117, ...                72.0   \n55827  {'type': 'Point', 'coordinates': [-76.359264, ...               622.0   \n55828  {'type': 'Point', 'coordinates': [-77.597999, ...              1676.0   \n55829  {'type': 'Point', 'coordinates': [-77.729647, ...              1683.0   \n\n       Counties 2  NYS Municipal Boundaries 2  \n0           625.0                         985  \n1           631.0                         631  \n2          2041.0                         300  \n3           625.0                         989  \n4          2091.0                         742  \n...           ...                         ...  \n55825      2041.0                         298  \n55826      2030.0                         832  \n55827      2181.0                         712  \n55828      2093.0                         545  \n55829      2093.0                         549  \n\n[55830 rows x 29 columns]",
      "text/html": "<div>\n<style scoped>\n    .dataframe tbody tr th:only-of-type {\n        vertical-align: middle;\n    }\n\n    .dataframe tbody tr th {\n        vertical-align: top;\n    }\n\n    .dataframe thead th {\n        text-align: right;\n    }\n</style>\n<table border=\"1\" class=\"dataframe\">\n  <thead>\n    <tr style=\"text-align: right;\">\n      <th></th>\n      <th>Reporting Period</th>\n      <th>Home Performance Project ID</th>\n      <th>Home Performance Site ID</th>\n      <th>Project County</th>\n      <th>Project City</th>\n      <th>Project Zip</th>\n      <th>Gas Utility Provider</th>\n      <th>Electric Utility Provider</th>\n      <th>Project Completion Date</th>\n      <th>Customer Type</th>\n      <th>...</th>\n      <th>Number of Units</th>\n      <th>Measure Type</th>\n      <th>Estimated Annual Electricity kWh Savings</th>\n      <th>Estimated Annual Water Heating MMBtu Savings</th>\n      <th>First Year Energy Savings $ Estimate</th>\n      <th>Homeowner Received Free/Reduced Cost Audit?</th>\n      <th>Location</th>\n      <th>New York Zip Codes</th>\n      <th>Counties 2</th>\n      <th>NYS Municipal Boundaries 2</th>\n    </tr>\n  </thead>\n  <tbody>\n    <tr>\n      <th>0</th>\n      <td>2020-02-12T00:00:00.000</td>\n      <td>483911</td>\n      <td>357221</td>\n      <td>Oneida</td>\n      <td>Barneveld</td>\n      <td>13304</td>\n      <td>NaN</td>\n      <td>National Grid</td>\n      <td>2021-01-16T00:00:00.000</td>\n      <td>Assisted</td>\n      <td>...</td>\n      <td>1.0</td>\n      <td>Building Shell</td>\n      <td>0</td>\n      <td>27</td>\n      <td>474</td>\n      <td>Y</td>\n      <td>{'type': 'Point', 'coordinates': [-75.16936, 4...</td>\n      <td>764.0</td>\n      <td>625.0</td>\n      <td>985</td>\n    </tr>\n    <tr>\n      <th>1</th>\n      <td>2020-02-12T00:00:00.000</td>\n      <td>486389</td>\n      <td>343438</td>\n      <td>Wayne</td>\n      <td>Palmyra</td>\n      <td>14522</td>\n      <td>NaN</td>\n      <td>New York State Electric &amp; Gas</td>\n      <td>2021-01-06T00:00:00.000</td>\n      <td>Assisted</td>\n      <td>...</td>\n      <td>1.0</td>\n      <td>Building Shell</td>\n      <td>309</td>\n      <td>3</td>\n      <td>111</td>\n      <td>Y</td>\n      <td>{'type': 'Point', 'coordinates': [-77.218837, ...</td>\n      <td>364.0</td>\n      <td>631.0</td>\n      <td>631</td>\n    </tr>\n    <tr>\n      <th>2</th>\n      <td>2020-02-12T00:00:00.000</td>\n      <td>483374</td>\n      <td>356880</td>\n      <td>Erie</td>\n      <td>Buffalo</td>\n      <td>14215</td>\n      <td>National Fuel Gas Distribution</td>\n      <td>National Grid</td>\n      <td>2020-12-15T00:00:00.000</td>\n      <td>Assisted</td>\n      <td>...</td>\n      <td>1.0</td>\n      <td>Building Shell</td>\n      <td>0</td>\n      <td>8</td>\n      <td>61</td>\n      <td>Y</td>\n      <td>{'type': 'Point', 'coordinates': [-78.808435, ...</td>\n      <td>71.0</td>\n      <td>2041.0</td>\n      <td>300</td>\n    </tr>\n    <tr>\n      <th>3</th>\n      <td>2020-02-12T00:00:00.000</td>\n      <td>475733</td>\n      <td>350454</td>\n      <td>Oneida</td>\n      <td>Rome</td>\n      <td>13440</td>\n      <td>NaN</td>\n      <td>National Grid</td>\n      <td>2020-12-09T00:00:00.000</td>\n      <td>Assisted</td>\n      <td>...</td>\n      <td>1.0</td>\n      <td>Building Shell</td>\n      <td>0</td>\n      <td>28</td>\n      <td>681</td>\n      <td>Y</td>\n      <td>{'type': 'Point', 'coordinates': [-75.454665, ...</td>\n      <td>1366.0</td>\n      <td>625.0</td>\n      <td>989</td>\n    </tr>\n    <tr>\n      <th>4</th>\n      <td>2020-02-12T00:00:00.000</td>\n      <td>483731</td>\n      <td>356491</td>\n      <td>Livingston</td>\n      <td>Lima</td>\n      <td>14485</td>\n      <td>NaN</td>\n      <td>National Grid</td>\n      <td>2020-12-08T00:00:00.000</td>\n      <td>Assisted</td>\n      <td>...</td>\n      <td>1.0</td>\n      <td>Building Shell</td>\n      <td>0</td>\n      <td>6</td>\n      <td>146</td>\n      <td>Y</td>\n      <td>{'type': 'Point', 'coordinates': [-77.603561, ...</td>\n      <td>312.0</td>\n      <td>2091.0</td>\n      <td>742</td>\n    </tr>\n    <tr>\n      <th>...</th>\n      <td>...</td>\n      <td>...</td>\n      <td>...</td>\n      <td>...</td>\n      <td>...</td>\n      <td>...</td>\n      <td>...</td>\n      <td>...</td>\n      <td>...</td>\n      <td>...</td>\n      <td>...</td>\n      <td>...</td>\n      <td>...</td>\n      <td>...</td>\n      <td>...</td>\n      <td>...</td>\n      <td>...</td>\n      <td>...</td>\n      <td>...</td>\n      <td>...</td>\n      <td>...</td>\n    </tr>\n    <tr>\n      <th>55825</th>\n      <td>2020-02-12T00:00:00.000</td>\n      <td>P00000721450</td>\n      <td>S00000124921</td>\n      <td>Erie</td>\n      <td>Depew</td>\n      <td>14043</td>\n      <td>National Fuel Gas Distribution</td>\n      <td>New York State Electric &amp; Gas</td>\n      <td>2010-11-15T00:00:00.000</td>\n      <td>Market</td>\n      <td>...</td>\n      <td>1.0</td>\n      <td>Building Shell</td>\n      <td>0</td>\n      <td>24</td>\n      <td>340</td>\n      <td>N</td>\n      <td>{'type': 'Point', 'coordinates': [-78.702553, ...</td>\n      <td>506.0</td>\n      <td>2041.0</td>\n      <td>298</td>\n    </tr>\n    <tr>\n      <th>55826</th>\n      <td>2020-02-12T00:00:00.000</td>\n      <td>P00000727276</td>\n      <td>S00000130155</td>\n      <td>Schenectady</td>\n      <td>Schenectady</td>\n      <td>12303</td>\n      <td>National Grid</td>\n      <td>National Grid</td>\n      <td>2011-01-28T00:00:00.000</td>\n      <td>Assisted</td>\n      <td>...</td>\n      <td>1.0</td>\n      <td>Building Shell</td>\n      <td>0</td>\n      <td>33</td>\n      <td>823</td>\n      <td>N</td>\n      <td>{'type': 'Point', 'coordinates': [-73.932117, ...</td>\n      <td>72.0</td>\n      <td>2030.0</td>\n      <td>832</td>\n    </tr>\n    <tr>\n      <th>55827</th>\n      <td>2020-02-12T00:00:00.000</td>\n      <td>P00000726343</td>\n      <td>S00000129326</td>\n      <td>Tompkins</td>\n      <td>Freeville</td>\n      <td>13068</td>\n      <td>New York State Electric &amp; Gas</td>\n      <td>New York State Electric &amp; Gas</td>\n      <td>2011-01-13T00:00:00.000</td>\n      <td>Market</td>\n      <td>...</td>\n      <td>1.0</td>\n      <td>Building Shell</td>\n      <td>0</td>\n      <td>16</td>\n      <td>887</td>\n      <td>N</td>\n      <td>{'type': 'Point', 'coordinates': [-76.359264, ...</td>\n      <td>622.0</td>\n      <td>2181.0</td>\n      <td>712</td>\n    </tr>\n    <tr>\n      <th>55828</th>\n      <td>2020-02-12T00:00:00.000</td>\n      <td>P00000727199</td>\n      <td>S00000130090</td>\n      <td>Monroe</td>\n      <td>Rochester</td>\n      <td>14617</td>\n      <td>Rochester Gas &amp; Electric</td>\n      <td>Rochester Gas &amp; Electric</td>\n      <td>2010-12-26T00:00:00.000</td>\n      <td>Market</td>\n      <td>...</td>\n      <td>1.0</td>\n      <td>Building Shell</td>\n      <td>601</td>\n      <td>11</td>\n      <td>258</td>\n      <td>N</td>\n      <td>{'type': 'Point', 'coordinates': [-77.597999, ...</td>\n      <td>1676.0</td>\n      <td>2093.0</td>\n      <td>545</td>\n    </tr>\n    <tr>\n      <th>55829</th>\n      <td>2020-02-12T00:00:00.000</td>\n      <td>P00000725072</td>\n      <td>S00000128120</td>\n      <td>Monroe</td>\n      <td>Rochester</td>\n      <td>14624</td>\n      <td>Rochester Gas &amp; Electric</td>\n      <td>Rochester Gas &amp; Electric</td>\n      <td>2011-02-01T00:00:00.000</td>\n      <td>Market</td>\n      <td>...</td>\n      <td>1.0</td>\n      <td>Building Shell</td>\n      <td>0</td>\n      <td>1</td>\n      <td>9</td>\n      <td>N</td>\n      <td>{'type': 'Point', 'coordinates': [-77.729647, ...</td>\n      <td>1683.0</td>\n      <td>2093.0</td>\n      <td>549</td>\n    </tr>\n  </tbody>\n</table>\n<p>55830 rows × 29 columns</p>\n</div>"
     },
     "execution_count": 6,
     "metadata": {},
     "output_type": "execute_result"
    }
   ],
   "source": [
    "#Function to rename columns\n",
    "new_clm_names = {\"Reporting Period\": \"Reporting Period\",\n",
    "              \"Home Performance Project ID\": \"Home Performance Project ID\",\n",
    "              \"Home Performance Site ID\": \"Home Performance Site ID\",\n",
    "              \"Project County\": \"Project County\",\n",
    "              \"Project City\": \"Project City\",\n",
    "              \"Project Zip\": \"Project Zip\",\n",
    "              \"Gas Utility\": \"Gas Utility Provider\",\n",
    "              \"Electric Utility\": \"Electric Utility Provider\",\n",
    "              \"Project Completion Date\": \"Project Completion Date\",\n",
    "              \"Customer Type\": \"Customer Type\",\n",
    "              \"Low-Rise or Home Performance Indicator\": \"Job Type\",\n",
    "              \"Total Project Cost\": \"Total Project Cost\",\n",
    "              \"Total Incentives\": \"Total Incentives\",\n",
    "              \"Type of Program Financing\": \"Type of Program Financing\",\n",
    "              \"Amount Financed Through Program\": \"Amount Financed Through Program\",\n",
    "              \"Pre-Retrofit Home Heating Fuel Type\": \"Pre-Retrofit Home Heating Fuel Type\",\n",
    "              \"Year Home Built\": \"Year Home Built\",\n",
    "              \"Size of Home\": \"Size of Home\",\n",
    "              \"Volume of Home\": \"Volume of Home\",\n",
    "              \"Number of Units\": \"Number of Units\",\n",
    "              \"Measure Type\": \"Measure Type\",\n",
    "              \"Estimated Annual kWh Savings\": \"Estimated Annual Electricity kWh Savings\",\n",
    "              \"Estimated Annual MMBtu Savings\": \"Estimated Annual Water Heating MMBtu Savings\",\n",
    "              \"First Year Energy Savings $ Estimate\": \"First Year Energy Savings $ Estimate\",\n",
    "              \"Homeowner Received Green Jobs-Green NY Free/Reduced Cost Audit (Y/N)\": \"Homeowner Received Free/Reduced Cost Audit?\",\n",
    "              \"New Georeferenced Column\": \"Location\",\n",
    "              \"New York Zip Codes 2\": \"New York Zip Codes\",\n",
    "              \"Counties 2\": \"Counties 2\",\n",
    "              \"NYS Municipal Boundaries 2\": \"NYS Municipal Boundaries 2\"}\n",
    "\n",
    "rename_df(df, new_clm_names)"
   ],
   "metadata": {
    "collapsed": false
   }
  },
  {
   "cell_type": "code",
   "execution_count": 7,
   "outputs": [
    {
     "data": {
      "text/plain": "              reporting_period home_performance_project_id  \\\n0      2020-02-12T00:00:00.000                      483911   \n1      2020-02-12T00:00:00.000                      486389   \n2      2020-02-12T00:00:00.000                      483374   \n3      2020-02-12T00:00:00.000                      475733   \n4      2020-02-12T00:00:00.000                      483731   \n...                        ...                         ...   \n55825  2020-02-12T00:00:00.000                P00000721450   \n55826  2020-02-12T00:00:00.000                P00000727276   \n55827  2020-02-12T00:00:00.000                P00000726343   \n55828  2020-02-12T00:00:00.000                P00000727199   \n55829  2020-02-12T00:00:00.000                P00000725072   \n\n      home_performance_site_id project_county project_city  project_zip  \\\n0                       357221         Oneida    Barneveld        13304   \n1                       343438          Wayne      Palmyra        14522   \n2                       356880           Erie      Buffalo        14215   \n3                       350454         Oneida         Rome        13440   \n4                       356491     Livingston         Lima        14485   \n...                        ...            ...          ...          ...   \n55825             S00000124921           Erie        Depew        14043   \n55826             S00000130155    Schenectady  Schenectady        12303   \n55827             S00000129326       Tompkins    Freeville        13068   \n55828             S00000130090         Monroe    Rochester        14617   \n55829             S00000128120         Monroe    Rochester        14624   \n\n                 gas_utility_provider      electric_utility_provider  \\\n0                                 NaN                  National Grid   \n1                                 NaN  New York State Electric & Gas   \n2      National Fuel Gas Distribution                  National Grid   \n3                                 NaN                  National Grid   \n4                                 NaN                  National Grid   \n...                               ...                            ...   \n55825  National Fuel Gas Distribution  New York State Electric & Gas   \n55826                   National Grid                  National Grid   \n55827   New York State Electric & Gas  New York State Electric & Gas   \n55828        Rochester Gas & Electric       Rochester Gas & Electric   \n55829        Rochester Gas & Electric       Rochester Gas & Electric   \n\n       project_completion_date customer_type  ... number_of_units  \\\n0      2021-01-16T00:00:00.000      Assisted  ...             1.0   \n1      2021-01-06T00:00:00.000      Assisted  ...             1.0   \n2      2020-12-15T00:00:00.000      Assisted  ...             1.0   \n3      2020-12-09T00:00:00.000      Assisted  ...             1.0   \n4      2020-12-08T00:00:00.000      Assisted  ...             1.0   \n...                        ...           ...  ...             ...   \n55825  2010-11-15T00:00:00.000        Market  ...             1.0   \n55826  2011-01-28T00:00:00.000      Assisted  ...             1.0   \n55827  2011-01-13T00:00:00.000        Market  ...             1.0   \n55828  2010-12-26T00:00:00.000        Market  ...             1.0   \n55829  2011-02-01T00:00:00.000        Market  ...             1.0   \n\n         measure_type  estimated_annual_electricity_kwh_savings  \\\n0      Building Shell                                         0   \n1      Building Shell                                       309   \n2      Building Shell                                         0   \n3      Building Shell                                         0   \n4      Building Shell                                         0   \n...               ...                                       ...   \n55825  Building Shell                                         0   \n55826  Building Shell                                         0   \n55827  Building Shell                                         0   \n55828  Building Shell                                       601   \n55829  Building Shell                                         0   \n\n      estimated_annual_water_heating_mmbtu_savings  \\\n0                                               27   \n1                                                3   \n2                                                8   \n3                                               28   \n4                                                6   \n...                                            ...   \n55825                                           24   \n55826                                           33   \n55827                                           16   \n55828                                           11   \n55829                                            1   \n\n       first_year_energy_savings_$_estimate  \\\n0                                       474   \n1                                       111   \n2                                        61   \n3                                       681   \n4                                       146   \n...                                     ...   \n55825                                   340   \n55826                                   823   \n55827                                   887   \n55828                                   258   \n55829                                     9   \n\n      homeowner_received_free/reduced_cost_audit?  \\\n0                                               Y   \n1                                               Y   \n2                                               Y   \n3                                               Y   \n4                                               Y   \n...                                           ...   \n55825                                           N   \n55826                                           N   \n55827                                           N   \n55828                                           N   \n55829                                           N   \n\n                                                location  new_york_zip_codes  \\\n0      {'type': 'Point', 'coordinates': [-75.16936, 4...               764.0   \n1      {'type': 'Point', 'coordinates': [-77.218837, ...               364.0   \n2      {'type': 'Point', 'coordinates': [-78.808435, ...                71.0   \n3      {'type': 'Point', 'coordinates': [-75.454665, ...              1366.0   \n4      {'type': 'Point', 'coordinates': [-77.603561, ...               312.0   \n...                                                  ...                 ...   \n55825  {'type': 'Point', 'coordinates': [-78.702553, ...               506.0   \n55826  {'type': 'Point', 'coordinates': [-73.932117, ...                72.0   \n55827  {'type': 'Point', 'coordinates': [-76.359264, ...               622.0   \n55828  {'type': 'Point', 'coordinates': [-77.597999, ...              1676.0   \n55829  {'type': 'Point', 'coordinates': [-77.729647, ...              1683.0   \n\n       counties_2  nys_municipal_boundaries_2  \n0           625.0                         985  \n1           631.0                         631  \n2          2041.0                         300  \n3           625.0                         989  \n4          2091.0                         742  \n...           ...                         ...  \n55825      2041.0                         298  \n55826      2030.0                         832  \n55827      2181.0                         712  \n55828      2093.0                         545  \n55829      2093.0                         549  \n\n[55830 rows x 29 columns]",
      "text/html": "<div>\n<style scoped>\n    .dataframe tbody tr th:only-of-type {\n        vertical-align: middle;\n    }\n\n    .dataframe tbody tr th {\n        vertical-align: top;\n    }\n\n    .dataframe thead th {\n        text-align: right;\n    }\n</style>\n<table border=\"1\" class=\"dataframe\">\n  <thead>\n    <tr style=\"text-align: right;\">\n      <th></th>\n      <th>reporting_period</th>\n      <th>home_performance_project_id</th>\n      <th>home_performance_site_id</th>\n      <th>project_county</th>\n      <th>project_city</th>\n      <th>project_zip</th>\n      <th>gas_utility_provider</th>\n      <th>electric_utility_provider</th>\n      <th>project_completion_date</th>\n      <th>customer_type</th>\n      <th>...</th>\n      <th>number_of_units</th>\n      <th>measure_type</th>\n      <th>estimated_annual_electricity_kwh_savings</th>\n      <th>estimated_annual_water_heating_mmbtu_savings</th>\n      <th>first_year_energy_savings_$_estimate</th>\n      <th>homeowner_received_free/reduced_cost_audit?</th>\n      <th>location</th>\n      <th>new_york_zip_codes</th>\n      <th>counties_2</th>\n      <th>nys_municipal_boundaries_2</th>\n    </tr>\n  </thead>\n  <tbody>\n    <tr>\n      <th>0</th>\n      <td>2020-02-12T00:00:00.000</td>\n      <td>483911</td>\n      <td>357221</td>\n      <td>Oneida</td>\n      <td>Barneveld</td>\n      <td>13304</td>\n      <td>NaN</td>\n      <td>National Grid</td>\n      <td>2021-01-16T00:00:00.000</td>\n      <td>Assisted</td>\n      <td>...</td>\n      <td>1.0</td>\n      <td>Building Shell</td>\n      <td>0</td>\n      <td>27</td>\n      <td>474</td>\n      <td>Y</td>\n      <td>{'type': 'Point', 'coordinates': [-75.16936, 4...</td>\n      <td>764.0</td>\n      <td>625.0</td>\n      <td>985</td>\n    </tr>\n    <tr>\n      <th>1</th>\n      <td>2020-02-12T00:00:00.000</td>\n      <td>486389</td>\n      <td>343438</td>\n      <td>Wayne</td>\n      <td>Palmyra</td>\n      <td>14522</td>\n      <td>NaN</td>\n      <td>New York State Electric &amp; Gas</td>\n      <td>2021-01-06T00:00:00.000</td>\n      <td>Assisted</td>\n      <td>...</td>\n      <td>1.0</td>\n      <td>Building Shell</td>\n      <td>309</td>\n      <td>3</td>\n      <td>111</td>\n      <td>Y</td>\n      <td>{'type': 'Point', 'coordinates': [-77.218837, ...</td>\n      <td>364.0</td>\n      <td>631.0</td>\n      <td>631</td>\n    </tr>\n    <tr>\n      <th>2</th>\n      <td>2020-02-12T00:00:00.000</td>\n      <td>483374</td>\n      <td>356880</td>\n      <td>Erie</td>\n      <td>Buffalo</td>\n      <td>14215</td>\n      <td>National Fuel Gas Distribution</td>\n      <td>National Grid</td>\n      <td>2020-12-15T00:00:00.000</td>\n      <td>Assisted</td>\n      <td>...</td>\n      <td>1.0</td>\n      <td>Building Shell</td>\n      <td>0</td>\n      <td>8</td>\n      <td>61</td>\n      <td>Y</td>\n      <td>{'type': 'Point', 'coordinates': [-78.808435, ...</td>\n      <td>71.0</td>\n      <td>2041.0</td>\n      <td>300</td>\n    </tr>\n    <tr>\n      <th>3</th>\n      <td>2020-02-12T00:00:00.000</td>\n      <td>475733</td>\n      <td>350454</td>\n      <td>Oneida</td>\n      <td>Rome</td>\n      <td>13440</td>\n      <td>NaN</td>\n      <td>National Grid</td>\n      <td>2020-12-09T00:00:00.000</td>\n      <td>Assisted</td>\n      <td>...</td>\n      <td>1.0</td>\n      <td>Building Shell</td>\n      <td>0</td>\n      <td>28</td>\n      <td>681</td>\n      <td>Y</td>\n      <td>{'type': 'Point', 'coordinates': [-75.454665, ...</td>\n      <td>1366.0</td>\n      <td>625.0</td>\n      <td>989</td>\n    </tr>\n    <tr>\n      <th>4</th>\n      <td>2020-02-12T00:00:00.000</td>\n      <td>483731</td>\n      <td>356491</td>\n      <td>Livingston</td>\n      <td>Lima</td>\n      <td>14485</td>\n      <td>NaN</td>\n      <td>National Grid</td>\n      <td>2020-12-08T00:00:00.000</td>\n      <td>Assisted</td>\n      <td>...</td>\n      <td>1.0</td>\n      <td>Building Shell</td>\n      <td>0</td>\n      <td>6</td>\n      <td>146</td>\n      <td>Y</td>\n      <td>{'type': 'Point', 'coordinates': [-77.603561, ...</td>\n      <td>312.0</td>\n      <td>2091.0</td>\n      <td>742</td>\n    </tr>\n    <tr>\n      <th>...</th>\n      <td>...</td>\n      <td>...</td>\n      <td>...</td>\n      <td>...</td>\n      <td>...</td>\n      <td>...</td>\n      <td>...</td>\n      <td>...</td>\n      <td>...</td>\n      <td>...</td>\n      <td>...</td>\n      <td>...</td>\n      <td>...</td>\n      <td>...</td>\n      <td>...</td>\n      <td>...</td>\n      <td>...</td>\n      <td>...</td>\n      <td>...</td>\n      <td>...</td>\n      <td>...</td>\n    </tr>\n    <tr>\n      <th>55825</th>\n      <td>2020-02-12T00:00:00.000</td>\n      <td>P00000721450</td>\n      <td>S00000124921</td>\n      <td>Erie</td>\n      <td>Depew</td>\n      <td>14043</td>\n      <td>National Fuel Gas Distribution</td>\n      <td>New York State Electric &amp; Gas</td>\n      <td>2010-11-15T00:00:00.000</td>\n      <td>Market</td>\n      <td>...</td>\n      <td>1.0</td>\n      <td>Building Shell</td>\n      <td>0</td>\n      <td>24</td>\n      <td>340</td>\n      <td>N</td>\n      <td>{'type': 'Point', 'coordinates': [-78.702553, ...</td>\n      <td>506.0</td>\n      <td>2041.0</td>\n      <td>298</td>\n    </tr>\n    <tr>\n      <th>55826</th>\n      <td>2020-02-12T00:00:00.000</td>\n      <td>P00000727276</td>\n      <td>S00000130155</td>\n      <td>Schenectady</td>\n      <td>Schenectady</td>\n      <td>12303</td>\n      <td>National Grid</td>\n      <td>National Grid</td>\n      <td>2011-01-28T00:00:00.000</td>\n      <td>Assisted</td>\n      <td>...</td>\n      <td>1.0</td>\n      <td>Building Shell</td>\n      <td>0</td>\n      <td>33</td>\n      <td>823</td>\n      <td>N</td>\n      <td>{'type': 'Point', 'coordinates': [-73.932117, ...</td>\n      <td>72.0</td>\n      <td>2030.0</td>\n      <td>832</td>\n    </tr>\n    <tr>\n      <th>55827</th>\n      <td>2020-02-12T00:00:00.000</td>\n      <td>P00000726343</td>\n      <td>S00000129326</td>\n      <td>Tompkins</td>\n      <td>Freeville</td>\n      <td>13068</td>\n      <td>New York State Electric &amp; Gas</td>\n      <td>New York State Electric &amp; Gas</td>\n      <td>2011-01-13T00:00:00.000</td>\n      <td>Market</td>\n      <td>...</td>\n      <td>1.0</td>\n      <td>Building Shell</td>\n      <td>0</td>\n      <td>16</td>\n      <td>887</td>\n      <td>N</td>\n      <td>{'type': 'Point', 'coordinates': [-76.359264, ...</td>\n      <td>622.0</td>\n      <td>2181.0</td>\n      <td>712</td>\n    </tr>\n    <tr>\n      <th>55828</th>\n      <td>2020-02-12T00:00:00.000</td>\n      <td>P00000727199</td>\n      <td>S00000130090</td>\n      <td>Monroe</td>\n      <td>Rochester</td>\n      <td>14617</td>\n      <td>Rochester Gas &amp; Electric</td>\n      <td>Rochester Gas &amp; Electric</td>\n      <td>2010-12-26T00:00:00.000</td>\n      <td>Market</td>\n      <td>...</td>\n      <td>1.0</td>\n      <td>Building Shell</td>\n      <td>601</td>\n      <td>11</td>\n      <td>258</td>\n      <td>N</td>\n      <td>{'type': 'Point', 'coordinates': [-77.597999, ...</td>\n      <td>1676.0</td>\n      <td>2093.0</td>\n      <td>545</td>\n    </tr>\n    <tr>\n      <th>55829</th>\n      <td>2020-02-12T00:00:00.000</td>\n      <td>P00000725072</td>\n      <td>S00000128120</td>\n      <td>Monroe</td>\n      <td>Rochester</td>\n      <td>14624</td>\n      <td>Rochester Gas &amp; Electric</td>\n      <td>Rochester Gas &amp; Electric</td>\n      <td>2011-02-01T00:00:00.000</td>\n      <td>Market</td>\n      <td>...</td>\n      <td>1.0</td>\n      <td>Building Shell</td>\n      <td>0</td>\n      <td>1</td>\n      <td>9</td>\n      <td>N</td>\n      <td>{'type': 'Point', 'coordinates': [-77.729647, ...</td>\n      <td>1683.0</td>\n      <td>2093.0</td>\n      <td>549</td>\n    </tr>\n  </tbody>\n</table>\n<p>55830 rows × 29 columns</p>\n</div>"
     },
     "execution_count": 7,
     "metadata": {},
     "output_type": "execute_result"
    }
   ],
   "source": [
    "# convert column names to lower and replace spaces with underscore\n",
    "column_into_small_letters(df)"
   ],
   "metadata": {
    "collapsed": false
   }
  },
  {
   "cell_type": "code",
   "execution_count": 8,
   "outputs": [],
   "source": [
    "# replace nan in Type of Program Financing with \"None\"\n",
    "# code not working yet. replaces all nans in the df with None\n",
    "#df.loc[df[\"Type of Program Financing\"].isna()] = \"None\""
   ],
   "metadata": {
    "collapsed": false
   }
  },
  {
   "cell_type": "markdown",
   "source": [
    "## Column 0: Starting Year"
   ],
   "metadata": {
    "collapsed": false
   }
  },
  {
   "cell_type": "code",
   "execution_count": 9,
   "outputs": [],
   "source": [
    "df = df.assign(starting_year=2010)\n",
    "df = df.assign(current_year=2021)"
   ],
   "metadata": {
    "collapsed": false
   }
  },
  {
   "cell_type": "code",
   "execution_count": 10,
   "outputs": [
    {
     "data": {
      "text/plain": "33286557"
     },
     "execution_count": 10,
     "metadata": {},
     "output_type": "execute_result"
    }
   ],
   "source": [
    "df[\"first_year_energy_savings_$_estimate\"].sum()"
   ],
   "metadata": {
    "collapsed": false
   }
  },
  {
   "cell_type": "code",
   "execution_count": 11,
   "outputs": [
    {
     "data": {
      "text/plain": "478619662"
     },
     "execution_count": 11,
     "metadata": {},
     "output_type": "execute_result"
    }
   ],
   "source": [
    "df[\"total_project_cost\"].sum()"
   ],
   "metadata": {
    "collapsed": false
   }
  },
  {
   "cell_type": "markdown",
   "source": [
    "## Column 1: Reporting Period"
   ],
   "metadata": {
    "collapsed": false
   }
  },
  {
   "cell_type": "code",
   "execution_count": 12,
   "outputs": [],
   "source": [
    "# save reporting period to variable and then drop it, since there is only one\n",
    "reporting_period = df[\"reporting_period\"].unique()\n",
    "df = df.drop(\"reporting_period\", axis=1)"
   ],
   "metadata": {
    "collapsed": false
   }
  },
  {
   "cell_type": "markdown",
   "source": [
    "## Column 2: Home Performance Project ID"
   ],
   "metadata": {
    "collapsed": false
   }
  },
  {
   "cell_type": "code",
   "execution_count": 13,
   "outputs": [
    {
     "data": {
      "text/plain": "Int64Index([10000, 10001, 10002, 10003, 10004, 10005, 10006, 10007, 10008,\n            40000, 40001, 40002, 40003, 40004, 40005, 40006, 40007, 40008,\n            43033, 43707, 50032],\n           dtype='int64')"
     },
     "execution_count": 13,
     "metadata": {},
     "output_type": "execute_result"
    }
   ],
   "source": [
    "df.loc[df.duplicated(\"home_performance_project_id\")].index"
   ],
   "metadata": {
    "collapsed": false
   }
  },
  {
   "cell_type": "code",
   "execution_count": 14,
   "outputs": [],
   "source": [
    "df = df.drop(df.loc[df.duplicated(\"home_performance_project_id\")].index, axis=0)"
   ],
   "metadata": {
    "collapsed": false
   }
  },
  {
   "cell_type": "code",
   "execution_count": 15,
   "outputs": [
    {
     "data": {
      "text/plain": "483911          1\nP00000731338    1\nP00000893191    1\nP00000883174    1\nP00000809211    1\n               ..\nP00001005649    1\nP00000965947    1\nP00000968533    1\nP00001014071    1\nP00000725072    1\nName: home_performance_project_id, Length: 55809, dtype: int64"
     },
     "execution_count": 15,
     "metadata": {},
     "output_type": "execute_result"
    }
   ],
   "source": [
    "# how many Site IDs have more than 1 or 2 project IDs?\n",
    "over_1_project_id = (df[\"home_performance_project_id\"].value_counts() > 1).value_counts()\n",
    "over_2_project_id = (df[\"home_performance_project_id\"].value_counts() > 2).value_counts()\n",
    "df[\"home_performance_project_id\"].value_counts()"
   ],
   "metadata": {
    "collapsed": false
   }
  },
  {
   "cell_type": "markdown",
   "source": [
    "## Column 3: Site ID"
   ],
   "metadata": {
    "collapsed": false
   }
  },
  {
   "cell_type": "code",
   "execution_count": 16,
   "outputs": [
    {
     "data": {
      "text/plain": "0              357221\n1              343438\n2              356880\n3              350454\n4              356491\n             ...     \n55825    S00000124921\n55826    S00000130155\n55827    S00000129326\n55828    S00000130090\n55829    S00000128120\nName: home_performance_site_id, Length: 55809, dtype: object"
     },
     "execution_count": 16,
     "metadata": {},
     "output_type": "execute_result"
    }
   ],
   "source": [
    "df[\"home_performance_site_id\"]"
   ],
   "metadata": {
    "collapsed": false
   }
  },
  {
   "cell_type": "markdown",
   "source": [
    "## Column 4, 5, 6: County, City, Zipcode"
   ],
   "metadata": {
    "collapsed": false
   }
  },
  {
   "cell_type": "code",
   "execution_count": 17,
   "outputs": [],
   "source": [
    "# define variables for counties, cities and zipcodes\n",
    "counties = df[\"project_county\"].unique()\n",
    "cities = df[\"project_city\"].unique()\n",
    "zipcodes = df[\"project_zip\"].unique()"
   ],
   "metadata": {
    "collapsed": false
   }
  },
  {
   "cell_type": "code",
   "execution_count": 18,
   "outputs": [
    {
     "data": {
      "text/plain": "False    55809\nName: project_zip, dtype: int64"
     },
     "execution_count": 18,
     "metadata": {},
     "output_type": "execute_result"
    }
   ],
   "source": [
    "# no NaN\n",
    "df[\"project_county\"].isna().value_counts()\n",
    "df[\"project_city\"].isna().value_counts()\n",
    "df[\"project_zip\"].isna().value_counts()"
   ],
   "metadata": {
    "collapsed": false
   }
  },
  {
   "cell_type": "markdown",
   "source": [
    "## Column 7.1 & 7.2: Electric Utility, Gas Utility Provider"
   ],
   "metadata": {
    "collapsed": false
   }
  },
  {
   "cell_type": "code",
   "execution_count": 19,
   "outputs": [
    {
     "data": {
      "text/plain": "False    39841\nTrue     15968\nName: gas_utility_provider, dtype: int64"
     },
     "execution_count": 19,
     "metadata": {},
     "output_type": "execute_result"
    }
   ],
   "source": [
    "df[\"gas_utility_provider\"].isna().value_counts()"
   ],
   "metadata": {
    "collapsed": false
   }
  },
  {
   "cell_type": "code",
   "execution_count": 20,
   "outputs": [
    {
     "data": {
      "text/plain": "array([nan, 'National Fuel Gas Distribution', 'Rochester Gas & Electric',\n       'National Grid', 'New York State Electric & Gas',\n       'Consolidated Edison', 'Orange & Rockland', 'Corning Natural Gas',\n       'Central Hudson Gas & Electric', 'Saint Lawrence Gas', 'Municipal',\n       'KeySpan Energy', 'Long Island Power Authority',\n       'Multiple Gas Providers', 'No Gas Provider'], dtype=object)"
     },
     "execution_count": 20,
     "metadata": {},
     "output_type": "execute_result"
    }
   ],
   "source": [
    "df[\"gas_utility_provider\"].unique()"
   ],
   "metadata": {
    "collapsed": false
   }
  },
  {
   "cell_type": "code",
   "execution_count": 21,
   "outputs": [
    {
     "data": {
      "text/plain": "array(['National Grid', 'New York State Electric & Gas',\n       'Rochester Gas & Electric', 'Consolidated Edison',\n       'Long Island Power Authority', 'Orange & Rockland',\n       'Central Hudson Gas & Electric', 'Municipal (Not Qualified)'],\n      dtype=object)"
     },
     "execution_count": 21,
     "metadata": {},
     "output_type": "execute_result"
    }
   ],
   "source": [
    "# show electric utility operators\n",
    "df[\"electric_utility_provider\"].unique()"
   ],
   "metadata": {
    "collapsed": false
   }
  },
  {
   "cell_type": "markdown",
   "source": [
    "## Column 8: Project Completion Date"
   ],
   "metadata": {
    "collapsed": false
   }
  },
  {
   "cell_type": "code",
   "execution_count": 22,
   "outputs": [],
   "source": [
    "# convert project completion date to datetime format with pandas\n",
    "df[\"project_completion_date\"] = pd.to_datetime(df[\"project_completion_date\"])"
   ],
   "metadata": {
    "collapsed": false
   }
  },
  {
   "cell_type": "code",
   "execution_count": 23,
   "outputs": [],
   "source": [
    "# get years from Project Completion Date\n",
    "df[\"year\"] = df[\"project_completion_date\"].apply(lambda x: x.year)"
   ],
   "metadata": {
    "collapsed": false
   }
  },
  {
   "cell_type": "code",
   "execution_count": 24,
   "outputs": [
    {
     "data": {
      "text/plain": "2016    7016\n2015    6568\n2019    5801\n2014    5795\n2011    5467\n2013    5358\n2017    5185\n2018    5112\n2012    5103\n2020    3084\n2010     898\n2021     422\nName: year, dtype: int64"
     },
     "execution_count": 24,
     "metadata": {},
     "output_type": "execute_result"
    }
   ],
   "source": [
    "# How many projects per year?\n",
    "df[\"year\"].value_counts()"
   ],
   "metadata": {
    "collapsed": false
   }
  },
  {
   "cell_type": "markdown",
   "source": [
    "## Column 9: Customer Type"
   ],
   "metadata": {
    "collapsed": false
   }
  },
  {
   "cell_type": "code",
   "execution_count": 25,
   "outputs": [
    {
     "data": {
      "text/plain": "Market      34069\nAssisted    21740\nName: customer_type, dtype: int64"
     },
     "execution_count": 25,
     "metadata": {},
     "output_type": "execute_result"
    }
   ],
   "source": [
    "df[\"customer_type\"].value_counts()"
   ],
   "metadata": {
    "collapsed": false
   }
  },
  {
   "cell_type": "markdown",
   "source": [
    "## Column 10: Job Type"
   ],
   "metadata": {
    "collapsed": false
   }
  },
  {
   "cell_type": "code",
   "execution_count": 26,
   "outputs": [
    {
     "data": {
      "text/plain": "  home_performance_project_id home_performance_site_id project_county  \\\n0                      483911                   357221         Oneida   \n1                      486389                   343438          Wayne   \n2                      483374                   356880           Erie   \n3                      475733                   350454         Oneida   \n4                      483731                   356491     Livingston   \n\n  project_city  project_zip            gas_utility_provider  \\\n0    Barneveld        13304                             NaN   \n1      Palmyra        14522                             NaN   \n2      Buffalo        14215  National Fuel Gas Distribution   \n3         Rome        13440                             NaN   \n4         Lima        14485                             NaN   \n\n       electric_utility_provider project_completion_date customer_type  \\\n0                  National Grid              2021-01-16      Assisted   \n1  New York State Electric & Gas              2021-01-06      Assisted   \n2                  National Grid              2020-12-15      Assisted   \n3                  National Grid              2020-12-09      Assisted   \n4                  National Grid              2020-12-08      Assisted   \n\n           job_type  ...  estimated_annual_water_heating_mmbtu_savings  \\\n0  Home Performance  ...                                            27   \n1  Home Performance  ...                                             3   \n2  Home Performance  ...                                             8   \n3  Home Performance  ...                                            28   \n4  Home Performance  ...                                             6   \n\n   first_year_energy_savings_$_estimate  \\\n0                                   474   \n1                                   111   \n2                                    61   \n3                                   681   \n4                                   146   \n\n  homeowner_received_free/reduced_cost_audit?  \\\n0                                           Y   \n1                                           Y   \n2                                           Y   \n3                                           Y   \n4                                           Y   \n\n                                            location new_york_zip_codes  \\\n0  {'type': 'Point', 'coordinates': [-75.16936, 4...              764.0   \n1  {'type': 'Point', 'coordinates': [-77.218837, ...              364.0   \n2  {'type': 'Point', 'coordinates': [-78.808435, ...               71.0   \n3  {'type': 'Point', 'coordinates': [-75.454665, ...             1366.0   \n4  {'type': 'Point', 'coordinates': [-77.603561, ...              312.0   \n\n   counties_2  nys_municipal_boundaries_2  starting_year  current_year  year  \n0       625.0                         985           2010          2021  2021  \n1       631.0                         631           2010          2021  2021  \n2      2041.0                         300           2010          2021  2020  \n3       625.0                         989           2010          2021  2020  \n4      2091.0                         742           2010          2021  2020  \n\n[5 rows x 31 columns]",
      "text/html": "<div>\n<style scoped>\n    .dataframe tbody tr th:only-of-type {\n        vertical-align: middle;\n    }\n\n    .dataframe tbody tr th {\n        vertical-align: top;\n    }\n\n    .dataframe thead th {\n        text-align: right;\n    }\n</style>\n<table border=\"1\" class=\"dataframe\">\n  <thead>\n    <tr style=\"text-align: right;\">\n      <th></th>\n      <th>home_performance_project_id</th>\n      <th>home_performance_site_id</th>\n      <th>project_county</th>\n      <th>project_city</th>\n      <th>project_zip</th>\n      <th>gas_utility_provider</th>\n      <th>electric_utility_provider</th>\n      <th>project_completion_date</th>\n      <th>customer_type</th>\n      <th>job_type</th>\n      <th>...</th>\n      <th>estimated_annual_water_heating_mmbtu_savings</th>\n      <th>first_year_energy_savings_$_estimate</th>\n      <th>homeowner_received_free/reduced_cost_audit?</th>\n      <th>location</th>\n      <th>new_york_zip_codes</th>\n      <th>counties_2</th>\n      <th>nys_municipal_boundaries_2</th>\n      <th>starting_year</th>\n      <th>current_year</th>\n      <th>year</th>\n    </tr>\n  </thead>\n  <tbody>\n    <tr>\n      <th>0</th>\n      <td>483911</td>\n      <td>357221</td>\n      <td>Oneida</td>\n      <td>Barneveld</td>\n      <td>13304</td>\n      <td>NaN</td>\n      <td>National Grid</td>\n      <td>2021-01-16</td>\n      <td>Assisted</td>\n      <td>Home Performance</td>\n      <td>...</td>\n      <td>27</td>\n      <td>474</td>\n      <td>Y</td>\n      <td>{'type': 'Point', 'coordinates': [-75.16936, 4...</td>\n      <td>764.0</td>\n      <td>625.0</td>\n      <td>985</td>\n      <td>2010</td>\n      <td>2021</td>\n      <td>2021</td>\n    </tr>\n    <tr>\n      <th>1</th>\n      <td>486389</td>\n      <td>343438</td>\n      <td>Wayne</td>\n      <td>Palmyra</td>\n      <td>14522</td>\n      <td>NaN</td>\n      <td>New York State Electric &amp; Gas</td>\n      <td>2021-01-06</td>\n      <td>Assisted</td>\n      <td>Home Performance</td>\n      <td>...</td>\n      <td>3</td>\n      <td>111</td>\n      <td>Y</td>\n      <td>{'type': 'Point', 'coordinates': [-77.218837, ...</td>\n      <td>364.0</td>\n      <td>631.0</td>\n      <td>631</td>\n      <td>2010</td>\n      <td>2021</td>\n      <td>2021</td>\n    </tr>\n    <tr>\n      <th>2</th>\n      <td>483374</td>\n      <td>356880</td>\n      <td>Erie</td>\n      <td>Buffalo</td>\n      <td>14215</td>\n      <td>National Fuel Gas Distribution</td>\n      <td>National Grid</td>\n      <td>2020-12-15</td>\n      <td>Assisted</td>\n      <td>Home Performance</td>\n      <td>...</td>\n      <td>8</td>\n      <td>61</td>\n      <td>Y</td>\n      <td>{'type': 'Point', 'coordinates': [-78.808435, ...</td>\n      <td>71.0</td>\n      <td>2041.0</td>\n      <td>300</td>\n      <td>2010</td>\n      <td>2021</td>\n      <td>2020</td>\n    </tr>\n    <tr>\n      <th>3</th>\n      <td>475733</td>\n      <td>350454</td>\n      <td>Oneida</td>\n      <td>Rome</td>\n      <td>13440</td>\n      <td>NaN</td>\n      <td>National Grid</td>\n      <td>2020-12-09</td>\n      <td>Assisted</td>\n      <td>Home Performance</td>\n      <td>...</td>\n      <td>28</td>\n      <td>681</td>\n      <td>Y</td>\n      <td>{'type': 'Point', 'coordinates': [-75.454665, ...</td>\n      <td>1366.0</td>\n      <td>625.0</td>\n      <td>989</td>\n      <td>2010</td>\n      <td>2021</td>\n      <td>2020</td>\n    </tr>\n    <tr>\n      <th>4</th>\n      <td>483731</td>\n      <td>356491</td>\n      <td>Livingston</td>\n      <td>Lima</td>\n      <td>14485</td>\n      <td>NaN</td>\n      <td>National Grid</td>\n      <td>2020-12-08</td>\n      <td>Assisted</td>\n      <td>Home Performance</td>\n      <td>...</td>\n      <td>6</td>\n      <td>146</td>\n      <td>Y</td>\n      <td>{'type': 'Point', 'coordinates': [-77.603561, ...</td>\n      <td>312.0</td>\n      <td>2091.0</td>\n      <td>742</td>\n      <td>2010</td>\n      <td>2021</td>\n      <td>2020</td>\n    </tr>\n  </tbody>\n</table>\n<p>5 rows × 31 columns</p>\n</div>"
     },
     "execution_count": 26,
     "metadata": {},
     "output_type": "execute_result"
    }
   ],
   "source": [
    "df.head()"
   ],
   "metadata": {
    "collapsed": false
   }
  },
  {
   "cell_type": "code",
   "execution_count": 27,
   "outputs": [
    {
     "data": {
      "text/plain": "Home Performance    55809\nName: job_type, dtype: int64"
     },
     "execution_count": 27,
     "metadata": {},
     "output_type": "execute_result"
    }
   ],
   "source": [
    "df[\"job_type\"].value_counts()"
   ],
   "metadata": {
    "collapsed": false
   }
  },
  {
   "cell_type": "markdown",
   "source": [
    "## Column 11: Total Project Cost"
   ],
   "metadata": {
    "collapsed": false
   }
  },
  {
   "cell_type": "code",
   "execution_count": 28,
   "outputs": [
    {
     "data": {
      "text/plain": "count    55809.000000\nmean      8573.407389\nstd       5583.446163\nmin          0.000000\n25%       4700.000000\n50%       7286.000000\n75%      10758.000000\nmax      85290.000000\nName: total_project_cost, dtype: float64"
     },
     "execution_count": 28,
     "metadata": {},
     "output_type": "execute_result"
    }
   ],
   "source": [
    "df[\"total_project_cost\"].describe()"
   ],
   "metadata": {
    "collapsed": false
   }
  },
  {
   "cell_type": "code",
   "execution_count": 29,
   "outputs": [],
   "source": [
    "# remove null value in total_project_cost (it's only one!)\n",
    "df = df.loc[(df[\"total_project_cost\"] != 0)]"
   ],
   "metadata": {
    "collapsed": false
   }
  },
  {
   "cell_type": "code",
   "execution_count": 30,
   "outputs": [
    {
     "data": {
      "text/plain": "<AxesSubplot:xlabel='total_project_cost', ylabel='Count'>"
     },
     "execution_count": 30,
     "metadata": {},
     "output_type": "execute_result"
    },
    {
     "data": {
      "text/plain": "<Figure size 640x480 with 1 Axes>",
      "image/png": "[encoded data removed]"
     },
     "metadata": {},
     "output_type": "display_data"
    }
   ],
   "source": [
    "sns.histplot(df[\"total_project_cost\"])"
   ],
   "metadata": {
    "collapsed": false
   }
  },
  {
   "cell_type": "markdown",
   "source": [
    "## Column 12: Total Incentives"
   ],
   "metadata": {
    "collapsed": false
   }
  },
  {
   "cell_type": "code",
   "execution_count": 31,
   "outputs": [
    {
     "data": {
      "text/plain": "count    55808.000000\nmean      1687.540209\nstd       1705.776690\nmin          0.000000\n25%        301.750000\n50%       1005.000000\n75%       2900.000000\nmax      10000.000000\nName: total_incentives, dtype: float64"
     },
     "execution_count": 31,
     "metadata": {},
     "output_type": "execute_result"
    }
   ],
   "source": [
    "df[\"total_incentives\"].describe()"
   ],
   "metadata": {
    "collapsed": false
   }
  },
  {
   "cell_type": "code",
   "execution_count": 32,
   "outputs": [
    {
     "data": {
      "text/plain": "1005.0"
     },
     "execution_count": 32,
     "metadata": {},
     "output_type": "execute_result"
    }
   ],
   "source": [
    "df[\"total_incentives\"].median()"
   ],
   "metadata": {
    "collapsed": false
   }
  },
  {
   "cell_type": "code",
   "execution_count": 33,
   "outputs": [
    {
     "data": {
      "text/plain": "False    44682\nTrue     11126\nName: total_incentives, dtype: int64"
     },
     "execution_count": 33,
     "metadata": {},
     "output_type": "execute_result"
    }
   ],
   "source": [
    "(df[\"total_incentives\"]==0).value_counts()"
   ],
   "metadata": {
    "collapsed": false
   }
  },
  {
   "cell_type": "code",
   "execution_count": 34,
   "outputs": [
    {
     "data": {
      "text/plain": "<AxesSubplot:xlabel='total_incentives', ylabel='Count'>"
     },
     "execution_count": 34,
     "metadata": {},
     "output_type": "execute_result"
    },
    {
     "data": {
      "text/plain": "<Figure size 640x480 with 1 Axes>",
      "image/png": "[encoded data removed]"
     },
     "metadata": {},
     "output_type": "display_data"
    }
   ],
   "source": [
    "sns.histplot(df[\"total_incentives\"])"
   ],
   "metadata": {
    "collapsed": false
   }
  },
  {
   "cell_type": "markdown",
   "source": [
    "## Column 13: Type of Program Financing"
   ],
   "metadata": {
    "collapsed": false
   }
  },
  {
   "cell_type": "code",
   "execution_count": 35,
   "outputs": [
    {
     "data": {
      "text/plain": "Green Jobs - Green NY Smart Energy Loan        14466\nGreen Jobs - Green NY On-Bill Recovery Loan     3689\nESMART                                           219\nESTAR                                             83\nName: type_of_program_financing, dtype: int64"
     },
     "execution_count": 35,
     "metadata": {},
     "output_type": "execute_result"
    }
   ],
   "source": [
    "df[\"type_of_program_financing\"].value_counts()"
   ],
   "metadata": {
    "collapsed": false
   }
  },
  {
   "cell_type": "code",
   "execution_count": 36,
   "outputs": [
    {
     "data": {
      "text/plain": "True     37351\nFalse    18457\nName: type_of_program_financing, dtype: int64"
     },
     "execution_count": 36,
     "metadata": {},
     "output_type": "execute_result"
    }
   ],
   "source": [
    "df[\"type_of_program_financing\"].isna().value_counts()"
   ],
   "metadata": {
    "collapsed": false
   }
  },
  {
   "cell_type": "markdown",
   "source": [
    "## Column 14: Amount Financed Through Program"
   ],
   "metadata": {
    "collapsed": false
   }
  },
  {
   "cell_type": "code",
   "execution_count": 37,
   "outputs": [
    {
     "data": {
      "text/plain": "count    55808.000000\nmean      2805.132078\nstd       5084.448524\nmin          0.000000\n25%          0.000000\n50%          0.000000\n75%       4307.000000\nmax      25000.000000\nName: amount_financed_through_program, dtype: float64"
     },
     "execution_count": 37,
     "metadata": {},
     "output_type": "execute_result"
    }
   ],
   "source": [
    "df[\"amount_financed_through_program\"].describe()"
   ],
   "metadata": {
    "collapsed": false
   }
  },
  {
   "cell_type": "code",
   "execution_count": 38,
   "outputs": [
    {
     "data": {
      "text/plain": "<AxesSubplot:xlabel='amount_financed_through_program', ylabel='Count'>"
     },
     "execution_count": 38,
     "metadata": {},
     "output_type": "execute_result"
    },
    {
     "data": {
      "text/plain": "<Figure size 640x480 with 1 Axes>",
      "image/png": "[encoded data removed]"
     },
     "metadata": {},
     "output_type": "display_data"
    }
   ],
   "source": [
    "sns.histplot(df[\"amount_financed_through_program\"])"
   ],
   "metadata": {
    "collapsed": false
   }
  },
  {
   "cell_type": "code",
   "execution_count": 39,
   "outputs": [],
   "source": [
    "# add a column describing whether project got financed by Green Jobs Green NY\n",
    "df[\"financed?\"] = df[\"amount_financed_through_program\"].apply(lambda x: True if x != 0 else False)"
   ],
   "metadata": {
    "collapsed": false
   }
  },
  {
   "cell_type": "code",
   "execution_count": 40,
   "outputs": [],
   "source": [
    "# move next to amount financed columns\n",
    "financed = df.pop(\"financed?\")\n",
    "df.insert(14, \"financed\", financed)"
   ],
   "metadata": {
    "collapsed": false
   }
  },
  {
   "cell_type": "code",
   "execution_count": 41,
   "outputs": [
    {
     "data": {
      "text/plain": "<AxesSubplot:xlabel='amount_financed_through_program', ylabel='Count'>"
     },
     "execution_count": 41,
     "metadata": {},
     "output_type": "execute_result"
    },
    {
     "data": {
      "text/plain": "<Figure size 640x480 with 1 Axes>",
      "image/png": "[encoded data removed]"
     },
     "metadata": {},
     "output_type": "display_data"
    }
   ],
   "source": [
    "# histogram of all non-zero values in amount_financed_through_program\n",
    "sns.histplot(df[\"amount_financed_through_program\"].loc[df[\"amount_financed_through_program\"] != 0])"
   ],
   "metadata": {
    "collapsed": false
   }
  },
  {
   "cell_type": "markdown",
   "source": [
    "## Column 15: Pre-Retrofit Home Heating Fuel Type"
   ],
   "metadata": {
    "collapsed": false
   }
  },
  {
   "cell_type": "code",
   "execution_count": 42,
   "outputs": [
    {
     "data": {
      "text/plain": "      home_performance_project_id home_performance_site_id project_county  \\\n0                          483911                   357221         Oneida   \n1                          486389                   343438          Wayne   \n2                          483374                   356880           Erie   \n3                          475733                   350454         Oneida   \n4                          483731                   356491     Livingston   \n...                           ...                      ...            ...   \n55825                P00000721450             S00000124921           Erie   \n55826                P00000727276             S00000130155    Schenectady   \n55827                P00000726343             S00000129326       Tompkins   \n55828                P00000727199             S00000130090         Monroe   \n55829                P00000725072             S00000128120         Monroe   \n\n      project_city  project_zip            gas_utility_provider  \\\n0        Barneveld        13304                             NaN   \n1          Palmyra        14522                             NaN   \n2          Buffalo        14215  National Fuel Gas Distribution   \n3             Rome        13440                             NaN   \n4             Lima        14485                             NaN   \n...            ...          ...                             ...   \n55825        Depew        14043  National Fuel Gas Distribution   \n55826  Schenectady        12303                   National Grid   \n55827    Freeville        13068   New York State Electric & Gas   \n55828    Rochester        14617        Rochester Gas & Electric   \n55829    Rochester        14624        Rochester Gas & Electric   \n\n           electric_utility_provider project_completion_date customer_type  \\\n0                      National Grid              2021-01-16      Assisted   \n1      New York State Electric & Gas              2021-01-06      Assisted   \n2                      National Grid              2020-12-15      Assisted   \n3                      National Grid              2020-12-09      Assisted   \n4                      National Grid              2020-12-08      Assisted   \n...                              ...                     ...           ...   \n55825  New York State Electric & Gas              2010-11-15        Market   \n55826                  National Grid              2011-01-28      Assisted   \n55827  New York State Electric & Gas              2011-01-13        Market   \n55828       Rochester Gas & Electric              2010-12-26        Market   \n55829       Rochester Gas & Electric              2011-02-01        Market   \n\n               job_type  ...  estimated_annual_water_heating_mmbtu_savings  \\\n0      Home Performance  ...                                            27   \n1      Home Performance  ...                                             3   \n2      Home Performance  ...                                             8   \n3      Home Performance  ...                                            28   \n4      Home Performance  ...                                             6   \n...                 ...  ...                                           ...   \n55825  Home Performance  ...                                            24   \n55826  Home Performance  ...                                            33   \n55827  Home Performance  ...                                            16   \n55828  Home Performance  ...                                            11   \n55829  Home Performance  ...                                             1   \n\n       first_year_energy_savings_$_estimate  \\\n0                                       474   \n1                                       111   \n2                                        61   \n3                                       681   \n4                                       146   \n...                                     ...   \n55825                                   340   \n55826                                   823   \n55827                                   887   \n55828                                   258   \n55829                                     9   \n\n      homeowner_received_free/reduced_cost_audit?  \\\n0                                               Y   \n1                                               Y   \n2                                               Y   \n3                                               Y   \n4                                               Y   \n...                                           ...   \n55825                                           N   \n55826                                           N   \n55827                                           N   \n55828                                           N   \n55829                                           N   \n\n                                                location  new_york_zip_codes  \\\n0      {'type': 'Point', 'coordinates': [-75.16936, 4...               764.0   \n1      {'type': 'Point', 'coordinates': [-77.218837, ...               364.0   \n2      {'type': 'Point', 'coordinates': [-78.808435, ...                71.0   \n3      {'type': 'Point', 'coordinates': [-75.454665, ...              1366.0   \n4      {'type': 'Point', 'coordinates': [-77.603561, ...               312.0   \n...                                                  ...                 ...   \n55825  {'type': 'Point', 'coordinates': [-78.702553, ...               506.0   \n55826  {'type': 'Point', 'coordinates': [-73.932117, ...                72.0   \n55827  {'type': 'Point', 'coordinates': [-76.359264, ...               622.0   \n55828  {'type': 'Point', 'coordinates': [-77.597999, ...              1676.0   \n55829  {'type': 'Point', 'coordinates': [-77.729647, ...              1683.0   \n\n      counties_2  nys_municipal_boundaries_2  starting_year  current_year  \\\n0          625.0                         985           2010          2021   \n1          631.0                         631           2010          2021   \n2         2041.0                         300           2010          2021   \n3          625.0                         989           2010          2021   \n4         2091.0                         742           2010          2021   \n...          ...                         ...            ...           ...   \n55825     2041.0                         298           2010          2021   \n55826     2030.0                         832           2010          2021   \n55827     2181.0                         712           2010          2021   \n55828     2093.0                         545           2010          2021   \n55829     2093.0                         549           2010          2021   \n\n       year  \n0      2021  \n1      2021  \n2      2020  \n3      2020  \n4      2020  \n...     ...  \n55825  2010  \n55826  2011  \n55827  2011  \n55828  2010  \n55829  2011  \n\n[55808 rows x 32 columns]",
      "text/html": "<div>\n<style scoped>\n    .dataframe tbody tr th:only-of-type {\n        vertical-align: middle;\n    }\n\n    .dataframe tbody tr th {\n        vertical-align: top;\n    }\n\n    .dataframe thead th {\n        text-align: right;\n    }\n</style>\n<table border=\"1\" class=\"dataframe\">\n  <thead>\n    <tr style=\"text-align: right;\">\n      <th></th>\n      <th>home_performance_project_id</th>\n      <th>home_performance_site_id</th>\n      <th>project_county</th>\n      <th>project_city</th>\n      <th>project_zip</th>\n      <th>gas_utility_provider</th>\n      <th>electric_utility_provider</th>\n      <th>project_completion_date</th>\n      <th>customer_type</th>\n      <th>job_type</th>\n      <th>...</th>\n      <th>estimated_annual_water_heating_mmbtu_savings</th>\n      <th>first_year_energy_savings_$_estimate</th>\n      <th>homeowner_received_free/reduced_cost_audit?</th>\n      <th>location</th>\n      <th>new_york_zip_codes</th>\n      <th>counties_2</th>\n      <th>nys_municipal_boundaries_2</th>\n      <th>starting_year</th>\n      <th>current_year</th>\n      <th>year</th>\n    </tr>\n  </thead>\n  <tbody>\n    <tr>\n      <th>0</th>\n      <td>483911</td>\n      <td>357221</td>\n      <td>Oneida</td>\n      <td>Barneveld</td>\n      <td>13304</td>\n      <td>NaN</td>\n      <td>National Grid</td>\n      <td>2021-01-16</td>\n      <td>Assisted</td>\n      <td>Home Performance</td>\n      <td>...</td>\n      <td>27</td>\n      <td>474</td>\n      <td>Y</td>\n      <td>{'type': 'Point', 'coordinates': [-75.16936, 4...</td>\n      <td>764.0</td>\n      <td>625.0</td>\n      <td>985</td>\n      <td>2010</td>\n      <td>2021</td>\n      <td>2021</td>\n    </tr>\n    <tr>\n      <th>1</th>\n      <td>486389</td>\n      <td>343438</td>\n      <td>Wayne</td>\n      <td>Palmyra</td>\n      <td>14522</td>\n      <td>NaN</td>\n      <td>New York State Electric &amp; Gas</td>\n      <td>2021-01-06</td>\n      <td>Assisted</td>\n      <td>Home Performance</td>\n      <td>...</td>\n      <td>3</td>\n      <td>111</td>\n      <td>Y</td>\n      <td>{'type': 'Point', 'coordinates': [-77.218837, ...</td>\n      <td>364.0</td>\n      <td>631.0</td>\n      <td>631</td>\n      <td>2010</td>\n      <td>2021</td>\n      <td>2021</td>\n    </tr>\n    <tr>\n      <th>2</th>\n      <td>483374</td>\n      <td>356880</td>\n      <td>Erie</td>\n      <td>Buffalo</td>\n      <td>14215</td>\n      <td>National Fuel Gas Distribution</td>\n      <td>National Grid</td>\n      <td>2020-12-15</td>\n      <td>Assisted</td>\n      <td>Home Performance</td>\n      <td>...</td>\n      <td>8</td>\n      <td>61</td>\n      <td>Y</td>\n      <td>{'type': 'Point', 'coordinates': [-78.808435, ...</td>\n      <td>71.0</td>\n      <td>2041.0</td>\n      <td>300</td>\n      <td>2010</td>\n      <td>2021</td>\n      <td>2020</td>\n    </tr>\n    <tr>\n      <th>3</th>\n      <td>475733</td>\n      <td>350454</td>\n      <td>Oneida</td>\n      <td>Rome</td>\n      <td>13440</td>\n      <td>NaN</td>\n      <td>National Grid</td>\n      <td>2020-12-09</td>\n      <td>Assisted</td>\n      <td>Home Performance</td>\n      <td>...</td>\n      <td>28</td>\n      <td>681</td>\n      <td>Y</td>\n      <td>{'type': 'Point', 'coordinates': [-75.454665, ...</td>\n      <td>1366.0</td>\n      <td>625.0</td>\n      <td>989</td>\n      <td>2010</td>\n      <td>2021</td>\n      <td>2020</td>\n    </tr>\n    <tr>\n      <th>4</th>\n      <td>483731</td>\n      <td>356491</td>\n      <td>Livingston</td>\n      <td>Lima</td>\n      <td>14485</td>\n      <td>NaN</td>\n      <td>National Grid</td>\n      <td>2020-12-08</td>\n      <td>Assisted</td>\n      <td>Home Performance</td>\n      <td>...</td>\n      <td>6</td>\n      <td>146</td>\n      <td>Y</td>\n      <td>{'type': 'Point', 'coordinates': [-77.603561, ...</td>\n      <td>312.0</td>\n      <td>2091.0</td>\n      <td>742</td>\n      <td>2010</td>\n      <td>2021</td>\n      <td>2020</td>\n    </tr>\n    <tr>\n      <th>...</th>\n      <td>...</td>\n      <td>...</td>\n      <td>...</td>\n      <td>...</td>\n      <td>...</td>\n      <td>...</td>\n      <td>...</td>\n      <td>...</td>\n      <td>...</td>\n      <td>...</td>\n      <td>...</td>\n      <td>...</td>\n      <td>...</td>\n      <td>...</td>\n      <td>...</td>\n      <td>...</td>\n      <td>...</td>\n      <td>...</td>\n      <td>...</td>\n      <td>...</td>\n      <td>...</td>\n    </tr>\n    <tr>\n      <th>55825</th>\n      <td>P00000721450</td>\n      <td>S00000124921</td>\n      <td>Erie</td>\n      <td>Depew</td>\n      <td>14043</td>\n      <td>National Fuel Gas Distribution</td>\n      <td>New York State Electric &amp; Gas</td>\n      <td>2010-11-15</td>\n      <td>Market</td>\n      <td>Home Performance</td>\n      <td>...</td>\n      <td>24</td>\n      <td>340</td>\n      <td>N</td>\n      <td>{'type': 'Point', 'coordinates': [-78.702553, ...</td>\n      <td>506.0</td>\n      <td>2041.0</td>\n      <td>298</td>\n      <td>2010</td>\n      <td>2021</td>\n      <td>2010</td>\n    </tr>\n    <tr>\n      <th>55826</th>\n      <td>P00000727276</td>\n      <td>S00000130155</td>\n      <td>Schenectady</td>\n      <td>Schenectady</td>\n      <td>12303</td>\n      <td>National Grid</td>\n      <td>National Grid</td>\n      <td>2011-01-28</td>\n      <td>Assisted</td>\n      <td>Home Performance</td>\n      <td>...</td>\n      <td>33</td>\n      <td>823</td>\n      <td>N</td>\n      <td>{'type': 'Point', 'coordinates': [-73.932117, ...</td>\n      <td>72.0</td>\n      <td>2030.0</td>\n      <td>832</td>\n      <td>2010</td>\n      <td>2021</td>\n      <td>2011</td>\n    </tr>\n    <tr>\n      <th>55827</th>\n      <td>P00000726343</td>\n      <td>S00000129326</td>\n      <td>Tompkins</td>\n      <td>Freeville</td>\n      <td>13068</td>\n      <td>New York State Electric &amp; Gas</td>\n      <td>New York State Electric &amp; Gas</td>\n      <td>2011-01-13</td>\n      <td>Market</td>\n      <td>Home Performance</td>\n      <td>...</td>\n      <td>16</td>\n      <td>887</td>\n      <td>N</td>\n      <td>{'type': 'Point', 'coordinates': [-76.359264, ...</td>\n      <td>622.0</td>\n      <td>2181.0</td>\n      <td>712</td>\n      <td>2010</td>\n      <td>2021</td>\n      <td>2011</td>\n    </tr>\n    <tr>\n      <th>55828</th>\n      <td>P00000727199</td>\n      <td>S00000130090</td>\n      <td>Monroe</td>\n      <td>Rochester</td>\n      <td>14617</td>\n      <td>Rochester Gas &amp; Electric</td>\n      <td>Rochester Gas &amp; Electric</td>\n      <td>2010-12-26</td>\n      <td>Market</td>\n      <td>Home Performance</td>\n      <td>...</td>\n      <td>11</td>\n      <td>258</td>\n      <td>N</td>\n      <td>{'type': 'Point', 'coordinates': [-77.597999, ...</td>\n      <td>1676.0</td>\n      <td>2093.0</td>\n      <td>545</td>\n      <td>2010</td>\n      <td>2021</td>\n      <td>2010</td>\n    </tr>\n    <tr>\n      <th>55829</th>\n      <td>P00000725072</td>\n      <td>S00000128120</td>\n      <td>Monroe</td>\n      <td>Rochester</td>\n      <td>14624</td>\n      <td>Rochester Gas &amp; Electric</td>\n      <td>Rochester Gas &amp; Electric</td>\n      <td>2011-02-01</td>\n      <td>Market</td>\n      <td>Home Performance</td>\n      <td>...</td>\n      <td>1</td>\n      <td>9</td>\n      <td>N</td>\n      <td>{'type': 'Point', 'coordinates': [-77.729647, ...</td>\n      <td>1683.0</td>\n      <td>2093.0</td>\n      <td>549</td>\n      <td>2010</td>\n      <td>2021</td>\n      <td>2011</td>\n    </tr>\n  </tbody>\n</table>\n<p>55808 rows × 32 columns</p>\n</div>"
     },
     "execution_count": 42,
     "metadata": {},
     "output_type": "execute_result"
    }
   ],
   "source": [
    "#Application of unity_column_entries function\n",
    "translator = {\"Natural Gas\" : \"Natural Gas\",\n",
    "             \"Oil\": \"Oil\",\n",
    "             \"Natural gas\": \"Natural Gas\",\n",
    "             \"Propane\": \"Propane\",\n",
    "             \"Electricity\": \"Electricity\",\n",
    "             \"Wood\": \"Wood\",\n",
    "             \"Kerosene\": \"Kerosene\",\n",
    "             \"Coal\": \"Coal\",\n",
    "             \"Bituminous Coal\": \"Bituminous Coal\",\n",
    "             \"Anthracite Coal\": \"Anthracite Coal\",\n",
    "             \"Electric\": \"Electricity\"}\n",
    "\n",
    "unify_column_entries(df, translator, \"pre-retrofit_home_heating_fuel_type\")"
   ],
   "metadata": {
    "collapsed": false
   }
  },
  {
   "cell_type": "code",
   "execution_count": 43,
   "outputs": [
    {
     "data": {
      "text/plain": "Natural Gas        38290\nOil                12539\nPropane             2931\nElectricity          895\nWood                 421\nWood Pellets         165\nKerosene             117\nCoal                  48\nBituminous Coal        5\nAnthracite Coal        5\nName: pre-retrofit_home_heating_fuel_type, dtype: int64"
     },
     "execution_count": 43,
     "metadata": {},
     "output_type": "execute_result"
    }
   ],
   "source": [
    "df[\"pre-retrofit_home_heating_fuel_type\"].value_counts()"
   ],
   "metadata": {
    "collapsed": false
   }
  },
  {
   "cell_type": "markdown",
   "source": [
    "## Column 16: Year Home Built"
   ],
   "metadata": {
    "collapsed": false
   }
  },
  {
   "cell_type": "code",
   "execution_count": 44,
   "outputs": [
    {
     "data": {
      "text/plain": "(16869, 32)"
     },
     "execution_count": 44,
     "metadata": {},
     "output_type": "execute_result"
    }
   ],
   "source": [
    "df[df[\"year_home_built\"].isna()].shape"
   ],
   "metadata": {
    "collapsed": false
   }
  },
  {
   "cell_type": "code",
   "execution_count": 45,
   "outputs": [
    {
     "data": {
      "text/plain": "<AxesSubplot:xlabel='year_home_built', ylabel='Count'>"
     },
     "execution_count": 45,
     "metadata": {},
     "output_type": "execute_result"
    },
    {
     "data": {
      "text/plain": "<Figure size 640x480 with 1 Axes>",
      "image/png": "[encoded data removed]"
     },
     "metadata": {},
     "output_type": "display_data"
    }
   ],
   "source": [
    "import seaborn as sns\n",
    "sns.histplot(df[\"year_home_built\"])"
   ],
   "metadata": {
    "collapsed": false
   }
  },
  {
   "cell_type": "markdown",
   "source": [
    "## Column 17: Size of Home"
   ],
   "metadata": {
    "collapsed": false
   }
  },
  {
   "cell_type": "code",
   "execution_count": 46,
   "outputs": [
    {
     "data": {
      "text/plain": "(8200, 32)"
     },
     "execution_count": 46,
     "metadata": {},
     "output_type": "execute_result"
    }
   ],
   "source": [
    "df[df[\"size_of_home\"].isna()].shape"
   ],
   "metadata": {
    "collapsed": false
   }
  },
  {
   "cell_type": "code",
   "execution_count": 47,
   "outputs": [
    {
     "data": {
      "text/plain": "count    47608.000000\nmean      1911.702004\nstd        682.837560\nmin        800.000000\n25%       1396.000000\n50%       1800.000000\n75%       2309.250000\nmax       4000.000000\nName: size_of_home, dtype: float64"
     },
     "execution_count": 47,
     "metadata": {},
     "output_type": "execute_result"
    }
   ],
   "source": [
    "df[\"size_of_home\"].describe()"
   ],
   "metadata": {
    "collapsed": false
   }
  },
  {
   "cell_type": "code",
   "execution_count": 48,
   "outputs": [],
   "source": [
    "df[\"size_of_home\"] = df[\"size_of_home\"]*0.0929"
   ],
   "metadata": {
    "collapsed": false
   }
  },
  {
   "cell_type": "code",
   "execution_count": 49,
   "outputs": [
    {
     "data": {
      "text/plain": "111.4800    459\n167.2200    400\n133.7760    341\n185.8000    335\n148.6400    332\n           ... \n336.1122      1\n87.9763       1\n311.6795      1\n371.0426      1\n242.5619      1\nName: size_of_home, Length: 2998, dtype: int64"
     },
     "execution_count": 49,
     "metadata": {},
     "output_type": "execute_result"
    }
   ],
   "source": [
    "df[\"size_of_home\"].value_counts()"
   ],
   "metadata": {
    "collapsed": false
   }
  },
  {
   "cell_type": "code",
   "execution_count": 50,
   "outputs": [
    {
     "data": {
      "text/plain": "count    47608.000000\nmean       177.597116\nstd         63.435609\nmin         74.320000\n25%        129.688400\n50%        167.220000\n75%        214.529325\nmax        371.600000\nName: size_of_home, dtype: float64"
     },
     "execution_count": 50,
     "metadata": {},
     "output_type": "execute_result"
    }
   ],
   "source": [
    "df[\"size_of_home\"].describe()"
   ],
   "metadata": {
    "collapsed": false
   }
  },
  {
   "cell_type": "markdown",
   "source": [
    "## Column 18: Volume of Home"
   ],
   "metadata": {
    "collapsed": false
   }
  },
  {
   "cell_type": "code",
   "execution_count": 51,
   "outputs": [
    {
     "data": {
      "text/plain": "(8200, 32)"
     },
     "execution_count": 51,
     "metadata": {},
     "output_type": "execute_result"
    }
   ],
   "source": [
    "df[df[\"volume_of_home\"].isna()].shape"
   ],
   "metadata": {
    "collapsed": false
   }
  },
  {
   "cell_type": "code",
   "execution_count": 52,
   "outputs": [
    {
     "data": {
      "text/plain": "count    47608.000000\nmean     16269.150542\nstd       6381.620349\nmin       1111.000000\n25%      11544.000000\n50%      15112.000000\n75%      19682.250000\nmax      70376.000000\nName: volume_of_home, dtype: float64"
     },
     "execution_count": 52,
     "metadata": {},
     "output_type": "execute_result"
    }
   ],
   "source": [
    "df[\"volume_of_home\"].describe()"
   ],
   "metadata": {
    "collapsed": false
   }
  },
  {
   "cell_type": "code",
   "execution_count": 53,
   "outputs": [],
   "source": [
    "df[\"volume_of_home\"] = df[\"volume_of_home\"]*0.02832"
   ],
   "metadata": {
    "collapsed": false
   }
  },
  {
   "cell_type": "code",
   "execution_count": 54,
   "outputs": [
    {
     "data": {
      "text/plain": "271.87200    309\n407.80800    252\n326.24640    219\n217.49760    185\n453.12000    180\n            ... \n906.55152      1\n865.28928      1\n321.77184      1\n261.64848      1\n718.90320      1\nName: volume_of_home, Length: 11057, dtype: int64"
     },
     "execution_count": 54,
     "metadata": {},
     "output_type": "execute_result"
    }
   ],
   "source": [
    "df[\"volume_of_home\"].value_counts()"
   ],
   "metadata": {
    "collapsed": false
   }
  },
  {
   "cell_type": "markdown",
   "source": [
    "## Column 19: Number of Units"
   ],
   "metadata": {
    "collapsed": false
   }
  },
  {
   "cell_type": "code",
   "execution_count": 55,
   "outputs": [
    {
     "data": {
      "text/plain": "(16854, 32)"
     },
     "execution_count": 55,
     "metadata": {},
     "output_type": "execute_result"
    }
   ],
   "source": [
    "df[df[\"number_of_units\"].isna()].shape"
   ],
   "metadata": {
    "collapsed": false
   }
  },
  {
   "cell_type": "code",
   "execution_count": 56,
   "outputs": [
    {
     "data": {
      "text/plain": "(0, 32)"
     },
     "execution_count": 56,
     "metadata": {},
     "output_type": "execute_result"
    }
   ],
   "source": [
    "df[df[\"number_of_units\"] == 0].shape"
   ],
   "metadata": {
    "collapsed": false
   }
  },
  {
   "cell_type": "code",
   "execution_count": 57,
   "outputs": [
    {
     "data": {
      "text/plain": "count    38954.000000\nmean         1.035529\nstd          0.228219\nmin          1.000000\n25%          1.000000\n50%          1.000000\n75%          1.000000\nmax          4.000000\nName: number_of_units, dtype: float64"
     },
     "execution_count": 57,
     "metadata": {},
     "output_type": "execute_result"
    }
   ],
   "source": [
    "df[\"number_of_units\"].describe()"
   ],
   "metadata": {
    "collapsed": false
   }
  },
  {
   "cell_type": "code",
   "execution_count": 58,
   "outputs": [
    {
     "data": {
      "text/plain": "1.0    37837\n2.0      930\n3.0      107\n4.0       80\nName: number_of_units, dtype: int64"
     },
     "execution_count": 58,
     "metadata": {},
     "output_type": "execute_result"
    }
   ],
   "source": [
    "df[\"number_of_units\"].value_counts()"
   ],
   "metadata": {
    "collapsed": false
   }
  },
  {
   "cell_type": "markdown",
   "source": [
    "## Column 20: Measure Type"
   ],
   "metadata": {
    "collapsed": false
   }
  },
  {
   "cell_type": "code",
   "execution_count": 59,
   "outputs": [
    {
     "data": {
      "text/plain": "(0, 32)"
     },
     "execution_count": 59,
     "metadata": {},
     "output_type": "execute_result"
    }
   ],
   "source": [
    "df[df[\"measure_type\"].isna()].shape"
   ],
   "metadata": {
    "collapsed": false
   }
  },
  {
   "cell_type": "code",
   "execution_count": 60,
   "outputs": [
    {
     "data": {
      "text/plain": "count              55808\nunique                 3\ntop       Building Shell\nfreq               55277\nName: measure_type, dtype: object"
     },
     "execution_count": 60,
     "metadata": {},
     "output_type": "execute_result"
    }
   ],
   "source": [
    "df[\"measure_type\"].describe()"
   ],
   "metadata": {
    "collapsed": false
   }
  },
  {
   "cell_type": "code",
   "execution_count": 61,
   "outputs": [
    {
     "data": {
      "text/plain": "Building Shell         55277\nHeating and Cooling      525\nWater Heater               6\nName: measure_type, dtype: int64"
     },
     "execution_count": 61,
     "metadata": {},
     "output_type": "execute_result"
    }
   ],
   "source": [
    "df[\"measure_type\"].value_counts()"
   ],
   "metadata": {
    "collapsed": false
   }
  },
  {
   "cell_type": "markdown",
   "source": [
    "## Column 21: Estimated Annual kWh Savings"
   ],
   "metadata": {
    "collapsed": false
   }
  },
  {
   "cell_type": "code",
   "execution_count": 62,
   "outputs": [
    {
     "data": {
      "text/plain": "(0, 32)"
     },
     "execution_count": 62,
     "metadata": {},
     "output_type": "execute_result"
    }
   ],
   "source": [
    "df[df[\"estimated_annual_electricity_kwh_savings\"].isna()].shape"
   ],
   "metadata": {
    "collapsed": false
   }
  },
  {
   "cell_type": "code",
   "execution_count": 63,
   "outputs": [
    {
     "data": {
      "text/plain": "(23234, 32)"
     },
     "execution_count": 63,
     "metadata": {},
     "output_type": "execute_result"
    }
   ],
   "source": [
    "df[df[\"estimated_annual_electricity_kwh_savings\"] == 0].shape"
   ],
   "metadata": {
    "collapsed": false
   }
  },
  {
   "cell_type": "code",
   "execution_count": 64,
   "outputs": [
    {
     "data": {
      "text/plain": "count    55808.000000\nmean       363.587694\nstd       1691.379954\nmin     -27585.000000\n25%          0.000000\n50%          4.000000\n75%        313.000000\nmax      63480.000000\nName: estimated_annual_electricity_kwh_savings, dtype: float64"
     },
     "execution_count": 64,
     "metadata": {},
     "output_type": "execute_result"
    }
   ],
   "source": [
    "df[\"estimated_annual_electricity_kwh_savings\"].describe()"
   ],
   "metadata": {
    "collapsed": false
   }
  },
  {
   "cell_type": "markdown",
   "source": [
    "## Column 22: Estimated Annual MMBtu Savings"
   ],
   "metadata": {
    "collapsed": false
   }
  },
  {
   "cell_type": "code",
   "execution_count": 65,
   "outputs": [],
   "source": [
    "# convert MMBtU to Kwh\n",
    "df[\"estimated_annual_water_heating_kwh_savings\"] = (df[\"estimated_annual_water_heating_mmbtu_savings\"] * 293.29722222222).round(0)"
   ],
   "metadata": {
    "collapsed": false
   }
  },
  {
   "cell_type": "code",
   "execution_count": 66,
   "outputs": [],
   "source": [
    "# move next to amount financed columns\n",
    "water_heating = df.pop(\"estimated_annual_water_heating_kwh_savings\")\n",
    "df.insert(22, \"estimated_annual_water_heating_kwh_savings\", water_heating)"
   ],
   "metadata": {
    "collapsed": false
   }
  },
  {
   "cell_type": "code",
   "execution_count": 67,
   "outputs": [
    {
     "data": {
      "text/plain": "      home_performance_project_id home_performance_site_id project_county  \\\n0                          483911                   357221         Oneida   \n1                          486389                   343438          Wayne   \n2                          483374                   356880           Erie   \n3                          475733                   350454         Oneida   \n4                          483731                   356491     Livingston   \n...                           ...                      ...            ...   \n55825                P00000721450             S00000124921           Erie   \n55826                P00000727276             S00000130155    Schenectady   \n55827                P00000726343             S00000129326       Tompkins   \n55828                P00000727199             S00000130090         Monroe   \n55829                P00000725072             S00000128120         Monroe   \n\n      project_city  project_zip            gas_utility_provider  \\\n0        Barneveld        13304                             NaN   \n1          Palmyra        14522                             NaN   \n2          Buffalo        14215  National Fuel Gas Distribution   \n3             Rome        13440                             NaN   \n4             Lima        14485                             NaN   \n...            ...          ...                             ...   \n55825        Depew        14043  National Fuel Gas Distribution   \n55826  Schenectady        12303                   National Grid   \n55827    Freeville        13068   New York State Electric & Gas   \n55828    Rochester        14617        Rochester Gas & Electric   \n55829    Rochester        14624        Rochester Gas & Electric   \n\n           electric_utility_provider project_completion_date customer_type  \\\n0                      National Grid              2021-01-16      Assisted   \n1      New York State Electric & Gas              2021-01-06      Assisted   \n2                      National Grid              2020-12-15      Assisted   \n3                      National Grid              2020-12-09      Assisted   \n4                      National Grid              2020-12-08      Assisted   \n...                              ...                     ...           ...   \n55825  New York State Electric & Gas              2010-11-15        Market   \n55826                  National Grid              2011-01-28      Assisted   \n55827  New York State Electric & Gas              2011-01-13        Market   \n55828       Rochester Gas & Electric              2010-12-26        Market   \n55829       Rochester Gas & Electric              2011-02-01        Market   \n\n               job_type  ...  estimated_annual_water_heating_mmbtu_savings  \\\n0      Home Performance  ...                                            27   \n1      Home Performance  ...                                             3   \n2      Home Performance  ...                                             8   \n3      Home Performance  ...                                            28   \n4      Home Performance  ...                                             6   \n...                 ...  ...                                           ...   \n55825  Home Performance  ...                                            24   \n55826  Home Performance  ...                                            33   \n55827  Home Performance  ...                                            16   \n55828  Home Performance  ...                                            11   \n55829  Home Performance  ...                                             1   \n\n       first_year_energy_savings_$_estimate  \\\n0                                       474   \n1                                       111   \n2                                        61   \n3                                       681   \n4                                       146   \n...                                     ...   \n55825                                   340   \n55826                                   823   \n55827                                   887   \n55828                                   258   \n55829                                     9   \n\n      homeowner_received_free/reduced_cost_audit?  \\\n0                                               Y   \n1                                               Y   \n2                                               Y   \n3                                               Y   \n4                                               Y   \n...                                           ...   \n55825                                           N   \n55826                                           N   \n55827                                           N   \n55828                                           N   \n55829                                           N   \n\n                                                location  new_york_zip_codes  \\\n0      {'type': 'Point', 'coordinates': [-75.16936, 4...               764.0   \n1      {'type': 'Point', 'coordinates': [-77.218837, ...               364.0   \n2      {'type': 'Point', 'coordinates': [-78.808435, ...                71.0   \n3      {'type': 'Point', 'coordinates': [-75.454665, ...              1366.0   \n4      {'type': 'Point', 'coordinates': [-77.603561, ...               312.0   \n...                                                  ...                 ...   \n55825  {'type': 'Point', 'coordinates': [-78.702553, ...               506.0   \n55826  {'type': 'Point', 'coordinates': [-73.932117, ...                72.0   \n55827  {'type': 'Point', 'coordinates': [-76.359264, ...               622.0   \n55828  {'type': 'Point', 'coordinates': [-77.597999, ...              1676.0   \n55829  {'type': 'Point', 'coordinates': [-77.729647, ...              1683.0   \n\n      counties_2  nys_municipal_boundaries_2  starting_year  current_year  \\\n0          625.0                         985           2010          2021   \n1          631.0                         631           2010          2021   \n2         2041.0                         300           2010          2021   \n3          625.0                         989           2010          2021   \n4         2091.0                         742           2010          2021   \n...          ...                         ...            ...           ...   \n55825     2041.0                         298           2010          2021   \n55826     2030.0                         832           2010          2021   \n55827     2181.0                         712           2010          2021   \n55828     2093.0                         545           2010          2021   \n55829     2093.0                         549           2010          2021   \n\n       year  \n0      2021  \n1      2021  \n2      2020  \n3      2020  \n4      2020  \n...     ...  \n55825  2010  \n55826  2011  \n55827  2011  \n55828  2010  \n55829  2011  \n\n[55808 rows x 33 columns]",
      "text/html": "<div>\n<style scoped>\n    .dataframe tbody tr th:only-of-type {\n        vertical-align: middle;\n    }\n\n    .dataframe tbody tr th {\n        vertical-align: top;\n    }\n\n    .dataframe thead th {\n        text-align: right;\n    }\n</style>\n<table border=\"1\" class=\"dataframe\">\n  <thead>\n    <tr style=\"text-align: right;\">\n      <th></th>\n      <th>home_performance_project_id</th>\n      <th>home_performance_site_id</th>\n      <th>project_county</th>\n      <th>project_city</th>\n      <th>project_zip</th>\n      <th>gas_utility_provider</th>\n      <th>electric_utility_provider</th>\n      <th>project_completion_date</th>\n      <th>customer_type</th>\n      <th>job_type</th>\n      <th>...</th>\n      <th>estimated_annual_water_heating_mmbtu_savings</th>\n      <th>first_year_energy_savings_$_estimate</th>\n      <th>homeowner_received_free/reduced_cost_audit?</th>\n      <th>location</th>\n      <th>new_york_zip_codes</th>\n      <th>counties_2</th>\n      <th>nys_municipal_boundaries_2</th>\n      <th>starting_year</th>\n      <th>current_year</th>\n      <th>year</th>\n    </tr>\n  </thead>\n  <tbody>\n    <tr>\n      <th>0</th>\n      <td>483911</td>\n      <td>357221</td>\n      <td>Oneida</td>\n      <td>Barneveld</td>\n      <td>13304</td>\n      <td>NaN</td>\n      <td>National Grid</td>\n      <td>2021-01-16</td>\n      <td>Assisted</td>\n      <td>Home Performance</td>\n      <td>...</td>\n      <td>27</td>\n      <td>474</td>\n      <td>Y</td>\n      <td>{'type': 'Point', 'coordinates': [-75.16936, 4...</td>\n      <td>764.0</td>\n      <td>625.0</td>\n      <td>985</td>\n      <td>2010</td>\n      <td>2021</td>\n      <td>2021</td>\n    </tr>\n    <tr>\n      <th>1</th>\n      <td>486389</td>\n      <td>343438</td>\n      <td>Wayne</td>\n      <td>Palmyra</td>\n      <td>14522</td>\n      <td>NaN</td>\n      <td>New York State Electric &amp; Gas</td>\n      <td>2021-01-06</td>\n      <td>Assisted</td>\n      <td>Home Performance</td>\n      <td>...</td>\n      <td>3</td>\n      <td>111</td>\n      <td>Y</td>\n      <td>{'type': 'Point', 'coordinates': [-77.218837, ...</td>\n      <td>364.0</td>\n      <td>631.0</td>\n      <td>631</td>\n      <td>2010</td>\n      <td>2021</td>\n      <td>2021</td>\n    </tr>\n    <tr>\n      <th>2</th>\n      <td>483374</td>\n      <td>356880</td>\n      <td>Erie</td>\n      <td>Buffalo</td>\n      <td>14215</td>\n      <td>National Fuel Gas Distribution</td>\n      <td>National Grid</td>\n      <td>2020-12-15</td>\n      <td>Assisted</td>\n      <td>Home Performance</td>\n      <td>...</td>\n      <td>8</td>\n      <td>61</td>\n      <td>Y</td>\n      <td>{'type': 'Point', 'coordinates': [-78.808435, ...</td>\n      <td>71.0</td>\n      <td>2041.0</td>\n      <td>300</td>\n      <td>2010</td>\n      <td>2021</td>\n      <td>2020</td>\n    </tr>\n    <tr>\n      <th>3</th>\n      <td>475733</td>\n      <td>350454</td>\n      <td>Oneida</td>\n      <td>Rome</td>\n      <td>13440</td>\n      <td>NaN</td>\n      <td>National Grid</td>\n      <td>2020-12-09</td>\n      <td>Assisted</td>\n      <td>Home Performance</td>\n      <td>...</td>\n      <td>28</td>\n      <td>681</td>\n      <td>Y</td>\n      <td>{'type': 'Point', 'coordinates': [-75.454665, ...</td>\n      <td>1366.0</td>\n      <td>625.0</td>\n      <td>989</td>\n      <td>2010</td>\n      <td>2021</td>\n      <td>2020</td>\n    </tr>\n    <tr>\n      <th>4</th>\n      <td>483731</td>\n      <td>356491</td>\n      <td>Livingston</td>\n      <td>Lima</td>\n      <td>14485</td>\n      <td>NaN</td>\n      <td>National Grid</td>\n      <td>2020-12-08</td>\n      <td>Assisted</td>\n      <td>Home Performance</td>\n      <td>...</td>\n      <td>6</td>\n      <td>146</td>\n      <td>Y</td>\n      <td>{'type': 'Point', 'coordinates': [-77.603561, ...</td>\n      <td>312.0</td>\n      <td>2091.0</td>\n      <td>742</td>\n      <td>2010</td>\n      <td>2021</td>\n      <td>2020</td>\n    </tr>\n    <tr>\n      <th>...</th>\n      <td>...</td>\n      <td>...</td>\n      <td>...</td>\n      <td>...</td>\n      <td>...</td>\n      <td>...</td>\n      <td>...</td>\n      <td>...</td>\n      <td>...</td>\n      <td>...</td>\n      <td>...</td>\n      <td>...</td>\n      <td>...</td>\n      <td>...</td>\n      <td>...</td>\n      <td>...</td>\n      <td>...</td>\n      <td>...</td>\n      <td>...</td>\n      <td>...</td>\n      <td>...</td>\n    </tr>\n    <tr>\n      <th>55825</th>\n      <td>P00000721450</td>\n      <td>S00000124921</td>\n      <td>Erie</td>\n      <td>Depew</td>\n      <td>14043</td>\n      <td>National Fuel Gas Distribution</td>\n      <td>New York State Electric &amp; Gas</td>\n      <td>2010-11-15</td>\n      <td>Market</td>\n      <td>Home Performance</td>\n      <td>...</td>\n      <td>24</td>\n      <td>340</td>\n      <td>N</td>\n      <td>{'type': 'Point', 'coordinates': [-78.702553, ...</td>\n      <td>506.0</td>\n      <td>2041.0</td>\n      <td>298</td>\n      <td>2010</td>\n      <td>2021</td>\n      <td>2010</td>\n    </tr>\n    <tr>\n      <th>55826</th>\n      <td>P00000727276</td>\n      <td>S00000130155</td>\n      <td>Schenectady</td>\n      <td>Schenectady</td>\n      <td>12303</td>\n      <td>National Grid</td>\n      <td>National Grid</td>\n      <td>2011-01-28</td>\n      <td>Assisted</td>\n      <td>Home Performance</td>\n      <td>...</td>\n      <td>33</td>\n      <td>823</td>\n      <td>N</td>\n      <td>{'type': 'Point', 'coordinates': [-73.932117, ...</td>\n      <td>72.0</td>\n      <td>2030.0</td>\n      <td>832</td>\n      <td>2010</td>\n      <td>2021</td>\n      <td>2011</td>\n    </tr>\n    <tr>\n      <th>55827</th>\n      <td>P00000726343</td>\n      <td>S00000129326</td>\n      <td>Tompkins</td>\n      <td>Freeville</td>\n      <td>13068</td>\n      <td>New York State Electric &amp; Gas</td>\n      <td>New York State Electric &amp; Gas</td>\n      <td>2011-01-13</td>\n      <td>Market</td>\n      <td>Home Performance</td>\n      <td>...</td>\n      <td>16</td>\n      <td>887</td>\n      <td>N</td>\n      <td>{'type': 'Point', 'coordinates': [-76.359264, ...</td>\n      <td>622.0</td>\n      <td>2181.0</td>\n      <td>712</td>\n      <td>2010</td>\n      <td>2021</td>\n      <td>2011</td>\n    </tr>\n    <tr>\n      <th>55828</th>\n      <td>P00000727199</td>\n      <td>S00000130090</td>\n      <td>Monroe</td>\n      <td>Rochester</td>\n      <td>14617</td>\n      <td>Rochester Gas &amp; Electric</td>\n      <td>Rochester Gas &amp; Electric</td>\n      <td>2010-12-26</td>\n      <td>Market</td>\n      <td>Home Performance</td>\n      <td>...</td>\n      <td>11</td>\n      <td>258</td>\n      <td>N</td>\n      <td>{'type': 'Point', 'coordinates': [-77.597999, ...</td>\n      <td>1676.0</td>\n      <td>2093.0</td>\n      <td>545</td>\n      <td>2010</td>\n      <td>2021</td>\n      <td>2010</td>\n    </tr>\n    <tr>\n      <th>55829</th>\n      <td>P00000725072</td>\n      <td>S00000128120</td>\n      <td>Monroe</td>\n      <td>Rochester</td>\n      <td>14624</td>\n      <td>Rochester Gas &amp; Electric</td>\n      <td>Rochester Gas &amp; Electric</td>\n      <td>2011-02-01</td>\n      <td>Market</td>\n      <td>Home Performance</td>\n      <td>...</td>\n      <td>1</td>\n      <td>9</td>\n      <td>N</td>\n      <td>{'type': 'Point', 'coordinates': [-77.729647, ...</td>\n      <td>1683.0</td>\n      <td>2093.0</td>\n      <td>549</td>\n      <td>2010</td>\n      <td>2021</td>\n      <td>2011</td>\n    </tr>\n  </tbody>\n</table>\n<p>55808 rows × 33 columns</p>\n</div>"
     },
     "execution_count": 67,
     "metadata": {},
     "output_type": "execute_result"
    }
   ],
   "source": [
    "df"
   ],
   "metadata": {
    "collapsed": false
   }
  },
  {
   "cell_type": "code",
   "execution_count": 68,
   "outputs": [
    {
     "data": {
      "text/plain": "(0, 33)"
     },
     "execution_count": 68,
     "metadata": {},
     "output_type": "execute_result"
    }
   ],
   "source": [
    "df[df[\"estimated_annual_water_heating_mmbtu_savings\"].isna()].shape"
   ],
   "metadata": {
    "collapsed": false
   }
  },
  {
   "cell_type": "code",
   "execution_count": 69,
   "outputs": [
    {
     "data": {
      "text/plain": "(2909, 33)"
     },
     "execution_count": 69,
     "metadata": {},
     "output_type": "execute_result"
    }
   ],
   "source": [
    "df[df[\"estimated_annual_water_heating_mmbtu_savings\"] == 0].shape"
   ],
   "metadata": {
    "collapsed": false
   }
  },
  {
   "cell_type": "code",
   "execution_count": 70,
   "outputs": [
    {
     "data": {
      "text/plain": "count    55808.000000\nmean        28.625018\nstd         26.471955\nmin       -214.000000\n25%         11.000000\n50%         22.000000\n75%         39.000000\nmax        445.000000\nName: estimated_annual_water_heating_mmbtu_savings, dtype: float64"
     },
     "execution_count": 70,
     "metadata": {},
     "output_type": "execute_result"
    }
   ],
   "source": [
    "df[\"estimated_annual_water_heating_mmbtu_savings\"].describe()"
   ],
   "metadata": {
    "collapsed": false
   }
  },
  {
   "cell_type": "code",
   "execution_count": 71,
   "outputs": [
    {
     "data": {
      "text/plain": "<AxesSubplot:xlabel='estimated_annual_water_heating_mmbtu_savings', ylabel='Count'>"
     },
     "execution_count": 71,
     "metadata": {},
     "output_type": "execute_result"
    },
    {
     "data": {
      "text/plain": "<Figure size 640x480 with 1 Axes>",
      "image/png": "[encoded data removed]"
     },
     "metadata": {},
     "output_type": "display_data"
    }
   ],
   "source": [
    "sns.histplot(df[\"estimated_annual_water_heating_mmbtu_savings\"])"
   ],
   "metadata": {
    "collapsed": false
   }
  },
  {
   "cell_type": "markdown",
   "source": [
    "## Column 23: First Year Energy Savings $ Estimate"
   ],
   "metadata": {
    "collapsed": false
   }
  },
  {
   "cell_type": "code",
   "execution_count": 72,
   "outputs": [
    {
     "data": {
      "text/plain": "(0, 33)"
     },
     "execution_count": 72,
     "metadata": {},
     "output_type": "execute_result"
    }
   ],
   "source": [
    "df[df[\"first_year_energy_savings_$_estimate\"].isna()].shape"
   ],
   "metadata": {
    "collapsed": false
   }
  },
  {
   "cell_type": "code",
   "execution_count": 73,
   "outputs": [
    {
     "data": {
      "text/plain": "(105, 33)"
     },
     "execution_count": 73,
     "metadata": {},
     "output_type": "execute_result"
    }
   ],
   "source": [
    "df[df[\"first_year_energy_savings_$_estimate\"] == 0].shape"
   ],
   "metadata": {
    "collapsed": false
   }
  },
  {
   "cell_type": "code",
   "execution_count": 74,
   "outputs": [
    {
     "data": {
      "text/plain": "count    55808.000000\nmean       596.246058\nstd        683.593765\nmin          0.000000\n25%        160.000000\n50%        352.000000\n75%        763.000000\nmax       5981.000000\nName: first_year_energy_savings_$_estimate, dtype: float64"
     },
     "execution_count": 74,
     "metadata": {},
     "output_type": "execute_result"
    }
   ],
   "source": [
    "df[\"first_year_energy_savings_$_estimate\"].describe()"
   ],
   "metadata": {
    "collapsed": false
   }
  },
  {
   "cell_type": "code",
   "execution_count": 75,
   "outputs": [
    {
     "data": {
      "text/plain": "<AxesSubplot:xlabel='first_year_energy_savings_$_estimate', ylabel='Count'>"
     },
     "execution_count": 75,
     "metadata": {},
     "output_type": "execute_result"
    },
    {
     "data": {
      "text/plain": "<Figure size 640x480 with 1 Axes>",
      "image/png": "[encoded data removed]"
     },
     "metadata": {},
     "output_type": "display_data"
    }
   ],
   "source": [
    "sns.histplot(df[\"first_year_energy_savings_$_estimate\"])"
   ],
   "metadata": {
    "collapsed": false
   }
  },
  {
   "cell_type": "code",
   "execution_count": 76,
   "outputs": [
    {
     "data": {
      "text/plain": "      home_performance_project_id home_performance_site_id project_county  \\\n0                          483911                   357221         Oneida   \n1                          486389                   343438          Wayne   \n2                          483374                   356880           Erie   \n3                          475733                   350454         Oneida   \n4                          483731                   356491     Livingston   \n...                           ...                      ...            ...   \n55825                P00000721450             S00000124921           Erie   \n55826                P00000727276             S00000130155    Schenectady   \n55827                P00000726343             S00000129326       Tompkins   \n55828                P00000727199             S00000130090         Monroe   \n55829                P00000725072             S00000128120         Monroe   \n\n      project_city  project_zip            gas_utility_provider  \\\n0        Barneveld        13304                             NaN   \n1          Palmyra        14522                             NaN   \n2          Buffalo        14215  National Fuel Gas Distribution   \n3             Rome        13440                             NaN   \n4             Lima        14485                             NaN   \n...            ...          ...                             ...   \n55825        Depew        14043  National Fuel Gas Distribution   \n55826  Schenectady        12303                   National Grid   \n55827    Freeville        13068   New York State Electric & Gas   \n55828    Rochester        14617        Rochester Gas & Electric   \n55829    Rochester        14624        Rochester Gas & Electric   \n\n           electric_utility_provider project_completion_date customer_type  \\\n0                      National Grid              2021-01-16      Assisted   \n1      New York State Electric & Gas              2021-01-06      Assisted   \n2                      National Grid              2020-12-15      Assisted   \n3                      National Grid              2020-12-09      Assisted   \n4                      National Grid              2020-12-08      Assisted   \n...                              ...                     ...           ...   \n55825  New York State Electric & Gas              2010-11-15        Market   \n55826                  National Grid              2011-01-28      Assisted   \n55827  New York State Electric & Gas              2011-01-13        Market   \n55828       Rochester Gas & Electric              2010-12-26        Market   \n55829       Rochester Gas & Electric              2011-02-01        Market   \n\n               job_type  ...  estimated_annual_water_heating_mmbtu_savings  \\\n0      Home Performance  ...                                            27   \n1      Home Performance  ...                                             3   \n2      Home Performance  ...                                             8   \n3      Home Performance  ...                                            28   \n4      Home Performance  ...                                             6   \n...                 ...  ...                                           ...   \n55825  Home Performance  ...                                            24   \n55826  Home Performance  ...                                            33   \n55827  Home Performance  ...                                            16   \n55828  Home Performance  ...                                            11   \n55829  Home Performance  ...                                             1   \n\n       first_year_energy_savings_$_estimate  \\\n0                                       474   \n1                                       111   \n2                                        61   \n3                                       681   \n4                                       146   \n...                                     ...   \n55825                                   340   \n55826                                   823   \n55827                                   887   \n55828                                   258   \n55829                                     9   \n\n      homeowner_received_free/reduced_cost_audit?  \\\n0                                               Y   \n1                                               Y   \n2                                               Y   \n3                                               Y   \n4                                               Y   \n...                                           ...   \n55825                                           N   \n55826                                           N   \n55827                                           N   \n55828                                           N   \n55829                                           N   \n\n                                                location  new_york_zip_codes  \\\n0      {'type': 'Point', 'coordinates': [-75.16936, 4...               764.0   \n1      {'type': 'Point', 'coordinates': [-77.218837, ...               364.0   \n2      {'type': 'Point', 'coordinates': [-78.808435, ...                71.0   \n3      {'type': 'Point', 'coordinates': [-75.454665, ...              1366.0   \n4      {'type': 'Point', 'coordinates': [-77.603561, ...               312.0   \n...                                                  ...                 ...   \n55825  {'type': 'Point', 'coordinates': [-78.702553, ...               506.0   \n55826  {'type': 'Point', 'coordinates': [-73.932117, ...                72.0   \n55827  {'type': 'Point', 'coordinates': [-76.359264, ...               622.0   \n55828  {'type': 'Point', 'coordinates': [-77.597999, ...              1676.0   \n55829  {'type': 'Point', 'coordinates': [-77.729647, ...              1683.0   \n\n      counties_2  nys_municipal_boundaries_2  starting_year  current_year  \\\n0          625.0                         985           2010          2021   \n1          631.0                         631           2010          2021   \n2         2041.0                         300           2010          2021   \n3          625.0                         989           2010          2021   \n4         2091.0                         742           2010          2021   \n...          ...                         ...            ...           ...   \n55825     2041.0                         298           2010          2021   \n55826     2030.0                         832           2010          2021   \n55827     2181.0                         712           2010          2021   \n55828     2093.0                         545           2010          2021   \n55829     2093.0                         549           2010          2021   \n\n       year  \n0      2021  \n1      2021  \n2      2020  \n3      2020  \n4      2020  \n...     ...  \n55825  2010  \n55826  2011  \n55827  2011  \n55828  2010  \n55829  2011  \n\n[55808 rows x 33 columns]",
      "text/html": "<div>\n<style scoped>\n    .dataframe tbody tr th:only-of-type {\n        vertical-align: middle;\n    }\n\n    .dataframe tbody tr th {\n        vertical-align: top;\n    }\n\n    .dataframe thead th {\n        text-align: right;\n    }\n</style>\n<table border=\"1\" class=\"dataframe\">\n  <thead>\n    <tr style=\"text-align: right;\">\n      <th></th>\n      <th>home_performance_project_id</th>\n      <th>home_performance_site_id</th>\n      <th>project_county</th>\n      <th>project_city</th>\n      <th>project_zip</th>\n      <th>gas_utility_provider</th>\n      <th>electric_utility_provider</th>\n      <th>project_completion_date</th>\n      <th>customer_type</th>\n      <th>job_type</th>\n      <th>...</th>\n      <th>estimated_annual_water_heating_mmbtu_savings</th>\n      <th>first_year_energy_savings_$_estimate</th>\n      <th>homeowner_received_free/reduced_cost_audit?</th>\n      <th>location</th>\n      <th>new_york_zip_codes</th>\n      <th>counties_2</th>\n      <th>nys_municipal_boundaries_2</th>\n      <th>starting_year</th>\n      <th>current_year</th>\n      <th>year</th>\n    </tr>\n  </thead>\n  <tbody>\n    <tr>\n      <th>0</th>\n      <td>483911</td>\n      <td>357221</td>\n      <td>Oneida</td>\n      <td>Barneveld</td>\n      <td>13304</td>\n      <td>NaN</td>\n      <td>National Grid</td>\n      <td>2021-01-16</td>\n      <td>Assisted</td>\n      <td>Home Performance</td>\n      <td>...</td>\n      <td>27</td>\n      <td>474</td>\n      <td>Y</td>\n      <td>{'type': 'Point', 'coordinates': [-75.16936, 4...</td>\n      <td>764.0</td>\n      <td>625.0</td>\n      <td>985</td>\n      <td>2010</td>\n      <td>2021</td>\n      <td>2021</td>\n    </tr>\n    <tr>\n      <th>1</th>\n      <td>486389</td>\n      <td>343438</td>\n      <td>Wayne</td>\n      <td>Palmyra</td>\n      <td>14522</td>\n      <td>NaN</td>\n      <td>New York State Electric &amp; Gas</td>\n      <td>2021-01-06</td>\n      <td>Assisted</td>\n      <td>Home Performance</td>\n      <td>...</td>\n      <td>3</td>\n      <td>111</td>\n      <td>Y</td>\n      <td>{'type': 'Point', 'coordinates': [-77.218837, ...</td>\n      <td>364.0</td>\n      <td>631.0</td>\n      <td>631</td>\n      <td>2010</td>\n      <td>2021</td>\n      <td>2021</td>\n    </tr>\n    <tr>\n      <th>2</th>\n      <td>483374</td>\n      <td>356880</td>\n      <td>Erie</td>\n      <td>Buffalo</td>\n      <td>14215</td>\n      <td>National Fuel Gas Distribution</td>\n      <td>National Grid</td>\n      <td>2020-12-15</td>\n      <td>Assisted</td>\n      <td>Home Performance</td>\n      <td>...</td>\n      <td>8</td>\n      <td>61</td>\n      <td>Y</td>\n      <td>{'type': 'Point', 'coordinates': [-78.808435, ...</td>\n      <td>71.0</td>\n      <td>2041.0</td>\n      <td>300</td>\n      <td>2010</td>\n      <td>2021</td>\n      <td>2020</td>\n    </tr>\n    <tr>\n      <th>3</th>\n      <td>475733</td>\n      <td>350454</td>\n      <td>Oneida</td>\n      <td>Rome</td>\n      <td>13440</td>\n      <td>NaN</td>\n      <td>National Grid</td>\n      <td>2020-12-09</td>\n      <td>Assisted</td>\n      <td>Home Performance</td>\n      <td>...</td>\n      <td>28</td>\n      <td>681</td>\n      <td>Y</td>\n      <td>{'type': 'Point', 'coordinates': [-75.454665, ...</td>\n      <td>1366.0</td>\n      <td>625.0</td>\n      <td>989</td>\n      <td>2010</td>\n      <td>2021</td>\n      <td>2020</td>\n    </tr>\n    <tr>\n      <th>4</th>\n      <td>483731</td>\n      <td>356491</td>\n      <td>Livingston</td>\n      <td>Lima</td>\n      <td>14485</td>\n      <td>NaN</td>\n      <td>National Grid</td>\n      <td>2020-12-08</td>\n      <td>Assisted</td>\n      <td>Home Performance</td>\n      <td>...</td>\n      <td>6</td>\n      <td>146</td>\n      <td>Y</td>\n      <td>{'type': 'Point', 'coordinates': [-77.603561, ...</td>\n      <td>312.0</td>\n      <td>2091.0</td>\n      <td>742</td>\n      <td>2010</td>\n      <td>2021</td>\n      <td>2020</td>\n    </tr>\n    <tr>\n      <th>...</th>\n      <td>...</td>\n      <td>...</td>\n      <td>...</td>\n      <td>...</td>\n      <td>...</td>\n      <td>...</td>\n      <td>...</td>\n      <td>...</td>\n      <td>...</td>\n      <td>...</td>\n      <td>...</td>\n      <td>...</td>\n      <td>...</td>\n      <td>...</td>\n      <td>...</td>\n      <td>...</td>\n      <td>...</td>\n      <td>...</td>\n      <td>...</td>\n      <td>...</td>\n      <td>...</td>\n    </tr>\n    <tr>\n      <th>55825</th>\n      <td>P00000721450</td>\n      <td>S00000124921</td>\n      <td>Erie</td>\n      <td>Depew</td>\n      <td>14043</td>\n      <td>National Fuel Gas Distribution</td>\n      <td>New York State Electric &amp; Gas</td>\n      <td>2010-11-15</td>\n      <td>Market</td>\n      <td>Home Performance</td>\n      <td>...</td>\n      <td>24</td>\n      <td>340</td>\n      <td>N</td>\n      <td>{'type': 'Point', 'coordinates': [-78.702553, ...</td>\n      <td>506.0</td>\n      <td>2041.0</td>\n      <td>298</td>\n      <td>2010</td>\n      <td>2021</td>\n      <td>2010</td>\n    </tr>\n    <tr>\n      <th>55826</th>\n      <td>P00000727276</td>\n      <td>S00000130155</td>\n      <td>Schenectady</td>\n      <td>Schenectady</td>\n      <td>12303</td>\n      <td>National Grid</td>\n      <td>National Grid</td>\n      <td>2011-01-28</td>\n      <td>Assisted</td>\n      <td>Home Performance</td>\n      <td>...</td>\n      <td>33</td>\n      <td>823</td>\n      <td>N</td>\n      <td>{'type': 'Point', 'coordinates': [-73.932117, ...</td>\n      <td>72.0</td>\n      <td>2030.0</td>\n      <td>832</td>\n      <td>2010</td>\n      <td>2021</td>\n      <td>2011</td>\n    </tr>\n    <tr>\n      <th>55827</th>\n      <td>P00000726343</td>\n      <td>S00000129326</td>\n      <td>Tompkins</td>\n      <td>Freeville</td>\n      <td>13068</td>\n      <td>New York State Electric &amp; Gas</td>\n      <td>New York State Electric &amp; Gas</td>\n      <td>2011-01-13</td>\n      <td>Market</td>\n      <td>Home Performance</td>\n      <td>...</td>\n      <td>16</td>\n      <td>887</td>\n      <td>N</td>\n      <td>{'type': 'Point', 'coordinates': [-76.359264, ...</td>\n      <td>622.0</td>\n      <td>2181.0</td>\n      <td>712</td>\n      <td>2010</td>\n      <td>2021</td>\n      <td>2011</td>\n    </tr>\n    <tr>\n      <th>55828</th>\n      <td>P00000727199</td>\n      <td>S00000130090</td>\n      <td>Monroe</td>\n      <td>Rochester</td>\n      <td>14617</td>\n      <td>Rochester Gas &amp; Electric</td>\n      <td>Rochester Gas &amp; Electric</td>\n      <td>2010-12-26</td>\n      <td>Market</td>\n      <td>Home Performance</td>\n      <td>...</td>\n      <td>11</td>\n      <td>258</td>\n      <td>N</td>\n      <td>{'type': 'Point', 'coordinates': [-77.597999, ...</td>\n      <td>1676.0</td>\n      <td>2093.0</td>\n      <td>545</td>\n      <td>2010</td>\n      <td>2021</td>\n      <td>2010</td>\n    </tr>\n    <tr>\n      <th>55829</th>\n      <td>P00000725072</td>\n      <td>S00000128120</td>\n      <td>Monroe</td>\n      <td>Rochester</td>\n      <td>14624</td>\n      <td>Rochester Gas &amp; Electric</td>\n      <td>Rochester Gas &amp; Electric</td>\n      <td>2011-02-01</td>\n      <td>Market</td>\n      <td>Home Performance</td>\n      <td>...</td>\n      <td>1</td>\n      <td>9</td>\n      <td>N</td>\n      <td>{'type': 'Point', 'coordinates': [-77.729647, ...</td>\n      <td>1683.0</td>\n      <td>2093.0</td>\n      <td>549</td>\n      <td>2010</td>\n      <td>2021</td>\n      <td>2011</td>\n    </tr>\n  </tbody>\n</table>\n<p>55808 rows × 33 columns</p>\n</div>"
     },
     "execution_count": 76,
     "metadata": {},
     "output_type": "execute_result"
    }
   ],
   "source": [
    "df"
   ],
   "metadata": {
    "collapsed": false
   }
  },
  {
   "cell_type": "markdown",
   "source": [
    "## Column 24: Homeowner Received Green Jobs-Green NY Free/Reduced Cost Audit (Y/N)"
   ],
   "metadata": {
    "collapsed": false
   }
  },
  {
   "cell_type": "code",
   "execution_count": 77,
   "outputs": [
    {
     "data": {
      "text/plain": "(0, 33)"
     },
     "execution_count": 77,
     "metadata": {},
     "output_type": "execute_result"
    }
   ],
   "source": [
    "df[df[\"homeowner_received_free/reduced_cost_audit?\"].isna()].shape"
   ],
   "metadata": {
    "collapsed": false
   }
  },
  {
   "cell_type": "code",
   "execution_count": 78,
   "outputs": [
    {
     "data": {
      "text/plain": "(0, 33)"
     },
     "execution_count": 78,
     "metadata": {},
     "output_type": "execute_result"
    }
   ],
   "source": [
    "df[df[\"homeowner_received_free/reduced_cost_audit?\"] == 0].shape"
   ],
   "metadata": {
    "collapsed": false
   }
  },
  {
   "cell_type": "code",
   "execution_count": 79,
   "outputs": [
    {
     "data": {
      "text/plain": "Y    47444\nN     8364\nName: homeowner_received_free/reduced_cost_audit?, dtype: int64"
     },
     "execution_count": 79,
     "metadata": {},
     "output_type": "execute_result"
    }
   ],
   "source": [
    "df[\"homeowner_received_free/reduced_cost_audit?\"].value_counts()"
   ],
   "metadata": {
    "collapsed": false
   }
  },
  {
   "cell_type": "code",
   "execution_count": 80,
   "outputs": [],
   "source": [
    "clm24_translator = {\"Y\": True, \"N\": False}"
   ],
   "metadata": {
    "collapsed": false
   }
  },
  {
   "cell_type": "code",
   "execution_count": 81,
   "outputs": [
    {
     "data": {
      "text/plain": "      home_performance_project_id home_performance_site_id project_county  \\\n0                          483911                   357221         Oneida   \n1                          486389                   343438          Wayne   \n2                          483374                   356880           Erie   \n3                          475733                   350454         Oneida   \n4                          483731                   356491     Livingston   \n...                           ...                      ...            ...   \n55825                P00000721450             S00000124921           Erie   \n55826                P00000727276             S00000130155    Schenectady   \n55827                P00000726343             S00000129326       Tompkins   \n55828                P00000727199             S00000130090         Monroe   \n55829                P00000725072             S00000128120         Monroe   \n\n      project_city  project_zip            gas_utility_provider  \\\n0        Barneveld        13304                             NaN   \n1          Palmyra        14522                             NaN   \n2          Buffalo        14215  National Fuel Gas Distribution   \n3             Rome        13440                             NaN   \n4             Lima        14485                             NaN   \n...            ...          ...                             ...   \n55825        Depew        14043  National Fuel Gas Distribution   \n55826  Schenectady        12303                   National Grid   \n55827    Freeville        13068   New York State Electric & Gas   \n55828    Rochester        14617        Rochester Gas & Electric   \n55829    Rochester        14624        Rochester Gas & Electric   \n\n           electric_utility_provider project_completion_date customer_type  \\\n0                      National Grid              2021-01-16      Assisted   \n1      New York State Electric & Gas              2021-01-06      Assisted   \n2                      National Grid              2020-12-15      Assisted   \n3                      National Grid              2020-12-09      Assisted   \n4                      National Grid              2020-12-08      Assisted   \n...                              ...                     ...           ...   \n55825  New York State Electric & Gas              2010-11-15        Market   \n55826                  National Grid              2011-01-28      Assisted   \n55827  New York State Electric & Gas              2011-01-13        Market   \n55828       Rochester Gas & Electric              2010-12-26        Market   \n55829       Rochester Gas & Electric              2011-02-01        Market   \n\n               job_type  ...  estimated_annual_water_heating_mmbtu_savings  \\\n0      Home Performance  ...                                            27   \n1      Home Performance  ...                                             3   \n2      Home Performance  ...                                             8   \n3      Home Performance  ...                                            28   \n4      Home Performance  ...                                             6   \n...                 ...  ...                                           ...   \n55825  Home Performance  ...                                            24   \n55826  Home Performance  ...                                            33   \n55827  Home Performance  ...                                            16   \n55828  Home Performance  ...                                            11   \n55829  Home Performance  ...                                             1   \n\n       first_year_energy_savings_$_estimate  \\\n0                                       474   \n1                                       111   \n2                                        61   \n3                                       681   \n4                                       146   \n...                                     ...   \n55825                                   340   \n55826                                   823   \n55827                                   887   \n55828                                   258   \n55829                                     9   \n\n      homeowner_received_free/reduced_cost_audit?  \\\n0                                            True   \n1                                            True   \n2                                            True   \n3                                            True   \n4                                            True   \n...                                           ...   \n55825                                       False   \n55826                                       False   \n55827                                       False   \n55828                                       False   \n55829                                       False   \n\n                                                location  new_york_zip_codes  \\\n0      {'type': 'Point', 'coordinates': [-75.16936, 4...               764.0   \n1      {'type': 'Point', 'coordinates': [-77.218837, ...               364.0   \n2      {'type': 'Point', 'coordinates': [-78.808435, ...                71.0   \n3      {'type': 'Point', 'coordinates': [-75.454665, ...              1366.0   \n4      {'type': 'Point', 'coordinates': [-77.603561, ...               312.0   \n...                                                  ...                 ...   \n55825  {'type': 'Point', 'coordinates': [-78.702553, ...               506.0   \n55826  {'type': 'Point', 'coordinates': [-73.932117, ...                72.0   \n55827  {'type': 'Point', 'coordinates': [-76.359264, ...               622.0   \n55828  {'type': 'Point', 'coordinates': [-77.597999, ...              1676.0   \n55829  {'type': 'Point', 'coordinates': [-77.729647, ...              1683.0   \n\n      counties_2  nys_municipal_boundaries_2  starting_year  current_year  \\\n0          625.0                         985           2010          2021   \n1          631.0                         631           2010          2021   \n2         2041.0                         300           2010          2021   \n3          625.0                         989           2010          2021   \n4         2091.0                         742           2010          2021   \n...          ...                         ...            ...           ...   \n55825     2041.0                         298           2010          2021   \n55826     2030.0                         832           2010          2021   \n55827     2181.0                         712           2010          2021   \n55828     2093.0                         545           2010          2021   \n55829     2093.0                         549           2010          2021   \n\n       year  \n0      2021  \n1      2021  \n2      2020  \n3      2020  \n4      2020  \n...     ...  \n55825  2010  \n55826  2011  \n55827  2011  \n55828  2010  \n55829  2011  \n\n[55808 rows x 33 columns]",
      "text/html": "<div>\n<style scoped>\n    .dataframe tbody tr th:only-of-type {\n        vertical-align: middle;\n    }\n\n    .dataframe tbody tr th {\n        vertical-align: top;\n    }\n\n    .dataframe thead th {\n        text-align: right;\n    }\n</style>\n<table border=\"1\" class=\"dataframe\">\n  <thead>\n    <tr style=\"text-align: right;\">\n      <th></th>\n      <th>home_performance_project_id</th>\n      <th>home_performance_site_id</th>\n      <th>project_county</th>\n      <th>project_city</th>\n      <th>project_zip</th>\n      <th>gas_utility_provider</th>\n      <th>electric_utility_provider</th>\n      <th>project_completion_date</th>\n      <th>customer_type</th>\n      <th>job_type</th>\n      <th>...</th>\n      <th>estimated_annual_water_heating_mmbtu_savings</th>\n      <th>first_year_energy_savings_$_estimate</th>\n      <th>homeowner_received_free/reduced_cost_audit?</th>\n      <th>location</th>\n      <th>new_york_zip_codes</th>\n      <th>counties_2</th>\n      <th>nys_municipal_boundaries_2</th>\n      <th>starting_year</th>\n      <th>current_year</th>\n      <th>year</th>\n    </tr>\n  </thead>\n  <tbody>\n    <tr>\n      <th>0</th>\n      <td>483911</td>\n      <td>357221</td>\n      <td>Oneida</td>\n      <td>Barneveld</td>\n      <td>13304</td>\n      <td>NaN</td>\n      <td>National Grid</td>\n      <td>2021-01-16</td>\n      <td>Assisted</td>\n      <td>Home Performance</td>\n      <td>...</td>\n      <td>27</td>\n      <td>474</td>\n      <td>True</td>\n      <td>{'type': 'Point', 'coordinates': [-75.16936, 4...</td>\n      <td>764.0</td>\n      <td>625.0</td>\n      <td>985</td>\n      <td>2010</td>\n      <td>2021</td>\n      <td>2021</td>\n    </tr>\n    <tr>\n      <th>1</th>\n      <td>486389</td>\n      <td>343438</td>\n      <td>Wayne</td>\n      <td>Palmyra</td>\n      <td>14522</td>\n      <td>NaN</td>\n      <td>New York State Electric &amp; Gas</td>\n      <td>2021-01-06</td>\n      <td>Assisted</td>\n      <td>Home Performance</td>\n      <td>...</td>\n      <td>3</td>\n      <td>111</td>\n      <td>True</td>\n      <td>{'type': 'Point', 'coordinates': [-77.218837, ...</td>\n      <td>364.0</td>\n      <td>631.0</td>\n      <td>631</td>\n      <td>2010</td>\n      <td>2021</td>\n      <td>2021</td>\n    </tr>\n    <tr>\n      <th>2</th>\n      <td>483374</td>\n      <td>356880</td>\n      <td>Erie</td>\n      <td>Buffalo</td>\n      <td>14215</td>\n      <td>National Fuel Gas Distribution</td>\n      <td>National Grid</td>\n      <td>2020-12-15</td>\n      <td>Assisted</td>\n      <td>Home Performance</td>\n      <td>...</td>\n      <td>8</td>\n      <td>61</td>\n      <td>True</td>\n      <td>{'type': 'Point', 'coordinates': [-78.808435, ...</td>\n      <td>71.0</td>\n      <td>2041.0</td>\n      <td>300</td>\n      <td>2010</td>\n      <td>2021</td>\n      <td>2020</td>\n    </tr>\n    <tr>\n      <th>3</th>\n      <td>475733</td>\n      <td>350454</td>\n      <td>Oneida</td>\n      <td>Rome</td>\n      <td>13440</td>\n      <td>NaN</td>\n      <td>National Grid</td>\n      <td>2020-12-09</td>\n      <td>Assisted</td>\n      <td>Home Performance</td>\n      <td>...</td>\n      <td>28</td>\n      <td>681</td>\n      <td>True</td>\n      <td>{'type': 'Point', 'coordinates': [-75.454665, ...</td>\n      <td>1366.0</td>\n      <td>625.0</td>\n      <td>989</td>\n      <td>2010</td>\n      <td>2021</td>\n      <td>2020</td>\n    </tr>\n    <tr>\n      <th>4</th>\n      <td>483731</td>\n      <td>356491</td>\n      <td>Livingston</td>\n      <td>Lima</td>\n      <td>14485</td>\n      <td>NaN</td>\n      <td>National Grid</td>\n      <td>2020-12-08</td>\n      <td>Assisted</td>\n      <td>Home Performance</td>\n      <td>...</td>\n      <td>6</td>\n      <td>146</td>\n      <td>True</td>\n      <td>{'type': 'Point', 'coordinates': [-77.603561, ...</td>\n      <td>312.0</td>\n      <td>2091.0</td>\n      <td>742</td>\n      <td>2010</td>\n      <td>2021</td>\n      <td>2020</td>\n    </tr>\n    <tr>\n      <th>...</th>\n      <td>...</td>\n      <td>...</td>\n      <td>...</td>\n      <td>...</td>\n      <td>...</td>\n      <td>...</td>\n      <td>...</td>\n      <td>...</td>\n      <td>...</td>\n      <td>...</td>\n      <td>...</td>\n      <td>...</td>\n      <td>...</td>\n      <td>...</td>\n      <td>...</td>\n      <td>...</td>\n      <td>...</td>\n      <td>...</td>\n      <td>...</td>\n      <td>...</td>\n      <td>...</td>\n    </tr>\n    <tr>\n      <th>55825</th>\n      <td>P00000721450</td>\n      <td>S00000124921</td>\n      <td>Erie</td>\n      <td>Depew</td>\n      <td>14043</td>\n      <td>National Fuel Gas Distribution</td>\n      <td>New York State Electric &amp; Gas</td>\n      <td>2010-11-15</td>\n      <td>Market</td>\n      <td>Home Performance</td>\n      <td>...</td>\n      <td>24</td>\n      <td>340</td>\n      <td>False</td>\n      <td>{'type': 'Point', 'coordinates': [-78.702553, ...</td>\n      <td>506.0</td>\n      <td>2041.0</td>\n      <td>298</td>\n      <td>2010</td>\n      <td>2021</td>\n      <td>2010</td>\n    </tr>\n    <tr>\n      <th>55826</th>\n      <td>P00000727276</td>\n      <td>S00000130155</td>\n      <td>Schenectady</td>\n      <td>Schenectady</td>\n      <td>12303</td>\n      <td>National Grid</td>\n      <td>National Grid</td>\n      <td>2011-01-28</td>\n      <td>Assisted</td>\n      <td>Home Performance</td>\n      <td>...</td>\n      <td>33</td>\n      <td>823</td>\n      <td>False</td>\n      <td>{'type': 'Point', 'coordinates': [-73.932117, ...</td>\n      <td>72.0</td>\n      <td>2030.0</td>\n      <td>832</td>\n      <td>2010</td>\n      <td>2021</td>\n      <td>2011</td>\n    </tr>\n    <tr>\n      <th>55827</th>\n      <td>P00000726343</td>\n      <td>S00000129326</td>\n      <td>Tompkins</td>\n      <td>Freeville</td>\n      <td>13068</td>\n      <td>New York State Electric &amp; Gas</td>\n      <td>New York State Electric &amp; Gas</td>\n      <td>2011-01-13</td>\n      <td>Market</td>\n      <td>Home Performance</td>\n      <td>...</td>\n      <td>16</td>\n      <td>887</td>\n      <td>False</td>\n      <td>{'type': 'Point', 'coordinates': [-76.359264, ...</td>\n      <td>622.0</td>\n      <td>2181.0</td>\n      <td>712</td>\n      <td>2010</td>\n      <td>2021</td>\n      <td>2011</td>\n    </tr>\n    <tr>\n      <th>55828</th>\n      <td>P00000727199</td>\n      <td>S00000130090</td>\n      <td>Monroe</td>\n      <td>Rochester</td>\n      <td>14617</td>\n      <td>Rochester Gas &amp; Electric</td>\n      <td>Rochester Gas &amp; Electric</td>\n      <td>2010-12-26</td>\n      <td>Market</td>\n      <td>Home Performance</td>\n      <td>...</td>\n      <td>11</td>\n      <td>258</td>\n      <td>False</td>\n      <td>{'type': 'Point', 'coordinates': [-77.597999, ...</td>\n      <td>1676.0</td>\n      <td>2093.0</td>\n      <td>545</td>\n      <td>2010</td>\n      <td>2021</td>\n      <td>2010</td>\n    </tr>\n    <tr>\n      <th>55829</th>\n      <td>P00000725072</td>\n      <td>S00000128120</td>\n      <td>Monroe</td>\n      <td>Rochester</td>\n      <td>14624</td>\n      <td>Rochester Gas &amp; Electric</td>\n      <td>Rochester Gas &amp; Electric</td>\n      <td>2011-02-01</td>\n      <td>Market</td>\n      <td>Home Performance</td>\n      <td>...</td>\n      <td>1</td>\n      <td>9</td>\n      <td>False</td>\n      <td>{'type': 'Point', 'coordinates': [-77.729647, ...</td>\n      <td>1683.0</td>\n      <td>2093.0</td>\n      <td>549</td>\n      <td>2010</td>\n      <td>2021</td>\n      <td>2011</td>\n    </tr>\n  </tbody>\n</table>\n<p>55808 rows × 33 columns</p>\n</div>"
     },
     "execution_count": 81,
     "metadata": {},
     "output_type": "execute_result"
    }
   ],
   "source": [
    "unify_column_entries(df, clm24_translator, \"homeowner_received_free/reduced_cost_audit?\")"
   ],
   "metadata": {
    "collapsed": false
   }
  },
  {
   "cell_type": "markdown",
   "source": [
    "## Column 25: New Georeferenced Column"
   ],
   "metadata": {
    "collapsed": false
   }
  },
  {
   "cell_type": "markdown",
   "source": [
    "**google says \"latitude and longitude\" --> change order**"
   ],
   "metadata": {
    "collapsed": false
   }
  },
  {
   "cell_type": "code",
   "execution_count": 82,
   "outputs": [],
   "source": [
    "import ast\n",
    "\n",
    "df[\"latitude\"] = df[\"location\"].apply(lambda x: ast.literal_eval(x)[\"coordinates\"][1])\n",
    "df[\"longitude\"] = df[\"location\"].apply(lambda x: ast.literal_eval(x)[\"coordinates\"][0])\n",
    "df.drop([\"location\"], axis=1, inplace=True)"
   ],
   "metadata": {
    "collapsed": false
   }
  },
  {
   "cell_type": "markdown",
   "source": [
    "## Columns 26 - 28: Remove columns"
   ],
   "metadata": {
    "collapsed": false
   }
  },
  {
   "cell_type": "code",
   "execution_count": 83,
   "outputs": [],
   "source": [
    "df.drop([\"new_york_zip_codes\", \"counties_2\", \"nys_municipal_boundaries_2\"], axis=1, inplace=True)"
   ],
   "metadata": {
    "collapsed": false
   }
  },
  {
   "cell_type": "markdown",
   "source": [
    "## Final dataframe"
   ],
   "metadata": {
    "collapsed": false
   }
  },
  {
   "cell_type": "code",
   "execution_count": 84,
   "outputs": [],
   "source": [
    "df[\"savings_sum\"] = df[\"estimated_annual_electricity_kwh_savings\"] + df[\"estimated_annual_water_heating_kwh_savings\"]"
   ],
   "metadata": {
    "collapsed": false
   }
  },
  {
   "cell_type": "code",
   "execution_count": 85,
   "outputs": [
    {
     "data": {
      "text/plain": "Int64Index([    0,     2,     3,     4,     7,     9,    10,    11,    12,\n               13,\n            ...\n            55804, 55807, 55810, 55814, 55820, 55823, 55825, 55826, 55827,\n            55829],\n           dtype='int64', length=23234)"
     },
     "execution_count": 85,
     "metadata": {},
     "output_type": "execute_result"
    }
   ],
   "source": [
    "df[df[\"estimated_annual_electricity_kwh_savings\"] == 0].index"
   ],
   "metadata": {
    "collapsed": false
   }
  },
  {
   "cell_type": "code",
   "execution_count": 86,
   "outputs": [],
   "source": [
    "df[\"water_heating_price\"] = df[df[\"estimated_annual_electricity_kwh_savings\"] == 0][\"first_year_energy_savings_$_estimate\"]/df[df[\"estimated_annual_electricity_kwh_savings\"] == 0][\"estimated_annual_water_heating_kwh_savings\"]"
   ],
   "metadata": {
    "collapsed": false
   }
  },
  {
   "cell_type": "code",
   "execution_count": 87,
   "outputs": [],
   "source": [
    "df[\"electricity_price\"] = df[df[\"estimated_annual_water_heating_kwh_savings\"] == 0][\"first_year_energy_savings_$_estimate\"]/df[df[\"estimated_annual_water_heating_kwh_savings\"] == 0][\"estimated_annual_electricity_kwh_savings\"]"
   ],
   "metadata": {
    "collapsed": false
   }
  },
  {
   "cell_type": "code",
   "execution_count": 88,
   "outputs": [],
   "source": [
    "df[df[\"electricity_price\"] < 0] = 0"
   ],
   "metadata": {
    "collapsed": false
   }
  },
  {
   "cell_type": "code",
   "execution_count": 89,
   "outputs": [
    {
     "data": {
      "text/plain": "count    2.313900e+04\nmean              inf\nstd               NaN\nmin      0.000000e+00\n25%      3.539912e-02\n50%      5.049674e-02\n75%      9.732791e-02\nmax               inf\nName: water_heating_price, dtype: float64"
     },
     "execution_count": 89,
     "metadata": {},
     "output_type": "execute_result"
    }
   ],
   "source": [
    "# set water heating price to zero where estimate is negative\n",
    "df[\"water_heating_price\"].describe()"
   ],
   "metadata": {
    "collapsed": false
   }
  },
  {
   "cell_type": "code",
   "execution_count": 90,
   "outputs": [
    {
     "data": {
      "text/plain": "count    2807.000000\nmean             inf\nstd              NaN\nmin         0.000000\n25%         0.100690\n50%         0.110251\n75%         0.141352\nmax              inf\nName: electricity_price, dtype: float64"
     },
     "execution_count": 90,
     "metadata": {},
     "output_type": "execute_result"
    }
   ],
   "source": [
    "df[\"electricity_price\"].describe()"
   ],
   "metadata": {
    "collapsed": false
   }
  },
  {
   "cell_type": "markdown",
   "source": [
    "## Create cumulative sums and save to .csv"
   ],
   "metadata": {
    "collapsed": false
   }
  },
  {
   "cell_type": "code",
   "execution_count": 95,
   "outputs": [],
   "source": [
    "df[\"years_since_completion\"] = df[\"current_year\"]-df[\"year\"]"
   ],
   "metadata": {
    "collapsed": false
   }
  },
  {
   "cell_type": "code",
   "execution_count": 91,
   "outputs": [],
   "source": [
    "df[\"cumulative_sum_savings$\"] = df[\"first_year_energy_savings_$_estimate\"].cumsum()"
   ],
   "metadata": {
    "collapsed": false
   }
  },
  {
   "cell_type": "code",
   "execution_count": 97,
   "outputs": [
    {
     "data": {
      "text/plain": "0        2021\n1        2021\n2        2020\n3        2020\n4        2020\n         ... \n55825    2010\n55826    2011\n55827    2011\n55828    2010\n55829    2011\nName: year, Length: 55808, dtype: int64"
     },
     "execution_count": 97,
     "metadata": {},
     "output_type": "execute_result"
    }
   ],
   "source": [
    "df[\"cumulative_sum_costs\"] = df[\"total_project_cost\"].cumsum()"
   ],
   "metadata": {
    "collapsed": false
   }
  },
  {
   "cell_type": "code",
   "execution_count": 98,
   "outputs": [],
   "source": [
    "df[\"savings_since_completion\"] = df[\"years_since_completion\"]*df[\"first_year_energy_savings_$_estimate\"]"
   ],
   "metadata": {
    "collapsed": false
   }
  },
  {
   "cell_type": "code",
   "execution_count": 99,
   "outputs": [
    {
     "data": {
      "text/plain": "0           0\n1           0\n2          61\n3         681\n4         146\n         ... \n55825    3740\n55826    8230\n55827    8870\n55828    2838\n55829      90\nName: savings_since_completion, Length: 55808, dtype: int64"
     },
     "execution_count": 99,
     "metadata": {},
     "output_type": "execute_result"
    }
   ],
   "source": [
    "df[\"savings_since_completion\"]"
   ],
   "metadata": {
    "collapsed": false
   }
  },
  {
   "cell_type": "code",
   "execution_count": 100,
   "outputs": [
    {
     "data": {
      "text/plain": "0        474\n1        111\n2         61\n3        681\n4        146\n        ... \n55825    340\n55826    823\n55827    887\n55828    258\n55829      9\nName: first_year_energy_savings_$_estimate, Length: 55808, dtype: int64"
     },
     "execution_count": 100,
     "metadata": {},
     "output_type": "execute_result"
    }
   ],
   "source": [
    "df[\"first_year_energy_savings_$_estimate\"]"
   ],
   "metadata": {
    "collapsed": false
   }
  },
  {
   "cell_type": "code",
   "execution_count": 101,
   "outputs": [],
   "source": [
    "df[\"cumsum_savings_over_years\"] = df[\"savings_since_completion\"].cumsum()"
   ],
   "metadata": {
    "collapsed": false
   }
  },
  {
   "cell_type": "code",
   "execution_count": 103,
   "outputs": [
    {
     "data": {
      "text/plain": "55825    218148108\n55826    218156338\n55827    218165208\n55828    218168046\n55829    218168136\nName: cumsum_savings_over_years, dtype: int64"
     },
     "execution_count": 103,
     "metadata": {},
     "output_type": "execute_result"
    }
   ],
   "source": [
    "df[\"cumsum_savings_over_years\"].tail()"
   ],
   "metadata": {
    "collapsed": false
   }
  },
  {
   "cell_type": "code",
   "execution_count": 104,
   "outputs": [
    {
     "data": {
      "text/plain": "55825    478419233\n55826    478429035\n55827    478435069\n55828    478443523\n55829    478456011\nName: cumulative_sum_costs, dtype: int64"
     },
     "execution_count": 104,
     "metadata": {},
     "output_type": "execute_result"
    }
   ],
   "source": [
    "df[\"cumulative_sum_costs\"].tail()"
   ],
   "metadata": {
    "collapsed": false
   }
  },
  {
   "cell_type": "code",
   "execution_count": 105,
   "outputs": [],
   "source": [
    "df.to_csv(\"dataset_clean.csv\")"
   ],
   "metadata": {
    "collapsed": false
   }
  },
  {
   "cell_type": "code",
   "execution_count": null,
   "outputs": [],
   "source": [],
   "metadata": {
    "collapsed": false
   }
  }
 ],
 "metadata": {
  "kernelspec": {
   "display_name": "Python 3",
   "language": "python",
   "name": "python3"
  },
  "language_info": {
   "codemirror_mode": {
    "name": "ipython",
    "version": 2
   },
   "file_extension": ".py",
   "mimetype": "text/x-python",
   "name": "python",
   "nbconvert_exporter": "python",
   "pygments_lexer": "ipython2",
   "version": "2.7.6"
  }
 },
 "nbformat": 4,
 "nbformat_minor": 0
}
