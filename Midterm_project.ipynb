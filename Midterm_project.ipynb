{
 "cells": [
  {
   "cell_type": "code",
   "execution_count": 5,
   "metadata": {
    "collapsed": true
   },
   "outputs": [],
   "source": [
    "import pandas as pd\n",
    "import numpy as np"
   ]
  },
  {
   "cell_type": "code",
   "execution_count": 117,
   "outputs": [],
   "source": [
    "# import dataframe\n",
    "df = pd.read_csv(\"nys_homes.csv\")"
   ],
   "metadata": {
    "collapsed": false
   }
  },
  {
   "cell_type": "code",
   "execution_count": 120,
   "outputs": [
    {
     "name": "stdout",
     "output_type": "stream",
     "text": [
      "<class 'pandas.core.frame.DataFrame'>\n",
      "RangeIndex: 55830 entries, 0 to 55829\n",
      "Data columns (total 29 columns):\n",
      " #   Column                                                                Non-Null Count  Dtype  \n",
      "---  ------                                                                --------------  -----  \n",
      " 0   Reporting Period                                                      55830 non-null  object \n",
      " 1   Home Performance Project ID                                           55830 non-null  object \n",
      " 2   Home Performance Site ID                                              55830 non-null  object \n",
      " 3   Project County                                                        55830 non-null  object \n",
      " 4   Project City                                                          55830 non-null  object \n",
      " 5   Project Zip                                                           55830 non-null  int64  \n",
      " 6   Gas Utility                                                           39852 non-null  object \n",
      " 7   Electric Utility                                                      55830 non-null  object \n",
      " 8   Project Completion Date                                               55830 non-null  object \n",
      " 9   Customer Type                                                         55830 non-null  object \n",
      " 10  Low-Rise or Home Performance Indicator                                55830 non-null  object \n",
      " 11  Total Project Cost                                                    55830 non-null  int64  \n",
      " 12  Total Incentives                                                      55830 non-null  int64  \n",
      " 13  Type of Program Financing                                             18465 non-null  object \n",
      " 14  Amount Financed Through Program                                       55830 non-null  int64  \n",
      " 15  Pre-Retrofit Home Heating Fuel Type                                   55437 non-null  object \n",
      " 16  Year Home Built                                                       38956 non-null  float64\n",
      " 17  Size of Home                                                          47629 non-null  float64\n",
      " 18  Volume of Home                                                        47629 non-null  float64\n",
      " 19  Number of Units                                                       38971 non-null  float64\n",
      " 20  Measure Type                                                          55830 non-null  object \n",
      " 21  Estimated Annual kWh Savings                                          55830 non-null  int64  \n",
      " 22  Estimated Annual MMBtu Savings                                        55830 non-null  int64  \n",
      " 23  First Year Energy Savings $ Estimate                                  55830 non-null  int64  \n",
      " 24  Homeowner Received Green Jobs-Green NY Free/Reduced Cost Audit (Y/N)  55830 non-null  object \n",
      " 25  New Georeferenced Column                                              55830 non-null  object \n",
      " 26  New York Zip Codes 2                                                  55729 non-null  float64\n",
      " 27  Counties 2                                                            55826 non-null  float64\n",
      " 28  NYS Municipal Boundaries 2                                            55830 non-null  int64  \n",
      "dtypes: float64(6), int64(8), object(15)\n",
      "memory usage: 12.4+ MB\n"
     ]
    }
   ],
   "source": [
    "# column names\n",
    "df.info()"
   ],
   "metadata": {
    "collapsed": false
   }
  },
  {
   "cell_type": "code",
   "execution_count": 113,
   "outputs": [],
   "source": [
    "# drop all rows where Year Built == nan (drops around 20.000 rows)\n",
    "df = df.loc[df[\"Year Home Built\"].notna()]"
   ],
   "metadata": {
    "collapsed": false
   }
  },
  {
   "cell_type": "code",
   "execution_count": 108,
   "outputs": [],
   "source": [
    "# replace nan in Type of Program Financing with \"None\"\n",
    "# code not working yet. replaces all nans in the df with None\n",
    "#df.loc[df[\"Type of Program Financing\"].isna()] = \"None\""
   ],
   "metadata": {
    "collapsed": false
   }
  },
  {
   "cell_type": "code",
   "execution_count": 195,
   "outputs": [
    {
     "data": {
      "text/plain": "90117           5\nS00000125212    4\n236165          4\n253993          4\nS00000328324    3\n               ..\nS00000269223    1\nS00000196394    1\nS00000260124    1\nS00000300794    1\nS00000128120    1\nName: Home Performance Site ID, Length: 53668, dtype: int64"
     },
     "execution_count": 195,
     "metadata": {},
     "output_type": "execute_result"
    }
   ],
   "source": [
    "# how many Site IDs have more than 1 or 2 project IDs?\n",
    "over_1_project_id = (df[\"Home Performance Site ID\"].value_counts() > 1).value_counts()\n",
    "over_2_project_id = (df[\"Home Performance Site ID\"].value_counts() > 2).value_counts()\n",
    "df[\"Home Performance Site ID\"].value_counts()"
   ],
   "metadata": {
    "collapsed": false
   }
  },
  {
   "cell_type": "code",
   "execution_count": 188,
   "outputs": [
    {
     "data": {
      "text/plain": "1504"
     },
     "execution_count": 188,
     "metadata": {},
     "output_type": "execute_result"
    }
   ],
   "source": [
    "counties = df[\"Project County\"].unique()\n",
    "cities = df[\"Project City\"].unique()\n",
    "zipcodes = df[\"Project Zip\"].unique()\n",
    "\n",
    "len(zipcodes)\n",
    "len(cities)"
   ],
   "metadata": {
    "collapsed": false
   }
  },
  {
   "cell_type": "code",
   "execution_count": 199,
   "outputs": [
    {
     "data": {
      "text/plain": "array(['National Grid', 'New York State Electric & Gas',\n       'Rochester Gas & Electric', 'Consolidated Edison',\n       'Long Island Power Authority', 'Orange & Rockland',\n       'Central Hudson Gas & Electric', 'Municipal (Not Qualified)'],\n      dtype=object)"
     },
     "execution_count": 199,
     "metadata": {},
     "output_type": "execute_result"
    }
   ],
   "source": [
    "df[\"Electric Utility\"].unique()"
   ],
   "metadata": {
    "collapsed": false
   }
  },
  {
   "cell_type": "code",
   "execution_count": 200,
   "outputs": [
    {
     "data": {
      "text/plain": "array(['2021-01-16T00:00:00.000', '2021-01-06T00:00:00.000',\n       '2020-12-15T00:00:00.000', ..., '2011-03-04T00:00:00.000',\n       '2011-02-18T00:00:00.000', '2011-01-08T00:00:00.000'], dtype=object)"
     },
     "execution_count": 200,
     "metadata": {},
     "output_type": "execute_result"
    }
   ],
   "source": [
    "df[\"Project Completion Date\"].unique()"
   ],
   "metadata": {
    "collapsed": false
   }
  },
  {
   "cell_type": "code",
   "execution_count": null,
   "outputs": [],
   "source": [],
   "metadata": {
    "collapsed": false
   }
  }
 ],
 "metadata": {
  "kernelspec": {
   "display_name": "Python 3",
   "language": "python",
   "name": "python3"
  },
  "language_info": {
   "codemirror_mode": {
    "name": "ipython",
    "version": 2
   },
   "file_extension": ".py",
   "mimetype": "text/x-python",
   "name": "python",
   "nbconvert_exporter": "python",
   "pygments_lexer": "ipython2",
   "version": "2.7.6"
  }
 },
 "nbformat": 4,
 "nbformat_minor": 0
}
