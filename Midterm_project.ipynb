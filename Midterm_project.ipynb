{
 "cells": [
  {
   "cell_type": "markdown",
   "source": [
    "# Building Energy Efficiency Analysis"
   ],
   "metadata": {
    "collapsed": false
   }
  },
  {
   "cell_type": "markdown",
   "source": [
    "## Unifying column names"
   ],
   "metadata": {
    "collapsed": false
   }
  },
  {
   "cell_type": "markdown",
   "source": [],
   "metadata": {
    "collapsed": false
   }
  },
  {
   "cell_type": "code",
   "execution_count": 1,
   "outputs": [],
   "source": [
    "import pandas as pd\n",
    "import numpy as np\n",
    "import seaborn as sns\n",
    "import matplotlib.pyplot as plt"
   ],
   "metadata": {
    "collapsed": false
   }
  },
  {
   "cell_type": "code",
   "execution_count": 2,
   "outputs": [],
   "source": [
    "# import dataframe\n",
    "df = pd.read_csv(\"nys_homes.csv\")"
   ],
   "metadata": {
    "collapsed": false
   }
  },
  {
   "cell_type": "code",
   "execution_count": 3,
   "outputs": [],
   "source": [
    "#Function to rename columns\n",
    "def rename_df(df, rename_dict):\n",
    "    df.rename(columns = rename_dict, inplace=True)\n",
    "    return df"
   ],
   "metadata": {
    "collapsed": false
   }
  },
  {
   "cell_type": "code",
   "execution_count": 4,
   "outputs": [],
   "source": [
    "#Function to transform each column into small capital letters\n",
    "def column_into_small_letters(df):\n",
    "    for column in df.columns:\n",
    "        df.rename(columns = {column:column.replace(\" \", \"_\").lower()}, inplace = True)\n",
    "    return df"
   ],
   "metadata": {
    "collapsed": false
   }
  },
  {
   "cell_type": "code",
   "execution_count": 5,
   "outputs": [],
   "source": [
    "#Function to unify entries in column according to given translator dictionary\n",
    "def unify_column_entries(df, translator, column):\n",
    "    df.replace({column: translator}, inplace = True)\n",
    "    return df"
   ],
   "metadata": {
    "collapsed": false
   }
  },
  {
   "cell_type": "code",
   "execution_count": 6,
   "outputs": [
    {
     "data": {
      "text/plain": "              Reporting Period Home Performance Project ID  \\\n0      2020-02-12T00:00:00.000                      483911   \n1      2020-02-12T00:00:00.000                      486389   \n2      2020-02-12T00:00:00.000                      483374   \n3      2020-02-12T00:00:00.000                      475733   \n4      2020-02-12T00:00:00.000                      483731   \n...                        ...                         ...   \n55825  2020-02-12T00:00:00.000                P00000721450   \n55826  2020-02-12T00:00:00.000                P00000727276   \n55827  2020-02-12T00:00:00.000                P00000726343   \n55828  2020-02-12T00:00:00.000                P00000727199   \n55829  2020-02-12T00:00:00.000                P00000725072   \n\n      Home Performance Site ID Project County Project City  Project Zip  \\\n0                       357221         Oneida    Barneveld        13304   \n1                       343438          Wayne      Palmyra        14522   \n2                       356880           Erie      Buffalo        14215   \n3                       350454         Oneida         Rome        13440   \n4                       356491     Livingston         Lima        14485   \n...                        ...            ...          ...          ...   \n55825             S00000124921           Erie        Depew        14043   \n55826             S00000130155    Schenectady  Schenectady        12303   \n55827             S00000129326       Tompkins    Freeville        13068   \n55828             S00000130090         Monroe    Rochester        14617   \n55829             S00000128120         Monroe    Rochester        14624   \n\n                 Gas Utility Provider      Electric Utility Provider  \\\n0                                 NaN                  National Grid   \n1                                 NaN  New York State Electric & Gas   \n2      National Fuel Gas Distribution                  National Grid   \n3                                 NaN                  National Grid   \n4                                 NaN                  National Grid   \n...                               ...                            ...   \n55825  National Fuel Gas Distribution  New York State Electric & Gas   \n55826                   National Grid                  National Grid   \n55827   New York State Electric & Gas  New York State Electric & Gas   \n55828        Rochester Gas & Electric       Rochester Gas & Electric   \n55829        Rochester Gas & Electric       Rochester Gas & Electric   \n\n       Project Completion Date Customer Type  ... Number of Units  \\\n0      2021-01-16T00:00:00.000      Assisted  ...             1.0   \n1      2021-01-06T00:00:00.000      Assisted  ...             1.0   \n2      2020-12-15T00:00:00.000      Assisted  ...             1.0   \n3      2020-12-09T00:00:00.000      Assisted  ...             1.0   \n4      2020-12-08T00:00:00.000      Assisted  ...             1.0   \n...                        ...           ...  ...             ...   \n55825  2010-11-15T00:00:00.000        Market  ...             1.0   \n55826  2011-01-28T00:00:00.000      Assisted  ...             1.0   \n55827  2011-01-13T00:00:00.000        Market  ...             1.0   \n55828  2010-12-26T00:00:00.000        Market  ...             1.0   \n55829  2011-02-01T00:00:00.000        Market  ...             1.0   \n\n         Measure Type  Estimated Annual kWh Savings  \\\n0      Building Shell                             0   \n1      Building Shell                           309   \n2      Building Shell                             0   \n3      Building Shell                             0   \n4      Building Shell                             0   \n...               ...                           ...   \n55825  Building Shell                             0   \n55826  Building Shell                             0   \n55827  Building Shell                             0   \n55828  Building Shell                           601   \n55829  Building Shell                             0   \n\n      Estimated Annual MMBtu Savings  First Year Energy Savings $ Estimate  \\\n0                                 27                                   474   \n1                                  3                                   111   \n2                                  8                                    61   \n3                                 28                                   681   \n4                                  6                                   146   \n...                              ...                                   ...   \n55825                             24                                   340   \n55826                             33                                   823   \n55827                             16                                   887   \n55828                             11                                   258   \n55829                              1                                     9   \n\n      Homeowner Received Free/Reduced Cost Audit?  \\\n0                                               Y   \n1                                               Y   \n2                                               Y   \n3                                               Y   \n4                                               Y   \n...                                           ...   \n55825                                           N   \n55826                                           N   \n55827                                           N   \n55828                                           N   \n55829                                           N   \n\n                                                Location  New York Zip Codes  \\\n0      {'type': 'Point', 'coordinates': [-75.16936, 4...               764.0   \n1      {'type': 'Point', 'coordinates': [-77.218837, ...               364.0   \n2      {'type': 'Point', 'coordinates': [-78.808435, ...                71.0   \n3      {'type': 'Point', 'coordinates': [-75.454665, ...              1366.0   \n4      {'type': 'Point', 'coordinates': [-77.603561, ...               312.0   \n...                                                  ...                 ...   \n55825  {'type': 'Point', 'coordinates': [-78.702553, ...               506.0   \n55826  {'type': 'Point', 'coordinates': [-73.932117, ...                72.0   \n55827  {'type': 'Point', 'coordinates': [-76.359264, ...               622.0   \n55828  {'type': 'Point', 'coordinates': [-77.597999, ...              1676.0   \n55829  {'type': 'Point', 'coordinates': [-77.729647, ...              1683.0   \n\n       Counties 2  NYS Municipal Boundaries 2  \n0           625.0                         985  \n1           631.0                         631  \n2          2041.0                         300  \n3           625.0                         989  \n4          2091.0                         742  \n...           ...                         ...  \n55825      2041.0                         298  \n55826      2030.0                         832  \n55827      2181.0                         712  \n55828      2093.0                         545  \n55829      2093.0                         549  \n\n[55830 rows x 29 columns]",
      "text/html": "<div>\n<style scoped>\n    .dataframe tbody tr th:only-of-type {\n        vertical-align: middle;\n    }\n\n    .dataframe tbody tr th {\n        vertical-align: top;\n    }\n\n    .dataframe thead th {\n        text-align: right;\n    }\n</style>\n<table border=\"1\" class=\"dataframe\">\n  <thead>\n    <tr style=\"text-align: right;\">\n      <th></th>\n      <th>Reporting Period</th>\n      <th>Home Performance Project ID</th>\n      <th>Home Performance Site ID</th>\n      <th>Project County</th>\n      <th>Project City</th>\n      <th>Project Zip</th>\n      <th>Gas Utility Provider</th>\n      <th>Electric Utility Provider</th>\n      <th>Project Completion Date</th>\n      <th>Customer Type</th>\n      <th>...</th>\n      <th>Number of Units</th>\n      <th>Measure Type</th>\n      <th>Estimated Annual kWh Savings</th>\n      <th>Estimated Annual MMBtu Savings</th>\n      <th>First Year Energy Savings $ Estimate</th>\n      <th>Homeowner Received Free/Reduced Cost Audit?</th>\n      <th>Location</th>\n      <th>New York Zip Codes</th>\n      <th>Counties 2</th>\n      <th>NYS Municipal Boundaries 2</th>\n    </tr>\n  </thead>\n  <tbody>\n    <tr>\n      <th>0</th>\n      <td>2020-02-12T00:00:00.000</td>\n      <td>483911</td>\n      <td>357221</td>\n      <td>Oneida</td>\n      <td>Barneveld</td>\n      <td>13304</td>\n      <td>NaN</td>\n      <td>National Grid</td>\n      <td>2021-01-16T00:00:00.000</td>\n      <td>Assisted</td>\n      <td>...</td>\n      <td>1.0</td>\n      <td>Building Shell</td>\n      <td>0</td>\n      <td>27</td>\n      <td>474</td>\n      <td>Y</td>\n      <td>{'type': 'Point', 'coordinates': [-75.16936, 4...</td>\n      <td>764.0</td>\n      <td>625.0</td>\n      <td>985</td>\n    </tr>\n    <tr>\n      <th>1</th>\n      <td>2020-02-12T00:00:00.000</td>\n      <td>486389</td>\n      <td>343438</td>\n      <td>Wayne</td>\n      <td>Palmyra</td>\n      <td>14522</td>\n      <td>NaN</td>\n      <td>New York State Electric &amp; Gas</td>\n      <td>2021-01-06T00:00:00.000</td>\n      <td>Assisted</td>\n      <td>...</td>\n      <td>1.0</td>\n      <td>Building Shell</td>\n      <td>309</td>\n      <td>3</td>\n      <td>111</td>\n      <td>Y</td>\n      <td>{'type': 'Point', 'coordinates': [-77.218837, ...</td>\n      <td>364.0</td>\n      <td>631.0</td>\n      <td>631</td>\n    </tr>\n    <tr>\n      <th>2</th>\n      <td>2020-02-12T00:00:00.000</td>\n      <td>483374</td>\n      <td>356880</td>\n      <td>Erie</td>\n      <td>Buffalo</td>\n      <td>14215</td>\n      <td>National Fuel Gas Distribution</td>\n      <td>National Grid</td>\n      <td>2020-12-15T00:00:00.000</td>\n      <td>Assisted</td>\n      <td>...</td>\n      <td>1.0</td>\n      <td>Building Shell</td>\n      <td>0</td>\n      <td>8</td>\n      <td>61</td>\n      <td>Y</td>\n      <td>{'type': 'Point', 'coordinates': [-78.808435, ...</td>\n      <td>71.0</td>\n      <td>2041.0</td>\n      <td>300</td>\n    </tr>\n    <tr>\n      <th>3</th>\n      <td>2020-02-12T00:00:00.000</td>\n      <td>475733</td>\n      <td>350454</td>\n      <td>Oneida</td>\n      <td>Rome</td>\n      <td>13440</td>\n      <td>NaN</td>\n      <td>National Grid</td>\n      <td>2020-12-09T00:00:00.000</td>\n      <td>Assisted</td>\n      <td>...</td>\n      <td>1.0</td>\n      <td>Building Shell</td>\n      <td>0</td>\n      <td>28</td>\n      <td>681</td>\n      <td>Y</td>\n      <td>{'type': 'Point', 'coordinates': [-75.454665, ...</td>\n      <td>1366.0</td>\n      <td>625.0</td>\n      <td>989</td>\n    </tr>\n    <tr>\n      <th>4</th>\n      <td>2020-02-12T00:00:00.000</td>\n      <td>483731</td>\n      <td>356491</td>\n      <td>Livingston</td>\n      <td>Lima</td>\n      <td>14485</td>\n      <td>NaN</td>\n      <td>National Grid</td>\n      <td>2020-12-08T00:00:00.000</td>\n      <td>Assisted</td>\n      <td>...</td>\n      <td>1.0</td>\n      <td>Building Shell</td>\n      <td>0</td>\n      <td>6</td>\n      <td>146</td>\n      <td>Y</td>\n      <td>{'type': 'Point', 'coordinates': [-77.603561, ...</td>\n      <td>312.0</td>\n      <td>2091.0</td>\n      <td>742</td>\n    </tr>\n    <tr>\n      <th>...</th>\n      <td>...</td>\n      <td>...</td>\n      <td>...</td>\n      <td>...</td>\n      <td>...</td>\n      <td>...</td>\n      <td>...</td>\n      <td>...</td>\n      <td>...</td>\n      <td>...</td>\n      <td>...</td>\n      <td>...</td>\n      <td>...</td>\n      <td>...</td>\n      <td>...</td>\n      <td>...</td>\n      <td>...</td>\n      <td>...</td>\n      <td>...</td>\n      <td>...</td>\n      <td>...</td>\n    </tr>\n    <tr>\n      <th>55825</th>\n      <td>2020-02-12T00:00:00.000</td>\n      <td>P00000721450</td>\n      <td>S00000124921</td>\n      <td>Erie</td>\n      <td>Depew</td>\n      <td>14043</td>\n      <td>National Fuel Gas Distribution</td>\n      <td>New York State Electric &amp; Gas</td>\n      <td>2010-11-15T00:00:00.000</td>\n      <td>Market</td>\n      <td>...</td>\n      <td>1.0</td>\n      <td>Building Shell</td>\n      <td>0</td>\n      <td>24</td>\n      <td>340</td>\n      <td>N</td>\n      <td>{'type': 'Point', 'coordinates': [-78.702553, ...</td>\n      <td>506.0</td>\n      <td>2041.0</td>\n      <td>298</td>\n    </tr>\n    <tr>\n      <th>55826</th>\n      <td>2020-02-12T00:00:00.000</td>\n      <td>P00000727276</td>\n      <td>S00000130155</td>\n      <td>Schenectady</td>\n      <td>Schenectady</td>\n      <td>12303</td>\n      <td>National Grid</td>\n      <td>National Grid</td>\n      <td>2011-01-28T00:00:00.000</td>\n      <td>Assisted</td>\n      <td>...</td>\n      <td>1.0</td>\n      <td>Building Shell</td>\n      <td>0</td>\n      <td>33</td>\n      <td>823</td>\n      <td>N</td>\n      <td>{'type': 'Point', 'coordinates': [-73.932117, ...</td>\n      <td>72.0</td>\n      <td>2030.0</td>\n      <td>832</td>\n    </tr>\n    <tr>\n      <th>55827</th>\n      <td>2020-02-12T00:00:00.000</td>\n      <td>P00000726343</td>\n      <td>S00000129326</td>\n      <td>Tompkins</td>\n      <td>Freeville</td>\n      <td>13068</td>\n      <td>New York State Electric &amp; Gas</td>\n      <td>New York State Electric &amp; Gas</td>\n      <td>2011-01-13T00:00:00.000</td>\n      <td>Market</td>\n      <td>...</td>\n      <td>1.0</td>\n      <td>Building Shell</td>\n      <td>0</td>\n      <td>16</td>\n      <td>887</td>\n      <td>N</td>\n      <td>{'type': 'Point', 'coordinates': [-76.359264, ...</td>\n      <td>622.0</td>\n      <td>2181.0</td>\n      <td>712</td>\n    </tr>\n    <tr>\n      <th>55828</th>\n      <td>2020-02-12T00:00:00.000</td>\n      <td>P00000727199</td>\n      <td>S00000130090</td>\n      <td>Monroe</td>\n      <td>Rochester</td>\n      <td>14617</td>\n      <td>Rochester Gas &amp; Electric</td>\n      <td>Rochester Gas &amp; Electric</td>\n      <td>2010-12-26T00:00:00.000</td>\n      <td>Market</td>\n      <td>...</td>\n      <td>1.0</td>\n      <td>Building Shell</td>\n      <td>601</td>\n      <td>11</td>\n      <td>258</td>\n      <td>N</td>\n      <td>{'type': 'Point', 'coordinates': [-77.597999, ...</td>\n      <td>1676.0</td>\n      <td>2093.0</td>\n      <td>545</td>\n    </tr>\n    <tr>\n      <th>55829</th>\n      <td>2020-02-12T00:00:00.000</td>\n      <td>P00000725072</td>\n      <td>S00000128120</td>\n      <td>Monroe</td>\n      <td>Rochester</td>\n      <td>14624</td>\n      <td>Rochester Gas &amp; Electric</td>\n      <td>Rochester Gas &amp; Electric</td>\n      <td>2011-02-01T00:00:00.000</td>\n      <td>Market</td>\n      <td>...</td>\n      <td>1.0</td>\n      <td>Building Shell</td>\n      <td>0</td>\n      <td>1</td>\n      <td>9</td>\n      <td>N</td>\n      <td>{'type': 'Point', 'coordinates': [-77.729647, ...</td>\n      <td>1683.0</td>\n      <td>2093.0</td>\n      <td>549</td>\n    </tr>\n  </tbody>\n</table>\n<p>55830 rows × 29 columns</p>\n</div>"
     },
     "execution_count": 6,
     "metadata": {},
     "output_type": "execute_result"
    }
   ],
   "source": [
    "#Function to rename columns\n",
    "new_clm_names = {\"Reporting Period\": \"Reporting Period\",\n",
    "              \"Home Performance Project ID\": \"Home Performance Project ID\",\n",
    "              \"Home Performance Site ID\": \"Home Performance Site ID\",\n",
    "              \"Project County\": \"Project County\",\n",
    "              \"Project City\": \"Project City\",\n",
    "              \"Project Zip\": \"Project Zip\",\n",
    "              \"Gas Utility\": \"Gas Utility Provider\",\n",
    "              \"Electric Utility\": \"Electric Utility Provider\",\n",
    "              \"Project Completion Date\": \"Project Completion Date\",\n",
    "              \"Customer Type\": \"Customer Type\",\n",
    "              \"Low-Rise or Home Performance Indicator\": \"Job Type\",\n",
    "              \"Total Project Cost\": \"Total Project Cost\",\n",
    "              \"Total Incentives\": \"Total Incentives\",\n",
    "              \"Type of Program Financing\": \"Type of Program Financing\",\n",
    "              \"Amount Financed Through Program\": \"Amount Financed Through Program\",\n",
    "              \"Pre-Retrofit Home Heating Fuel Type\": \"Pre-Retrofit Home Heating Fuel Type\",\n",
    "              \"Year Home Built\": \"Year Home Built\",\n",
    "              \"Size of Home\": \"Size of Home\",\n",
    "              \"Volume of Home\": \"Volume of Home\",\n",
    "              \"Number of Units\": \"Number of Units\",\n",
    "              \"Measure Type\": \"Measure Type\",\n",
    "              \"Estimated Annual kWh Savings\": \"Estimated Annual kWh Savings\",\n",
    "              \"Estimated Annual MMBtu Savings\": \"Estimated Annual MMBtu Savings\",\n",
    "              \"First Year Energy Savings $ Estimate\": \"First Year Energy Savings $ Estimate\",\n",
    "              \"Homeowner Received Green Jobs-Green NY Free/Reduced Cost Audit (Y/N)\": \"Homeowner Received Free/Reduced Cost Audit?\",\n",
    "              \"New Georeferenced Column\": \"Location\",\n",
    "              \"New York Zip Codes 2\": \"New York Zip Codes\",\n",
    "              \"Counties 2\": \"Counties 2\",\n",
    "              \"NYS Municipal Boundaries 2\": \"NYS Municipal Boundaries 2\"}\n",
    "\n",
    "rename_df(df, new_clm_names)"
   ],
   "metadata": {
    "collapsed": false
   }
  },
  {
   "cell_type": "code",
   "execution_count": 7,
   "outputs": [
    {
     "data": {
      "text/plain": "              reporting_period home_performance_project_id  \\\n0      2020-02-12T00:00:00.000                      483911   \n1      2020-02-12T00:00:00.000                      486389   \n2      2020-02-12T00:00:00.000                      483374   \n3      2020-02-12T00:00:00.000                      475733   \n4      2020-02-12T00:00:00.000                      483731   \n...                        ...                         ...   \n55825  2020-02-12T00:00:00.000                P00000721450   \n55826  2020-02-12T00:00:00.000                P00000727276   \n55827  2020-02-12T00:00:00.000                P00000726343   \n55828  2020-02-12T00:00:00.000                P00000727199   \n55829  2020-02-12T00:00:00.000                P00000725072   \n\n      home_performance_site_id project_county project_city  project_zip  \\\n0                       357221         Oneida    Barneveld        13304   \n1                       343438          Wayne      Palmyra        14522   \n2                       356880           Erie      Buffalo        14215   \n3                       350454         Oneida         Rome        13440   \n4                       356491     Livingston         Lima        14485   \n...                        ...            ...          ...          ...   \n55825             S00000124921           Erie        Depew        14043   \n55826             S00000130155    Schenectady  Schenectady        12303   \n55827             S00000129326       Tompkins    Freeville        13068   \n55828             S00000130090         Monroe    Rochester        14617   \n55829             S00000128120         Monroe    Rochester        14624   \n\n                 gas_utility_provider      electric_utility_provider  \\\n0                                 NaN                  National Grid   \n1                                 NaN  New York State Electric & Gas   \n2      National Fuel Gas Distribution                  National Grid   \n3                                 NaN                  National Grid   \n4                                 NaN                  National Grid   \n...                               ...                            ...   \n55825  National Fuel Gas Distribution  New York State Electric & Gas   \n55826                   National Grid                  National Grid   \n55827   New York State Electric & Gas  New York State Electric & Gas   \n55828        Rochester Gas & Electric       Rochester Gas & Electric   \n55829        Rochester Gas & Electric       Rochester Gas & Electric   \n\n       project_completion_date customer_type  ... number_of_units  \\\n0      2021-01-16T00:00:00.000      Assisted  ...             1.0   \n1      2021-01-06T00:00:00.000      Assisted  ...             1.0   \n2      2020-12-15T00:00:00.000      Assisted  ...             1.0   \n3      2020-12-09T00:00:00.000      Assisted  ...             1.0   \n4      2020-12-08T00:00:00.000      Assisted  ...             1.0   \n...                        ...           ...  ...             ...   \n55825  2010-11-15T00:00:00.000        Market  ...             1.0   \n55826  2011-01-28T00:00:00.000      Assisted  ...             1.0   \n55827  2011-01-13T00:00:00.000        Market  ...             1.0   \n55828  2010-12-26T00:00:00.000        Market  ...             1.0   \n55829  2011-02-01T00:00:00.000        Market  ...             1.0   \n\n         measure_type  estimated_annual_kwh_savings  \\\n0      Building Shell                             0   \n1      Building Shell                           309   \n2      Building Shell                             0   \n3      Building Shell                             0   \n4      Building Shell                             0   \n...               ...                           ...   \n55825  Building Shell                             0   \n55826  Building Shell                             0   \n55827  Building Shell                             0   \n55828  Building Shell                           601   \n55829  Building Shell                             0   \n\n      estimated_annual_mmbtu_savings  first_year_energy_savings_$_estimate  \\\n0                                 27                                   474   \n1                                  3                                   111   \n2                                  8                                    61   \n3                                 28                                   681   \n4                                  6                                   146   \n...                              ...                                   ...   \n55825                             24                                   340   \n55826                             33                                   823   \n55827                             16                                   887   \n55828                             11                                   258   \n55829                              1                                     9   \n\n      homeowner_received_free/reduced_cost_audit?  \\\n0                                               Y   \n1                                               Y   \n2                                               Y   \n3                                               Y   \n4                                               Y   \n...                                           ...   \n55825                                           N   \n55826                                           N   \n55827                                           N   \n55828                                           N   \n55829                                           N   \n\n                                                location  new_york_zip_codes  \\\n0      {'type': 'Point', 'coordinates': [-75.16936, 4...               764.0   \n1      {'type': 'Point', 'coordinates': [-77.218837, ...               364.0   \n2      {'type': 'Point', 'coordinates': [-78.808435, ...                71.0   \n3      {'type': 'Point', 'coordinates': [-75.454665, ...              1366.0   \n4      {'type': 'Point', 'coordinates': [-77.603561, ...               312.0   \n...                                                  ...                 ...   \n55825  {'type': 'Point', 'coordinates': [-78.702553, ...               506.0   \n55826  {'type': 'Point', 'coordinates': [-73.932117, ...                72.0   \n55827  {'type': 'Point', 'coordinates': [-76.359264, ...               622.0   \n55828  {'type': 'Point', 'coordinates': [-77.597999, ...              1676.0   \n55829  {'type': 'Point', 'coordinates': [-77.729647, ...              1683.0   \n\n       counties_2  nys_municipal_boundaries_2  \n0           625.0                         985  \n1           631.0                         631  \n2          2041.0                         300  \n3           625.0                         989  \n4          2091.0                         742  \n...           ...                         ...  \n55825      2041.0                         298  \n55826      2030.0                         832  \n55827      2181.0                         712  \n55828      2093.0                         545  \n55829      2093.0                         549  \n\n[55830 rows x 29 columns]",
      "text/html": "<div>\n<style scoped>\n    .dataframe tbody tr th:only-of-type {\n        vertical-align: middle;\n    }\n\n    .dataframe tbody tr th {\n        vertical-align: top;\n    }\n\n    .dataframe thead th {\n        text-align: right;\n    }\n</style>\n<table border=\"1\" class=\"dataframe\">\n  <thead>\n    <tr style=\"text-align: right;\">\n      <th></th>\n      <th>reporting_period</th>\n      <th>home_performance_project_id</th>\n      <th>home_performance_site_id</th>\n      <th>project_county</th>\n      <th>project_city</th>\n      <th>project_zip</th>\n      <th>gas_utility_provider</th>\n      <th>electric_utility_provider</th>\n      <th>project_completion_date</th>\n      <th>customer_type</th>\n      <th>...</th>\n      <th>number_of_units</th>\n      <th>measure_type</th>\n      <th>estimated_annual_kwh_savings</th>\n      <th>estimated_annual_mmbtu_savings</th>\n      <th>first_year_energy_savings_$_estimate</th>\n      <th>homeowner_received_free/reduced_cost_audit?</th>\n      <th>location</th>\n      <th>new_york_zip_codes</th>\n      <th>counties_2</th>\n      <th>nys_municipal_boundaries_2</th>\n    </tr>\n  </thead>\n  <tbody>\n    <tr>\n      <th>0</th>\n      <td>2020-02-12T00:00:00.000</td>\n      <td>483911</td>\n      <td>357221</td>\n      <td>Oneida</td>\n      <td>Barneveld</td>\n      <td>13304</td>\n      <td>NaN</td>\n      <td>National Grid</td>\n      <td>2021-01-16T00:00:00.000</td>\n      <td>Assisted</td>\n      <td>...</td>\n      <td>1.0</td>\n      <td>Building Shell</td>\n      <td>0</td>\n      <td>27</td>\n      <td>474</td>\n      <td>Y</td>\n      <td>{'type': 'Point', 'coordinates': [-75.16936, 4...</td>\n      <td>764.0</td>\n      <td>625.0</td>\n      <td>985</td>\n    </tr>\n    <tr>\n      <th>1</th>\n      <td>2020-02-12T00:00:00.000</td>\n      <td>486389</td>\n      <td>343438</td>\n      <td>Wayne</td>\n      <td>Palmyra</td>\n      <td>14522</td>\n      <td>NaN</td>\n      <td>New York State Electric &amp; Gas</td>\n      <td>2021-01-06T00:00:00.000</td>\n      <td>Assisted</td>\n      <td>...</td>\n      <td>1.0</td>\n      <td>Building Shell</td>\n      <td>309</td>\n      <td>3</td>\n      <td>111</td>\n      <td>Y</td>\n      <td>{'type': 'Point', 'coordinates': [-77.218837, ...</td>\n      <td>364.0</td>\n      <td>631.0</td>\n      <td>631</td>\n    </tr>\n    <tr>\n      <th>2</th>\n      <td>2020-02-12T00:00:00.000</td>\n      <td>483374</td>\n      <td>356880</td>\n      <td>Erie</td>\n      <td>Buffalo</td>\n      <td>14215</td>\n      <td>National Fuel Gas Distribution</td>\n      <td>National Grid</td>\n      <td>2020-12-15T00:00:00.000</td>\n      <td>Assisted</td>\n      <td>...</td>\n      <td>1.0</td>\n      <td>Building Shell</td>\n      <td>0</td>\n      <td>8</td>\n      <td>61</td>\n      <td>Y</td>\n      <td>{'type': 'Point', 'coordinates': [-78.808435, ...</td>\n      <td>71.0</td>\n      <td>2041.0</td>\n      <td>300</td>\n    </tr>\n    <tr>\n      <th>3</th>\n      <td>2020-02-12T00:00:00.000</td>\n      <td>475733</td>\n      <td>350454</td>\n      <td>Oneida</td>\n      <td>Rome</td>\n      <td>13440</td>\n      <td>NaN</td>\n      <td>National Grid</td>\n      <td>2020-12-09T00:00:00.000</td>\n      <td>Assisted</td>\n      <td>...</td>\n      <td>1.0</td>\n      <td>Building Shell</td>\n      <td>0</td>\n      <td>28</td>\n      <td>681</td>\n      <td>Y</td>\n      <td>{'type': 'Point', 'coordinates': [-75.454665, ...</td>\n      <td>1366.0</td>\n      <td>625.0</td>\n      <td>989</td>\n    </tr>\n    <tr>\n      <th>4</th>\n      <td>2020-02-12T00:00:00.000</td>\n      <td>483731</td>\n      <td>356491</td>\n      <td>Livingston</td>\n      <td>Lima</td>\n      <td>14485</td>\n      <td>NaN</td>\n      <td>National Grid</td>\n      <td>2020-12-08T00:00:00.000</td>\n      <td>Assisted</td>\n      <td>...</td>\n      <td>1.0</td>\n      <td>Building Shell</td>\n      <td>0</td>\n      <td>6</td>\n      <td>146</td>\n      <td>Y</td>\n      <td>{'type': 'Point', 'coordinates': [-77.603561, ...</td>\n      <td>312.0</td>\n      <td>2091.0</td>\n      <td>742</td>\n    </tr>\n    <tr>\n      <th>...</th>\n      <td>...</td>\n      <td>...</td>\n      <td>...</td>\n      <td>...</td>\n      <td>...</td>\n      <td>...</td>\n      <td>...</td>\n      <td>...</td>\n      <td>...</td>\n      <td>...</td>\n      <td>...</td>\n      <td>...</td>\n      <td>...</td>\n      <td>...</td>\n      <td>...</td>\n      <td>...</td>\n      <td>...</td>\n      <td>...</td>\n      <td>...</td>\n      <td>...</td>\n      <td>...</td>\n    </tr>\n    <tr>\n      <th>55825</th>\n      <td>2020-02-12T00:00:00.000</td>\n      <td>P00000721450</td>\n      <td>S00000124921</td>\n      <td>Erie</td>\n      <td>Depew</td>\n      <td>14043</td>\n      <td>National Fuel Gas Distribution</td>\n      <td>New York State Electric &amp; Gas</td>\n      <td>2010-11-15T00:00:00.000</td>\n      <td>Market</td>\n      <td>...</td>\n      <td>1.0</td>\n      <td>Building Shell</td>\n      <td>0</td>\n      <td>24</td>\n      <td>340</td>\n      <td>N</td>\n      <td>{'type': 'Point', 'coordinates': [-78.702553, ...</td>\n      <td>506.0</td>\n      <td>2041.0</td>\n      <td>298</td>\n    </tr>\n    <tr>\n      <th>55826</th>\n      <td>2020-02-12T00:00:00.000</td>\n      <td>P00000727276</td>\n      <td>S00000130155</td>\n      <td>Schenectady</td>\n      <td>Schenectady</td>\n      <td>12303</td>\n      <td>National Grid</td>\n      <td>National Grid</td>\n      <td>2011-01-28T00:00:00.000</td>\n      <td>Assisted</td>\n      <td>...</td>\n      <td>1.0</td>\n      <td>Building Shell</td>\n      <td>0</td>\n      <td>33</td>\n      <td>823</td>\n      <td>N</td>\n      <td>{'type': 'Point', 'coordinates': [-73.932117, ...</td>\n      <td>72.0</td>\n      <td>2030.0</td>\n      <td>832</td>\n    </tr>\n    <tr>\n      <th>55827</th>\n      <td>2020-02-12T00:00:00.000</td>\n      <td>P00000726343</td>\n      <td>S00000129326</td>\n      <td>Tompkins</td>\n      <td>Freeville</td>\n      <td>13068</td>\n      <td>New York State Electric &amp; Gas</td>\n      <td>New York State Electric &amp; Gas</td>\n      <td>2011-01-13T00:00:00.000</td>\n      <td>Market</td>\n      <td>...</td>\n      <td>1.0</td>\n      <td>Building Shell</td>\n      <td>0</td>\n      <td>16</td>\n      <td>887</td>\n      <td>N</td>\n      <td>{'type': 'Point', 'coordinates': [-76.359264, ...</td>\n      <td>622.0</td>\n      <td>2181.0</td>\n      <td>712</td>\n    </tr>\n    <tr>\n      <th>55828</th>\n      <td>2020-02-12T00:00:00.000</td>\n      <td>P00000727199</td>\n      <td>S00000130090</td>\n      <td>Monroe</td>\n      <td>Rochester</td>\n      <td>14617</td>\n      <td>Rochester Gas &amp; Electric</td>\n      <td>Rochester Gas &amp; Electric</td>\n      <td>2010-12-26T00:00:00.000</td>\n      <td>Market</td>\n      <td>...</td>\n      <td>1.0</td>\n      <td>Building Shell</td>\n      <td>601</td>\n      <td>11</td>\n      <td>258</td>\n      <td>N</td>\n      <td>{'type': 'Point', 'coordinates': [-77.597999, ...</td>\n      <td>1676.0</td>\n      <td>2093.0</td>\n      <td>545</td>\n    </tr>\n    <tr>\n      <th>55829</th>\n      <td>2020-02-12T00:00:00.000</td>\n      <td>P00000725072</td>\n      <td>S00000128120</td>\n      <td>Monroe</td>\n      <td>Rochester</td>\n      <td>14624</td>\n      <td>Rochester Gas &amp; Electric</td>\n      <td>Rochester Gas &amp; Electric</td>\n      <td>2011-02-01T00:00:00.000</td>\n      <td>Market</td>\n      <td>...</td>\n      <td>1.0</td>\n      <td>Building Shell</td>\n      <td>0</td>\n      <td>1</td>\n      <td>9</td>\n      <td>N</td>\n      <td>{'type': 'Point', 'coordinates': [-77.729647, ...</td>\n      <td>1683.0</td>\n      <td>2093.0</td>\n      <td>549</td>\n    </tr>\n  </tbody>\n</table>\n<p>55830 rows × 29 columns</p>\n</div>"
     },
     "execution_count": 7,
     "metadata": {},
     "output_type": "execute_result"
    }
   ],
   "source": [
    "# convert column names to lower and replace spaces with underscore\n",
    "column_into_small_letters(df)"
   ],
   "metadata": {
    "collapsed": false
   }
  },
  {
   "cell_type": "code",
   "execution_count": 8,
   "outputs": [],
   "source": [
    "# replace nan in Type of Program Financing with \"None\"\n",
    "# code not working yet. replaces all nans in the df with None\n",
    "#df.loc[df[\"Type of Program Financing\"].isna()] = \"None\""
   ],
   "metadata": {
    "collapsed": false
   }
  },
  {
   "cell_type": "markdown",
   "source": [
    "## Column 1: Reporting Period"
   ],
   "metadata": {
    "collapsed": false
   }
  },
  {
   "cell_type": "code",
   "execution_count": 9,
   "outputs": [],
   "source": [
    "# save reporting period to variable and then drop it, since there is only one\n",
    "reporting_period = df[\"reporting_period\"].unique()\n",
    "df = df.drop(\"reporting_period\", axis=1)"
   ],
   "metadata": {
    "collapsed": false
   }
  },
  {
   "cell_type": "markdown",
   "source": [
    "## Column 2: Home Performance Project ID"
   ],
   "metadata": {
    "collapsed": false
   }
  },
  {
   "cell_type": "code",
   "execution_count": 10,
   "outputs": [
    {
     "data": {
      "text/plain": "428275          2\nP00000851554    2\n346123          2\n387339          2\n315721          2\n               ..\nP00000883459    1\nP00000971469    1\nP00001002123    1\nP00000970398    1\nP00000725072    1\nName: home_performance_project_id, Length: 55809, dtype: int64"
     },
     "execution_count": 10,
     "metadata": {},
     "output_type": "execute_result"
    }
   ],
   "source": [
    "# how many Site IDs have more than 1 or 2 project IDs?\n",
    "over_1_project_id = (df[\"home_performance_project_id\"].value_counts() > 1).value_counts()\n",
    "over_2_project_id = (df[\"home_performance_project_id\"].value_counts() > 2).value_counts()\n",
    "df[\"home_performance_project_id\"].value_counts()"
   ],
   "metadata": {
    "collapsed": false
   }
  },
  {
   "cell_type": "markdown",
   "source": [
    "## Column 3: Site ID"
   ],
   "metadata": {
    "collapsed": false
   }
  },
  {
   "cell_type": "code",
   "execution_count": 10,
   "outputs": [],
   "source": [],
   "metadata": {
    "collapsed": false
   }
  },
  {
   "cell_type": "markdown",
   "source": [
    "## Column 4, 5, 6: County, City, Zipcode"
   ],
   "metadata": {
    "collapsed": false
   }
  },
  {
   "cell_type": "code",
   "execution_count": 11,
   "outputs": [],
   "source": [
    "# define variables for counties, cities and zipcodes\n",
    "counties = df[\"project_county\"].unique()\n",
    "cities = df[\"project_city\"].unique()\n",
    "zipcodes = df[\"project_zip\"].unique()"
   ],
   "metadata": {
    "collapsed": false
   }
  },
  {
   "cell_type": "markdown",
   "source": [
    "## Column 7.1 & 7.2: Electric Utility, Gas Utility Provider"
   ],
   "metadata": {
    "collapsed": false
   }
  },
  {
   "cell_type": "code",
   "execution_count": 75,
   "outputs": [
    {
     "data": {
      "text/plain": "(38956,)"
     },
     "execution_count": 75,
     "metadata": {},
     "output_type": "execute_result"
    }
   ],
   "source": [
    "df[\"gas_utility_provider\"].isna().shape"
   ],
   "metadata": {
    "collapsed": false
   }
  },
  {
   "cell_type": "code",
   "execution_count": 13,
   "outputs": [
    {
     "data": {
      "text/plain": "array([nan, 'National Fuel Gas Distribution', 'Rochester Gas & Electric',\n       'National Grid', 'New York State Electric & Gas',\n       'Consolidated Edison', 'Orange & Rockland', 'Corning Natural Gas',\n       'Central Hudson Gas & Electric', 'Saint Lawrence Gas', 'Municipal',\n       'KeySpan Energy', 'Long Island Power Authority',\n       'Multiple Gas Providers', 'No Gas Provider'], dtype=object)"
     },
     "execution_count": 13,
     "metadata": {},
     "output_type": "execute_result"
    }
   ],
   "source": [
    "df[\"gas_utility_provider\"].unique()"
   ],
   "metadata": {
    "collapsed": false
   }
  },
  {
   "cell_type": "code",
   "execution_count": 12,
   "outputs": [
    {
     "ename": "KeyError",
     "evalue": "'electric_utility'",
     "output_type": "error",
     "traceback": [
      "\u001B[1;31m---------------------------------------------------------------------------\u001B[0m",
      "\u001B[1;31mKeyError\u001B[0m                                  Traceback (most recent call last)",
      "\u001B[1;32mC:\\ProgramData\\Anaconda3\\lib\\site-packages\\pandas\\core\\indexes\\base.py\u001B[0m in \u001B[0;36mget_loc\u001B[1;34m(self, key, method, tolerance)\u001B[0m\n\u001B[0;32m   3628\u001B[0m             \u001B[1;32mtry\u001B[0m\u001B[1;33m:\u001B[0m\u001B[1;33m\u001B[0m\u001B[1;33m\u001B[0m\u001B[0m\n\u001B[1;32m-> 3629\u001B[1;33m                 \u001B[1;32mreturn\u001B[0m \u001B[0mself\u001B[0m\u001B[1;33m.\u001B[0m\u001B[0m_engine\u001B[0m\u001B[1;33m.\u001B[0m\u001B[0mget_loc\u001B[0m\u001B[1;33m(\u001B[0m\u001B[0mcasted_key\u001B[0m\u001B[1;33m)\u001B[0m\u001B[1;33m\u001B[0m\u001B[1;33m\u001B[0m\u001B[0m\n\u001B[0m\u001B[0;32m   3630\u001B[0m             \u001B[1;32mexcept\u001B[0m \u001B[0mKeyError\u001B[0m \u001B[1;32mas\u001B[0m \u001B[0merr\u001B[0m\u001B[1;33m:\u001B[0m\u001B[1;33m\u001B[0m\u001B[1;33m\u001B[0m\u001B[0m\n",
      "\u001B[1;32mC:\\ProgramData\\Anaconda3\\lib\\site-packages\\pandas\\_libs\\index.pyx\u001B[0m in \u001B[0;36mpandas._libs.index.IndexEngine.get_loc\u001B[1;34m()\u001B[0m\n",
      "\u001B[1;32mC:\\ProgramData\\Anaconda3\\lib\\site-packages\\pandas\\_libs\\index.pyx\u001B[0m in \u001B[0;36mpandas._libs.index.IndexEngine.get_loc\u001B[1;34m()\u001B[0m\n",
      "\u001B[1;32mpandas\\_libs\\hashtable_class_helper.pxi\u001B[0m in \u001B[0;36mpandas._libs.hashtable.PyObjectHashTable.get_item\u001B[1;34m()\u001B[0m\n",
      "\u001B[1;32mpandas\\_libs\\hashtable_class_helper.pxi\u001B[0m in \u001B[0;36mpandas._libs.hashtable.PyObjectHashTable.get_item\u001B[1;34m()\u001B[0m\n",
      "\u001B[1;31mKeyError\u001B[0m: 'electric_utility'",
      "\nThe above exception was the direct cause of the following exception:\n",
      "\u001B[1;31mKeyError\u001B[0m                                  Traceback (most recent call last)",
      "\u001B[1;32m~\\AppData\\Local\\Temp\\ipykernel_9676\\1027413624.py\u001B[0m in \u001B[0;36m<module>\u001B[1;34m\u001B[0m\n\u001B[0;32m      1\u001B[0m \u001B[1;31m# show electric utility operators\u001B[0m\u001B[1;33m\u001B[0m\u001B[1;33m\u001B[0m\u001B[0m\n\u001B[1;32m----> 2\u001B[1;33m \u001B[0mdf\u001B[0m\u001B[1;33m[\u001B[0m\u001B[1;34m\"electric_utility\"\u001B[0m\u001B[1;33m]\u001B[0m\u001B[1;33m.\u001B[0m\u001B[0munique\u001B[0m\u001B[1;33m(\u001B[0m\u001B[1;33m)\u001B[0m\u001B[1;33m\u001B[0m\u001B[1;33m\u001B[0m\u001B[0m\n\u001B[0m",
      "\u001B[1;32mC:\\ProgramData\\Anaconda3\\lib\\site-packages\\pandas\\core\\frame.py\u001B[0m in \u001B[0;36m__getitem__\u001B[1;34m(self, key)\u001B[0m\n\u001B[0;32m   3503\u001B[0m             \u001B[1;32mif\u001B[0m \u001B[0mself\u001B[0m\u001B[1;33m.\u001B[0m\u001B[0mcolumns\u001B[0m\u001B[1;33m.\u001B[0m\u001B[0mnlevels\u001B[0m \u001B[1;33m>\u001B[0m \u001B[1;36m1\u001B[0m\u001B[1;33m:\u001B[0m\u001B[1;33m\u001B[0m\u001B[1;33m\u001B[0m\u001B[0m\n\u001B[0;32m   3504\u001B[0m                 \u001B[1;32mreturn\u001B[0m \u001B[0mself\u001B[0m\u001B[1;33m.\u001B[0m\u001B[0m_getitem_multilevel\u001B[0m\u001B[1;33m(\u001B[0m\u001B[0mkey\u001B[0m\u001B[1;33m)\u001B[0m\u001B[1;33m\u001B[0m\u001B[1;33m\u001B[0m\u001B[0m\n\u001B[1;32m-> 3505\u001B[1;33m             \u001B[0mindexer\u001B[0m \u001B[1;33m=\u001B[0m \u001B[0mself\u001B[0m\u001B[1;33m.\u001B[0m\u001B[0mcolumns\u001B[0m\u001B[1;33m.\u001B[0m\u001B[0mget_loc\u001B[0m\u001B[1;33m(\u001B[0m\u001B[0mkey\u001B[0m\u001B[1;33m)\u001B[0m\u001B[1;33m\u001B[0m\u001B[1;33m\u001B[0m\u001B[0m\n\u001B[0m\u001B[0;32m   3506\u001B[0m             \u001B[1;32mif\u001B[0m \u001B[0mis_integer\u001B[0m\u001B[1;33m(\u001B[0m\u001B[0mindexer\u001B[0m\u001B[1;33m)\u001B[0m\u001B[1;33m:\u001B[0m\u001B[1;33m\u001B[0m\u001B[1;33m\u001B[0m\u001B[0m\n\u001B[0;32m   3507\u001B[0m                 \u001B[0mindexer\u001B[0m \u001B[1;33m=\u001B[0m \u001B[1;33m[\u001B[0m\u001B[0mindexer\u001B[0m\u001B[1;33m]\u001B[0m\u001B[1;33m\u001B[0m\u001B[1;33m\u001B[0m\u001B[0m\n",
      "\u001B[1;32mC:\\ProgramData\\Anaconda3\\lib\\site-packages\\pandas\\core\\indexes\\base.py\u001B[0m in \u001B[0;36mget_loc\u001B[1;34m(self, key, method, tolerance)\u001B[0m\n\u001B[0;32m   3629\u001B[0m                 \u001B[1;32mreturn\u001B[0m \u001B[0mself\u001B[0m\u001B[1;33m.\u001B[0m\u001B[0m_engine\u001B[0m\u001B[1;33m.\u001B[0m\u001B[0mget_loc\u001B[0m\u001B[1;33m(\u001B[0m\u001B[0mcasted_key\u001B[0m\u001B[1;33m)\u001B[0m\u001B[1;33m\u001B[0m\u001B[1;33m\u001B[0m\u001B[0m\n\u001B[0;32m   3630\u001B[0m             \u001B[1;32mexcept\u001B[0m \u001B[0mKeyError\u001B[0m \u001B[1;32mas\u001B[0m \u001B[0merr\u001B[0m\u001B[1;33m:\u001B[0m\u001B[1;33m\u001B[0m\u001B[1;33m\u001B[0m\u001B[0m\n\u001B[1;32m-> 3631\u001B[1;33m                 \u001B[1;32mraise\u001B[0m \u001B[0mKeyError\u001B[0m\u001B[1;33m(\u001B[0m\u001B[0mkey\u001B[0m\u001B[1;33m)\u001B[0m \u001B[1;32mfrom\u001B[0m \u001B[0merr\u001B[0m\u001B[1;33m\u001B[0m\u001B[1;33m\u001B[0m\u001B[0m\n\u001B[0m\u001B[0;32m   3632\u001B[0m             \u001B[1;32mexcept\u001B[0m \u001B[0mTypeError\u001B[0m\u001B[1;33m:\u001B[0m\u001B[1;33m\u001B[0m\u001B[1;33m\u001B[0m\u001B[0m\n\u001B[0;32m   3633\u001B[0m                 \u001B[1;31m# If we have a listlike key, _check_indexing_error will raise\u001B[0m\u001B[1;33m\u001B[0m\u001B[1;33m\u001B[0m\u001B[0m\n",
      "\u001B[1;31mKeyError\u001B[0m: 'electric_utility'"
     ]
    }
   ],
   "source": [
    "# show electric utility operators\n",
    "df[\"electric_utility_provider\"].unique()"
   ],
   "metadata": {
    "collapsed": false
   }
  },
  {
   "cell_type": "markdown",
   "source": [
    "## Column 8: Project Completion Date"
   ],
   "metadata": {
    "collapsed": false
   }
  },
  {
   "cell_type": "code",
   "execution_count": 14,
   "outputs": [],
   "source": [
    "# convert project completion date to datetime format with pandas\n",
    "df[\"project_completion_date\"] = pd.to_datetime(df[\"project_completion_date\"])"
   ],
   "metadata": {
    "collapsed": false
   }
  },
  {
   "cell_type": "code",
   "execution_count": 15,
   "outputs": [],
   "source": [
    "# get years from Project Completion Date\n",
    "df[\"year\"] = df[\"project_completion_date\"].apply(lambda x: x.year)"
   ],
   "metadata": {
    "collapsed": false
   }
  },
  {
   "cell_type": "code",
   "execution_count": 16,
   "outputs": [
    {
     "data": {
      "text/plain": "2016    7016\n2015    6568\n2019    5804\n2014    5799\n2011    5470\n2013    5360\n2017    5187\n2018    5116\n2012    5106\n2020    3084\n2010     898\n2021     422\nName: year, dtype: int64"
     },
     "execution_count": 16,
     "metadata": {},
     "output_type": "execute_result"
    }
   ],
   "source": [
    "# How many projects per year?\n",
    "df[\"year\"].value_counts()"
   ],
   "metadata": {
    "collapsed": false
   }
  },
  {
   "cell_type": "markdown",
   "source": [
    "## Column 9: Customer Type"
   ],
   "metadata": {
    "collapsed": false
   }
  },
  {
   "cell_type": "code",
   "execution_count": 17,
   "outputs": [
    {
     "data": {
      "text/plain": "Market      34085\nAssisted    21745\nName: customer_type, dtype: int64"
     },
     "execution_count": 17,
     "metadata": {},
     "output_type": "execute_result"
    }
   ],
   "source": [
    "df[\"customer_type\"].value_counts()"
   ],
   "metadata": {
    "collapsed": false
   }
  },
  {
   "cell_type": "markdown",
   "source": [
    "## Column 10: Low-rise or Home Performance Indicator"
   ],
   "metadata": {
    "collapsed": false
   }
  },
  {
   "cell_type": "code",
   "execution_count": 19,
   "outputs": [
    {
     "data": {
      "text/plain": "  home_performance_project_id home_performance_site_id project_county  \\\n0                      483911                   357221         Oneida   \n1                      486389                   343438          Wayne   \n2                      483374                   356880           Erie   \n3                      475733                   350454         Oneida   \n4                      483731                   356491     Livingston   \n\n  project_city  project_zip            gas_utility_provider  \\\n0    Barneveld        13304                             NaN   \n1      Palmyra        14522                             NaN   \n2      Buffalo        14215  National Fuel Gas Distribution   \n3         Rome        13440                             NaN   \n4         Lima        14485                             NaN   \n\n       electric_utility_provider project_completion_date customer_type  \\\n0                  National Grid              2021-01-16      Assisted   \n1  New York State Electric & Gas              2021-01-06      Assisted   \n2                  National Grid              2020-12-15      Assisted   \n3                  National Grid              2020-12-09      Assisted   \n4                  National Grid              2020-12-08      Assisted   \n\n           job_type  ...    measure_type  estimated_annual_kwh_savings  \\\n0  Home Performance  ...  Building Shell                             0   \n1  Home Performance  ...  Building Shell                           309   \n2  Home Performance  ...  Building Shell                             0   \n3  Home Performance  ...  Building Shell                             0   \n4  Home Performance  ...  Building Shell                             0   \n\n  estimated_annual_mmbtu_savings  first_year_energy_savings_$_estimate  \\\n0                             27                                   474   \n1                              3                                   111   \n2                              8                                    61   \n3                             28                                   681   \n4                              6                                   146   \n\n  homeowner_received_free/reduced_cost_audit?  \\\n0                                           Y   \n1                                           Y   \n2                                           Y   \n3                                           Y   \n4                                           Y   \n\n                                            location  new_york_zip_codes  \\\n0  {'type': 'Point', 'coordinates': [-75.16936, 4...               764.0   \n1  {'type': 'Point', 'coordinates': [-77.218837, ...               364.0   \n2  {'type': 'Point', 'coordinates': [-78.808435, ...                71.0   \n3  {'type': 'Point', 'coordinates': [-75.454665, ...              1366.0   \n4  {'type': 'Point', 'coordinates': [-77.603561, ...               312.0   \n\n   counties_2  nys_municipal_boundaries_2  year  \n0       625.0                         985  2021  \n1       631.0                         631  2021  \n2      2041.0                         300  2020  \n3       625.0                         989  2020  \n4      2091.0                         742  2020  \n\n[5 rows x 29 columns]",
      "text/html": "<div>\n<style scoped>\n    .dataframe tbody tr th:only-of-type {\n        vertical-align: middle;\n    }\n\n    .dataframe tbody tr th {\n        vertical-align: top;\n    }\n\n    .dataframe thead th {\n        text-align: right;\n    }\n</style>\n<table border=\"1\" class=\"dataframe\">\n  <thead>\n    <tr style=\"text-align: right;\">\n      <th></th>\n      <th>home_performance_project_id</th>\n      <th>home_performance_site_id</th>\n      <th>project_county</th>\n      <th>project_city</th>\n      <th>project_zip</th>\n      <th>gas_utility_provider</th>\n      <th>electric_utility_provider</th>\n      <th>project_completion_date</th>\n      <th>customer_type</th>\n      <th>job_type</th>\n      <th>...</th>\n      <th>measure_type</th>\n      <th>estimated_annual_kwh_savings</th>\n      <th>estimated_annual_mmbtu_savings</th>\n      <th>first_year_energy_savings_$_estimate</th>\n      <th>homeowner_received_free/reduced_cost_audit?</th>\n      <th>location</th>\n      <th>new_york_zip_codes</th>\n      <th>counties_2</th>\n      <th>nys_municipal_boundaries_2</th>\n      <th>year</th>\n    </tr>\n  </thead>\n  <tbody>\n    <tr>\n      <th>0</th>\n      <td>483911</td>\n      <td>357221</td>\n      <td>Oneida</td>\n      <td>Barneveld</td>\n      <td>13304</td>\n      <td>NaN</td>\n      <td>National Grid</td>\n      <td>2021-01-16</td>\n      <td>Assisted</td>\n      <td>Home Performance</td>\n      <td>...</td>\n      <td>Building Shell</td>\n      <td>0</td>\n      <td>27</td>\n      <td>474</td>\n      <td>Y</td>\n      <td>{'type': 'Point', 'coordinates': [-75.16936, 4...</td>\n      <td>764.0</td>\n      <td>625.0</td>\n      <td>985</td>\n      <td>2021</td>\n    </tr>\n    <tr>\n      <th>1</th>\n      <td>486389</td>\n      <td>343438</td>\n      <td>Wayne</td>\n      <td>Palmyra</td>\n      <td>14522</td>\n      <td>NaN</td>\n      <td>New York State Electric &amp; Gas</td>\n      <td>2021-01-06</td>\n      <td>Assisted</td>\n      <td>Home Performance</td>\n      <td>...</td>\n      <td>Building Shell</td>\n      <td>309</td>\n      <td>3</td>\n      <td>111</td>\n      <td>Y</td>\n      <td>{'type': 'Point', 'coordinates': [-77.218837, ...</td>\n      <td>364.0</td>\n      <td>631.0</td>\n      <td>631</td>\n      <td>2021</td>\n    </tr>\n    <tr>\n      <th>2</th>\n      <td>483374</td>\n      <td>356880</td>\n      <td>Erie</td>\n      <td>Buffalo</td>\n      <td>14215</td>\n      <td>National Fuel Gas Distribution</td>\n      <td>National Grid</td>\n      <td>2020-12-15</td>\n      <td>Assisted</td>\n      <td>Home Performance</td>\n      <td>...</td>\n      <td>Building Shell</td>\n      <td>0</td>\n      <td>8</td>\n      <td>61</td>\n      <td>Y</td>\n      <td>{'type': 'Point', 'coordinates': [-78.808435, ...</td>\n      <td>71.0</td>\n      <td>2041.0</td>\n      <td>300</td>\n      <td>2020</td>\n    </tr>\n    <tr>\n      <th>3</th>\n      <td>475733</td>\n      <td>350454</td>\n      <td>Oneida</td>\n      <td>Rome</td>\n      <td>13440</td>\n      <td>NaN</td>\n      <td>National Grid</td>\n      <td>2020-12-09</td>\n      <td>Assisted</td>\n      <td>Home Performance</td>\n      <td>...</td>\n      <td>Building Shell</td>\n      <td>0</td>\n      <td>28</td>\n      <td>681</td>\n      <td>Y</td>\n      <td>{'type': 'Point', 'coordinates': [-75.454665, ...</td>\n      <td>1366.0</td>\n      <td>625.0</td>\n      <td>989</td>\n      <td>2020</td>\n    </tr>\n    <tr>\n      <th>4</th>\n      <td>483731</td>\n      <td>356491</td>\n      <td>Livingston</td>\n      <td>Lima</td>\n      <td>14485</td>\n      <td>NaN</td>\n      <td>National Grid</td>\n      <td>2020-12-08</td>\n      <td>Assisted</td>\n      <td>Home Performance</td>\n      <td>...</td>\n      <td>Building Shell</td>\n      <td>0</td>\n      <td>6</td>\n      <td>146</td>\n      <td>Y</td>\n      <td>{'type': 'Point', 'coordinates': [-77.603561, ...</td>\n      <td>312.0</td>\n      <td>2091.0</td>\n      <td>742</td>\n      <td>2020</td>\n    </tr>\n  </tbody>\n</table>\n<p>5 rows × 29 columns</p>\n</div>"
     },
     "execution_count": 19,
     "metadata": {},
     "output_type": "execute_result"
    }
   ],
   "source": [
    "df.head()"
   ],
   "metadata": {
    "collapsed": false
   }
  },
  {
   "cell_type": "code",
   "execution_count": 20,
   "outputs": [
    {
     "data": {
      "text/plain": "Home Performance    55830\nName: job_type, dtype: int64"
     },
     "execution_count": 20,
     "metadata": {},
     "output_type": "execute_result"
    }
   ],
   "source": [
    "df[\"job_type\"].value_counts()"
   ],
   "metadata": {
    "collapsed": false
   }
  },
  {
   "cell_type": "markdown",
   "source": [
    "## Column 11: Total Project Cost"
   ],
   "metadata": {
    "collapsed": false
   }
  },
  {
   "cell_type": "code",
   "execution_count": 21,
   "outputs": [
    {
     "data": {
      "text/plain": "count    55830.000000\nmean      8572.804263\nstd       5582.971049\nmin          0.000000\n25%       4700.000000\n50%       7286.000000\n75%      10757.000000\nmax      85290.000000\nName: total_project_cost, dtype: float64"
     },
     "execution_count": 21,
     "metadata": {},
     "output_type": "execute_result"
    }
   ],
   "source": [
    "df[\"total_project_cost\"].describe()"
   ],
   "metadata": {
    "collapsed": false
   }
  },
  {
   "cell_type": "code",
   "execution_count": 22,
   "outputs": [],
   "source": [
    "# remove null value in total_project_cost (it's only one!)\n",
    "df = df.loc[(df[\"total_project_cost\"] != 0)]"
   ],
   "metadata": {
    "collapsed": false
   }
  },
  {
   "cell_type": "code",
   "execution_count": 23,
   "outputs": [
    {
     "data": {
      "text/plain": "<AxesSubplot:xlabel='total_project_cost', ylabel='Count'>"
     },
     "execution_count": 23,
     "metadata": {},
     "output_type": "execute_result"
    },
    {
     "data": {
      "text/plain": "<Figure size 640x480 with 1 Axes>",
      "image/png": "[encoded data removed]"
     },
     "metadata": {},
     "output_type": "display_data"
    }
   ],
   "source": [
    "sns.histplot(df[\"total_project_cost\"])"
   ],
   "metadata": {
    "collapsed": false
   }
  },
  {
   "cell_type": "markdown",
   "source": [
    "## Column 12: Total Incentives"
   ],
   "metadata": {
    "collapsed": false
   }
  },
  {
   "cell_type": "code",
   "execution_count": 24,
   "outputs": [
    {
     "data": {
      "text/plain": "count    55829.000000\nmean      1687.341418\nstd       1705.700525\nmin          0.000000\n25%        301.000000\n50%       1004.000000\n75%       2899.000000\nmax      10000.000000\nName: total_incentives, dtype: float64"
     },
     "execution_count": 24,
     "metadata": {},
     "output_type": "execute_result"
    }
   ],
   "source": [
    "df[\"total_incentives\"].describe()"
   ],
   "metadata": {
    "collapsed": false
   }
  },
  {
   "cell_type": "code",
   "execution_count": 25,
   "outputs": [
    {
     "data": {
      "text/plain": "False    44697\nTrue     11132\nName: total_incentives, dtype: int64"
     },
     "execution_count": 25,
     "metadata": {},
     "output_type": "execute_result"
    }
   ],
   "source": [
    "(df[\"total_incentives\"]==0).value_counts()"
   ],
   "metadata": {
    "collapsed": false
   }
  },
  {
   "cell_type": "code",
   "execution_count": 26,
   "outputs": [
    {
     "data": {
      "text/plain": "<AxesSubplot:xlabel='total_incentives', ylabel='Count'>"
     },
     "execution_count": 26,
     "metadata": {},
     "output_type": "execute_result"
    },
    {
     "data": {
      "text/plain": "<Figure size 640x480 with 1 Axes>",
      "image/png": "[encoded data removed]"
     },
     "metadata": {},
     "output_type": "display_data"
    }
   ],
   "source": [
    "sns.histplot(df[\"total_incentives\"])"
   ],
   "metadata": {
    "collapsed": false
   }
  },
  {
   "cell_type": "markdown",
   "source": [
    "## Column 13: Type of Program Financing"
   ],
   "metadata": {
    "collapsed": false
   }
  },
  {
   "cell_type": "code",
   "execution_count": 27,
   "outputs": [
    {
     "data": {
      "text/plain": "Green Jobs - Green NY Smart Energy Loan        14474\nGreen Jobs - Green NY On-Bill Recovery Loan     3689\nESMART                                           219\nESTAR                                             83\nName: type_of_program_financing, dtype: int64"
     },
     "execution_count": 27,
     "metadata": {},
     "output_type": "execute_result"
    }
   ],
   "source": [
    "df[\"type_of_program_financing\"].value_counts()"
   ],
   "metadata": {
    "collapsed": false
   }
  },
  {
   "cell_type": "code",
   "execution_count": 28,
   "outputs": [
    {
     "data": {
      "text/plain": "True     37364\nFalse    18465\nName: type_of_program_financing, dtype: int64"
     },
     "execution_count": 28,
     "metadata": {},
     "output_type": "execute_result"
    }
   ],
   "source": [
    "df[\"type_of_program_financing\"].isna().value_counts()"
   ],
   "metadata": {
    "collapsed": false
   }
  },
  {
   "cell_type": "markdown",
   "source": [
    "## Column 14: Amount Financed Through Program"
   ],
   "metadata": {
    "collapsed": false
   }
  },
  {
   "cell_type": "code",
   "execution_count": 29,
   "outputs": [
    {
     "data": {
      "text/plain": "count    55829.000000\nmean      2805.029107\nstd       5084.069034\nmin          0.000000\n25%          0.000000\n50%          0.000000\n75%       4307.000000\nmax      25000.000000\nName: amount_financed_through_program, dtype: float64"
     },
     "execution_count": 29,
     "metadata": {},
     "output_type": "execute_result"
    }
   ],
   "source": [
    "df[\"amount_financed_through_program\"].describe()"
   ],
   "metadata": {
    "collapsed": false
   }
  },
  {
   "cell_type": "code",
   "execution_count": 30,
   "outputs": [
    {
     "data": {
      "text/plain": "<AxesSubplot:xlabel='amount_financed_through_program', ylabel='Count'>"
     },
     "execution_count": 30,
     "metadata": {},
     "output_type": "execute_result"
    },
    {
     "data": {
      "text/plain": "<Figure size 640x480 with 1 Axes>",
      "image/png": "[encoded data removed]"
     },
     "metadata": {},
     "output_type": "display_data"
    }
   ],
   "source": [
    "# histogram of all non-zero values in amount_financed_through_program\n",
    "sns.histplot(df[\"amount_financed_through_program\"].loc[df[\"amount_financed_through_program\"] != 0])"
   ],
   "metadata": {
    "collapsed": false
   }
  },
  {
   "cell_type": "code",
   "execution_count": 31,
   "outputs": [],
   "source": [
    "# drop all rows where Year Built == nan (drops around 20.000 rows)\n",
    "df = df.loc[df[\"year_home_built\"].notna()]"
   ],
   "metadata": {
    "collapsed": false
   }
  },
  {
   "cell_type": "markdown",
   "source": [
    "## Column 15: Pre-Retrofit Home Heating Fuel Type"
   ],
   "metadata": {
    "collapsed": false
   }
  },
  {
   "cell_type": "code",
   "execution_count": 32,
   "outputs": [
    {
     "data": {
      "text/plain": "      home_performance_project_id home_performance_site_id project_county  \\\n0                          483911                   357221         Oneida   \n1                          486389                   343438          Wayne   \n2                          483374                   356880           Erie   \n3                          475733                   350454         Oneida   \n4                          483731                   356491     Livingston   \n...                           ...                      ...            ...   \n55825                P00000721450             S00000124921           Erie   \n55826                P00000727276             S00000130155    Schenectady   \n55827                P00000726343             S00000129326       Tompkins   \n55828                P00000727199             S00000130090         Monroe   \n55829                P00000725072             S00000128120         Monroe   \n\n      project_city  project_zip            gas_utility_provider  \\\n0        Barneveld        13304                             NaN   \n1          Palmyra        14522                             NaN   \n2          Buffalo        14215  National Fuel Gas Distribution   \n3             Rome        13440                             NaN   \n4             Lima        14485                             NaN   \n...            ...          ...                             ...   \n55825        Depew        14043  National Fuel Gas Distribution   \n55826  Schenectady        12303                   National Grid   \n55827    Freeville        13068   New York State Electric & Gas   \n55828    Rochester        14617        Rochester Gas & Electric   \n55829    Rochester        14624        Rochester Gas & Electric   \n\n           electric_utility_provider project_completion_date customer_type  \\\n0                      National Grid              2021-01-16      Assisted   \n1      New York State Electric & Gas              2021-01-06      Assisted   \n2                      National Grid              2020-12-15      Assisted   \n3                      National Grid              2020-12-09      Assisted   \n4                      National Grid              2020-12-08      Assisted   \n...                              ...                     ...           ...   \n55825  New York State Electric & Gas              2010-11-15        Market   \n55826                  National Grid              2011-01-28      Assisted   \n55827  New York State Electric & Gas              2011-01-13        Market   \n55828       Rochester Gas & Electric              2010-12-26        Market   \n55829       Rochester Gas & Electric              2011-02-01        Market   \n\n               job_type  ...    measure_type  estimated_annual_kwh_savings  \\\n0      Home Performance  ...  Building Shell                             0   \n1      Home Performance  ...  Building Shell                           309   \n2      Home Performance  ...  Building Shell                             0   \n3      Home Performance  ...  Building Shell                             0   \n4      Home Performance  ...  Building Shell                             0   \n...                 ...  ...             ...                           ...   \n55825  Home Performance  ...  Building Shell                             0   \n55826  Home Performance  ...  Building Shell                             0   \n55827  Home Performance  ...  Building Shell                             0   \n55828  Home Performance  ...  Building Shell                           601   \n55829  Home Performance  ...  Building Shell                             0   \n\n      estimated_annual_mmbtu_savings  first_year_energy_savings_$_estimate  \\\n0                                 27                                   474   \n1                                  3                                   111   \n2                                  8                                    61   \n3                                 28                                   681   \n4                                  6                                   146   \n...                              ...                                   ...   \n55825                             24                                   340   \n55826                             33                                   823   \n55827                             16                                   887   \n55828                             11                                   258   \n55829                              1                                     9   \n\n      homeowner_received_free/reduced_cost_audit?  \\\n0                                               Y   \n1                                               Y   \n2                                               Y   \n3                                               Y   \n4                                               Y   \n...                                           ...   \n55825                                           N   \n55826                                           N   \n55827                                           N   \n55828                                           N   \n55829                                           N   \n\n                                                location  new_york_zip_codes  \\\n0      {'type': 'Point', 'coordinates': [-75.16936, 4...               764.0   \n1      {'type': 'Point', 'coordinates': [-77.218837, ...               364.0   \n2      {'type': 'Point', 'coordinates': [-78.808435, ...                71.0   \n3      {'type': 'Point', 'coordinates': [-75.454665, ...              1366.0   \n4      {'type': 'Point', 'coordinates': [-77.603561, ...               312.0   \n...                                                  ...                 ...   \n55825  {'type': 'Point', 'coordinates': [-78.702553, ...               506.0   \n55826  {'type': 'Point', 'coordinates': [-73.932117, ...                72.0   \n55827  {'type': 'Point', 'coordinates': [-76.359264, ...               622.0   \n55828  {'type': 'Point', 'coordinates': [-77.597999, ...              1676.0   \n55829  {'type': 'Point', 'coordinates': [-77.729647, ...              1683.0   \n\n       counties_2  nys_municipal_boundaries_2  year  \n0           625.0                         985  2021  \n1           631.0                         631  2021  \n2          2041.0                         300  2020  \n3           625.0                         989  2020  \n4          2091.0                         742  2020  \n...           ...                         ...   ...  \n55825      2041.0                         298  2010  \n55826      2030.0                         832  2011  \n55827      2181.0                         712  2011  \n55828      2093.0                         545  2010  \n55829      2093.0                         549  2011  \n\n[38956 rows x 29 columns]",
      "text/html": "<div>\n<style scoped>\n    .dataframe tbody tr th:only-of-type {\n        vertical-align: middle;\n    }\n\n    .dataframe tbody tr th {\n        vertical-align: top;\n    }\n\n    .dataframe thead th {\n        text-align: right;\n    }\n</style>\n<table border=\"1\" class=\"dataframe\">\n  <thead>\n    <tr style=\"text-align: right;\">\n      <th></th>\n      <th>home_performance_project_id</th>\n      <th>home_performance_site_id</th>\n      <th>project_county</th>\n      <th>project_city</th>\n      <th>project_zip</th>\n      <th>gas_utility_provider</th>\n      <th>electric_utility_provider</th>\n      <th>project_completion_date</th>\n      <th>customer_type</th>\n      <th>job_type</th>\n      <th>...</th>\n      <th>measure_type</th>\n      <th>estimated_annual_kwh_savings</th>\n      <th>estimated_annual_mmbtu_savings</th>\n      <th>first_year_energy_savings_$_estimate</th>\n      <th>homeowner_received_free/reduced_cost_audit?</th>\n      <th>location</th>\n      <th>new_york_zip_codes</th>\n      <th>counties_2</th>\n      <th>nys_municipal_boundaries_2</th>\n      <th>year</th>\n    </tr>\n  </thead>\n  <tbody>\n    <tr>\n      <th>0</th>\n      <td>483911</td>\n      <td>357221</td>\n      <td>Oneida</td>\n      <td>Barneveld</td>\n      <td>13304</td>\n      <td>NaN</td>\n      <td>National Grid</td>\n      <td>2021-01-16</td>\n      <td>Assisted</td>\n      <td>Home Performance</td>\n      <td>...</td>\n      <td>Building Shell</td>\n      <td>0</td>\n      <td>27</td>\n      <td>474</td>\n      <td>Y</td>\n      <td>{'type': 'Point', 'coordinates': [-75.16936, 4...</td>\n      <td>764.0</td>\n      <td>625.0</td>\n      <td>985</td>\n      <td>2021</td>\n    </tr>\n    <tr>\n      <th>1</th>\n      <td>486389</td>\n      <td>343438</td>\n      <td>Wayne</td>\n      <td>Palmyra</td>\n      <td>14522</td>\n      <td>NaN</td>\n      <td>New York State Electric &amp; Gas</td>\n      <td>2021-01-06</td>\n      <td>Assisted</td>\n      <td>Home Performance</td>\n      <td>...</td>\n      <td>Building Shell</td>\n      <td>309</td>\n      <td>3</td>\n      <td>111</td>\n      <td>Y</td>\n      <td>{'type': 'Point', 'coordinates': [-77.218837, ...</td>\n      <td>364.0</td>\n      <td>631.0</td>\n      <td>631</td>\n      <td>2021</td>\n    </tr>\n    <tr>\n      <th>2</th>\n      <td>483374</td>\n      <td>356880</td>\n      <td>Erie</td>\n      <td>Buffalo</td>\n      <td>14215</td>\n      <td>National Fuel Gas Distribution</td>\n      <td>National Grid</td>\n      <td>2020-12-15</td>\n      <td>Assisted</td>\n      <td>Home Performance</td>\n      <td>...</td>\n      <td>Building Shell</td>\n      <td>0</td>\n      <td>8</td>\n      <td>61</td>\n      <td>Y</td>\n      <td>{'type': 'Point', 'coordinates': [-78.808435, ...</td>\n      <td>71.0</td>\n      <td>2041.0</td>\n      <td>300</td>\n      <td>2020</td>\n    </tr>\n    <tr>\n      <th>3</th>\n      <td>475733</td>\n      <td>350454</td>\n      <td>Oneida</td>\n      <td>Rome</td>\n      <td>13440</td>\n      <td>NaN</td>\n      <td>National Grid</td>\n      <td>2020-12-09</td>\n      <td>Assisted</td>\n      <td>Home Performance</td>\n      <td>...</td>\n      <td>Building Shell</td>\n      <td>0</td>\n      <td>28</td>\n      <td>681</td>\n      <td>Y</td>\n      <td>{'type': 'Point', 'coordinates': [-75.454665, ...</td>\n      <td>1366.0</td>\n      <td>625.0</td>\n      <td>989</td>\n      <td>2020</td>\n    </tr>\n    <tr>\n      <th>4</th>\n      <td>483731</td>\n      <td>356491</td>\n      <td>Livingston</td>\n      <td>Lima</td>\n      <td>14485</td>\n      <td>NaN</td>\n      <td>National Grid</td>\n      <td>2020-12-08</td>\n      <td>Assisted</td>\n      <td>Home Performance</td>\n      <td>...</td>\n      <td>Building Shell</td>\n      <td>0</td>\n      <td>6</td>\n      <td>146</td>\n      <td>Y</td>\n      <td>{'type': 'Point', 'coordinates': [-77.603561, ...</td>\n      <td>312.0</td>\n      <td>2091.0</td>\n      <td>742</td>\n      <td>2020</td>\n    </tr>\n    <tr>\n      <th>...</th>\n      <td>...</td>\n      <td>...</td>\n      <td>...</td>\n      <td>...</td>\n      <td>...</td>\n      <td>...</td>\n      <td>...</td>\n      <td>...</td>\n      <td>...</td>\n      <td>...</td>\n      <td>...</td>\n      <td>...</td>\n      <td>...</td>\n      <td>...</td>\n      <td>...</td>\n      <td>...</td>\n      <td>...</td>\n      <td>...</td>\n      <td>...</td>\n      <td>...</td>\n      <td>...</td>\n    </tr>\n    <tr>\n      <th>55825</th>\n      <td>P00000721450</td>\n      <td>S00000124921</td>\n      <td>Erie</td>\n      <td>Depew</td>\n      <td>14043</td>\n      <td>National Fuel Gas Distribution</td>\n      <td>New York State Electric &amp; Gas</td>\n      <td>2010-11-15</td>\n      <td>Market</td>\n      <td>Home Performance</td>\n      <td>...</td>\n      <td>Building Shell</td>\n      <td>0</td>\n      <td>24</td>\n      <td>340</td>\n      <td>N</td>\n      <td>{'type': 'Point', 'coordinates': [-78.702553, ...</td>\n      <td>506.0</td>\n      <td>2041.0</td>\n      <td>298</td>\n      <td>2010</td>\n    </tr>\n    <tr>\n      <th>55826</th>\n      <td>P00000727276</td>\n      <td>S00000130155</td>\n      <td>Schenectady</td>\n      <td>Schenectady</td>\n      <td>12303</td>\n      <td>National Grid</td>\n      <td>National Grid</td>\n      <td>2011-01-28</td>\n      <td>Assisted</td>\n      <td>Home Performance</td>\n      <td>...</td>\n      <td>Building Shell</td>\n      <td>0</td>\n      <td>33</td>\n      <td>823</td>\n      <td>N</td>\n      <td>{'type': 'Point', 'coordinates': [-73.932117, ...</td>\n      <td>72.0</td>\n      <td>2030.0</td>\n      <td>832</td>\n      <td>2011</td>\n    </tr>\n    <tr>\n      <th>55827</th>\n      <td>P00000726343</td>\n      <td>S00000129326</td>\n      <td>Tompkins</td>\n      <td>Freeville</td>\n      <td>13068</td>\n      <td>New York State Electric &amp; Gas</td>\n      <td>New York State Electric &amp; Gas</td>\n      <td>2011-01-13</td>\n      <td>Market</td>\n      <td>Home Performance</td>\n      <td>...</td>\n      <td>Building Shell</td>\n      <td>0</td>\n      <td>16</td>\n      <td>887</td>\n      <td>N</td>\n      <td>{'type': 'Point', 'coordinates': [-76.359264, ...</td>\n      <td>622.0</td>\n      <td>2181.0</td>\n      <td>712</td>\n      <td>2011</td>\n    </tr>\n    <tr>\n      <th>55828</th>\n      <td>P00000727199</td>\n      <td>S00000130090</td>\n      <td>Monroe</td>\n      <td>Rochester</td>\n      <td>14617</td>\n      <td>Rochester Gas &amp; Electric</td>\n      <td>Rochester Gas &amp; Electric</td>\n      <td>2010-12-26</td>\n      <td>Market</td>\n      <td>Home Performance</td>\n      <td>...</td>\n      <td>Building Shell</td>\n      <td>601</td>\n      <td>11</td>\n      <td>258</td>\n      <td>N</td>\n      <td>{'type': 'Point', 'coordinates': [-77.597999, ...</td>\n      <td>1676.0</td>\n      <td>2093.0</td>\n      <td>545</td>\n      <td>2010</td>\n    </tr>\n    <tr>\n      <th>55829</th>\n      <td>P00000725072</td>\n      <td>S00000128120</td>\n      <td>Monroe</td>\n      <td>Rochester</td>\n      <td>14624</td>\n      <td>Rochester Gas &amp; Electric</td>\n      <td>Rochester Gas &amp; Electric</td>\n      <td>2011-02-01</td>\n      <td>Market</td>\n      <td>Home Performance</td>\n      <td>...</td>\n      <td>Building Shell</td>\n      <td>0</td>\n      <td>1</td>\n      <td>9</td>\n      <td>N</td>\n      <td>{'type': 'Point', 'coordinates': [-77.729647, ...</td>\n      <td>1683.0</td>\n      <td>2093.0</td>\n      <td>549</td>\n      <td>2011</td>\n    </tr>\n  </tbody>\n</table>\n<p>38956 rows × 29 columns</p>\n</div>"
     },
     "execution_count": 32,
     "metadata": {},
     "output_type": "execute_result"
    }
   ],
   "source": [
    "#Application of unity_column_entries function\n",
    "translator = {\"Natural Gas\" : \"Natural Gas\",\n",
    "             \"Oil\": \"Oil\",\n",
    "             \"Natural gas\": \"Natural Gas\",\n",
    "             \"Propane\": \"Propane\",\n",
    "             \"Electricity\": \"Electricity\",\n",
    "             \"Wood\": \"Wood\",\n",
    "             \"Kerosene\": \"Kerosene\",\n",
    "             \"Coal\": \"Coal\",\n",
    "             \"Bituminous Coal\": \"Bituminous Coal\",\n",
    "             \"Anthracite Coal\": \"Anthracite Coal\",\n",
    "             \"Electric\": \"Electricity\"}\n",
    "\n",
    "unify_column_entries(df, translator, \"pre-retrofit_home_heating_fuel_type\")"
   ],
   "metadata": {
    "collapsed": false
   }
  },
  {
   "cell_type": "code",
   "execution_count": 33,
   "outputs": [
    {
     "data": {
      "text/plain": "Natural Gas        28883\nOil                 6135\nPropane             2278\nElectricity          627\nWood                 370\nWood Pellets         133\nKerosene              96\nCoal                  32\nBituminous Coal        5\nAnthracite Coal        5\nName: pre-retrofit_home_heating_fuel_type, dtype: int64"
     },
     "execution_count": 33,
     "metadata": {},
     "output_type": "execute_result"
    }
   ],
   "source": [
    "df[\"pre-retrofit_home_heating_fuel_type\"].value_counts()"
   ],
   "metadata": {
    "collapsed": false
   }
  },
  {
   "cell_type": "markdown",
   "source": [
    "## Column 16: Year Home Built"
   ],
   "metadata": {
    "collapsed": false
   }
  },
  {
   "cell_type": "code",
   "execution_count": 34,
   "outputs": [
    {
     "data": {
      "text/plain": "(0, 29)"
     },
     "execution_count": 34,
     "metadata": {},
     "output_type": "execute_result"
    }
   ],
   "source": [
    "df[df[\"year_home_built\"].isna()].shape"
   ],
   "metadata": {
    "collapsed": false
   }
  },
  {
   "cell_type": "code",
   "execution_count": 35,
   "outputs": [
    {
     "data": {
      "text/plain": "<AxesSubplot:xlabel='year_home_built', ylabel='Count'>"
     },
     "execution_count": 35,
     "metadata": {},
     "output_type": "execute_result"
    },
    {
     "data": {
      "text/plain": "<Figure size 640x480 with 1 Axes>",
      "image/png": "[encoded data removed]"
     },
     "metadata": {},
     "output_type": "display_data"
    }
   ],
   "source": [
    "import seaborn as sns\n",
    "sns.histplot(df[\"year_home_built\"])"
   ],
   "metadata": {
    "collapsed": false
   }
  },
  {
   "cell_type": "markdown",
   "source": [
    "## Column 17: Size of Home"
   ],
   "metadata": {
    "collapsed": false
   }
  },
  {
   "cell_type": "code",
   "execution_count": 36,
   "outputs": [
    {
     "data": {
      "text/plain": "(0, 29)"
     },
     "execution_count": 36,
     "metadata": {},
     "output_type": "execute_result"
    }
   ],
   "source": [
    "df[df[\"size_of_home\"].isna()].shape"
   ],
   "metadata": {
    "collapsed": false
   }
  },
  {
   "cell_type": "code",
   "execution_count": 37,
   "outputs": [
    {
     "data": {
      "text/plain": "count    38956.000000\nmean      1881.312814\nstd        679.293902\nmin        800.000000\n25%       1364.000000\n50%       1760.000000\n75%       2272.000000\nmax       4000.000000\nName: size_of_home, dtype: float64"
     },
     "execution_count": 37,
     "metadata": {},
     "output_type": "execute_result"
    }
   ],
   "source": [
    "df[\"size_of_home\"].describe()"
   ],
   "metadata": {
    "collapsed": false
   }
  },
  {
   "cell_type": "code",
   "execution_count": 38,
   "outputs": [],
   "source": [
    "df[\"size_of_home\"] = df[\"size_of_home\"]*0.0929"
   ],
   "metadata": {
    "collapsed": false
   }
  },
  {
   "cell_type": "code",
   "execution_count": 39,
   "outputs": [
    {
     "data": {
      "text/plain": "111.4800    385\n167.2200    318\n133.7760    307\n148.6400    292\n185.8000    280\n           ... \n352.6484      1\n89.2769       1\n229.5559      1\n227.6979      1\n242.5619      1\nName: size_of_home, Length: 2876, dtype: int64"
     },
     "execution_count": 39,
     "metadata": {},
     "output_type": "execute_result"
    }
   ],
   "source": [
    "df[\"size_of_home\"].value_counts()"
   ],
   "metadata": {
    "collapsed": false
   }
  },
  {
   "cell_type": "markdown",
   "source": [
    "## Column 18: Volume of Home"
   ],
   "metadata": {
    "collapsed": false
   }
  },
  {
   "cell_type": "code",
   "execution_count": 40,
   "outputs": [
    {
     "data": {
      "text/plain": "(0, 29)"
     },
     "execution_count": 40,
     "metadata": {},
     "output_type": "execute_result"
    }
   ],
   "source": [
    "df[df[\"volume_of_home\"].isna()].shape"
   ],
   "metadata": {
    "collapsed": false
   }
  },
  {
   "cell_type": "code",
   "execution_count": 41,
   "outputs": [
    {
     "data": {
      "text/plain": "count    38956.000000\nmean     16211.362589\nstd       6532.801455\nmin       1111.000000\n25%      11408.000000\n50%      14928.000000\n75%      19656.000000\nmax      70376.000000\nName: volume_of_home, dtype: float64"
     },
     "execution_count": 41,
     "metadata": {},
     "output_type": "execute_result"
    }
   ],
   "source": [
    "df[\"volume_of_home\"].describe()"
   ],
   "metadata": {
    "collapsed": false
   }
  },
  {
   "cell_type": "code",
   "execution_count": 42,
   "outputs": [],
   "source": [
    "df[\"volume_of_home\"] = df[\"volume_of_home\"]*0.02832"
   ],
   "metadata": {
    "collapsed": false
   }
  },
  {
   "cell_type": "code",
   "execution_count": 43,
   "outputs": [
    {
     "data": {
      "text/plain": "271.87200     241\n326.24640     185\n407.80800     179\n217.49760     164\n304.49664     161\n             ... \n1084.76928      1\n725.04864       1\n458.47248       1\n749.17728       1\n718.90320       1\nName: volume_of_home, Length: 10242, dtype: int64"
     },
     "execution_count": 43,
     "metadata": {},
     "output_type": "execute_result"
    }
   ],
   "source": [
    "df[\"volume_of_home\"].value_counts()"
   ],
   "metadata": {
    "collapsed": false
   }
  },
  {
   "cell_type": "markdown",
   "source": [
    "## Column 19: Number of Units"
   ],
   "metadata": {
    "collapsed": false
   }
  },
  {
   "cell_type": "code",
   "execution_count": 44,
   "outputs": [
    {
     "data": {
      "text/plain": "(110, 29)"
     },
     "execution_count": 44,
     "metadata": {},
     "output_type": "execute_result"
    }
   ],
   "source": [
    "df[df[\"number_of_units\"].isna()].shape"
   ],
   "metadata": {
    "collapsed": false
   }
  },
  {
   "cell_type": "code",
   "execution_count": 45,
   "outputs": [
    {
     "data": {
      "text/plain": "(0, 29)"
     },
     "execution_count": 45,
     "metadata": {},
     "output_type": "execute_result"
    }
   ],
   "source": [
    "df[df[\"number_of_units\"] == 0].shape"
   ],
   "metadata": {
    "collapsed": false
   }
  },
  {
   "cell_type": "code",
   "execution_count": 46,
   "outputs": [
    {
     "data": {
      "text/plain": "count    38846.000000\nmean         1.035602\nstd          0.228476\nmin          1.000000\n25%          1.000000\n50%          1.000000\n75%          1.000000\nmax          4.000000\nName: number_of_units, dtype: float64"
     },
     "execution_count": 46,
     "metadata": {},
     "output_type": "execute_result"
    }
   ],
   "source": [
    "df[\"number_of_units\"].describe()"
   ],
   "metadata": {
    "collapsed": false
   }
  },
  {
   "cell_type": "code",
   "execution_count": 47,
   "outputs": [
    {
     "data": {
      "text/plain": "1.0    37730\n2.0      929\n3.0      107\n4.0       80\nName: number_of_units, dtype: int64"
     },
     "execution_count": 47,
     "metadata": {},
     "output_type": "execute_result"
    }
   ],
   "source": [
    "df[\"number_of_units\"].value_counts()"
   ],
   "metadata": {
    "collapsed": false
   }
  },
  {
   "cell_type": "markdown",
   "source": [
    "## Column 20: Measure Type"
   ],
   "metadata": {
    "collapsed": false
   }
  },
  {
   "cell_type": "code",
   "execution_count": 48,
   "outputs": [
    {
     "data": {
      "text/plain": "(0, 29)"
     },
     "execution_count": 48,
     "metadata": {},
     "output_type": "execute_result"
    }
   ],
   "source": [
    "df[df[\"measure_type\"].isna()].shape"
   ],
   "metadata": {
    "collapsed": false
   }
  },
  {
   "cell_type": "code",
   "execution_count": 49,
   "outputs": [
    {
     "data": {
      "text/plain": "count              38956\nunique                 3\ntop       Building Shell\nfreq               38577\nName: measure_type, dtype: object"
     },
     "execution_count": 49,
     "metadata": {},
     "output_type": "execute_result"
    }
   ],
   "source": [
    "df[\"measure_type\"].describe()"
   ],
   "metadata": {
    "collapsed": false
   }
  },
  {
   "cell_type": "code",
   "execution_count": 50,
   "outputs": [
    {
     "data": {
      "text/plain": "Building Shell         38577\nHeating and Cooling      375\nWater Heater               4\nName: measure_type, dtype: int64"
     },
     "execution_count": 50,
     "metadata": {},
     "output_type": "execute_result"
    }
   ],
   "source": [
    "df[\"measure_type\"].value_counts()"
   ],
   "metadata": {
    "collapsed": false
   }
  },
  {
   "cell_type": "markdown",
   "source": [
    "## Column 21: Estimated Annual kWh Savings"
   ],
   "metadata": {
    "collapsed": false
   }
  },
  {
   "cell_type": "code",
   "execution_count": 51,
   "outputs": [
    {
     "data": {
      "text/plain": "(0, 29)"
     },
     "execution_count": 51,
     "metadata": {},
     "output_type": "execute_result"
    }
   ],
   "source": [
    "df[df[\"estimated_annual_kwh_savings\"].isna()].shape"
   ],
   "metadata": {
    "collapsed": false
   }
  },
  {
   "cell_type": "code",
   "execution_count": 52,
   "outputs": [
    {
     "data": {
      "text/plain": "(12521, 29)"
     },
     "execution_count": 52,
     "metadata": {},
     "output_type": "execute_result"
    }
   ],
   "source": [
    "df[df[\"estimated_annual_kwh_savings\"] == 0].shape"
   ],
   "metadata": {
    "collapsed": false
   }
  },
  {
   "cell_type": "code",
   "execution_count": 53,
   "outputs": [
    {
     "data": {
      "text/plain": "count    38956.000000\nmean       428.505673\nstd       1811.826311\nmin     -24533.000000\n25%          0.000000\n50%         49.000000\n75%        400.000000\nmax      63480.000000\nName: estimated_annual_kwh_savings, dtype: float64"
     },
     "execution_count": 53,
     "metadata": {},
     "output_type": "execute_result"
    }
   ],
   "source": [
    "df[\"estimated_annual_kwh_savings\"].describe()"
   ],
   "metadata": {
    "collapsed": false
   }
  },
  {
   "cell_type": "code",
   "execution_count": null,
   "outputs": [
    {
     "data": {
      "text/plain": "<Figure size 640x480 with 1 Axes>",
      "image/png": "[encoded data removed]"
     },
     "metadata": {},
     "output_type": "display_data"
    }
   ],
   "source": [
    "plot_savings = df[df[\"estimated_annual_kwh_savings\"] != 0]\n",
    "sns.histplot(plot_savings)"
   ],
   "metadata": {
    "collapsed": false
   }
  },
  {
   "cell_type": "markdown",
   "source": [
    "## Column 22: Estimated Annual MMBtu Savings"
   ],
   "metadata": {
    "collapsed": false
   }
  },
  {
   "cell_type": "code",
   "execution_count": 55,
   "outputs": [
    {
     "data": {
      "text/plain": "(0, 29)"
     },
     "execution_count": 55,
     "metadata": {},
     "output_type": "execute_result"
    }
   ],
   "source": [
    "df[df[\"estimated_annual_mmbtu_savings\"].isna()].shape"
   ],
   "metadata": {
    "collapsed": false
   }
  },
  {
   "cell_type": "code",
   "execution_count": 56,
   "outputs": [
    {
     "data": {
      "text/plain": "(2480, 29)"
     },
     "execution_count": 56,
     "metadata": {},
     "output_type": "execute_result"
    }
   ],
   "source": [
    "df[df[\"estimated_annual_mmbtu_savings\"] == 0].shape"
   ],
   "metadata": {
    "collapsed": false
   }
  },
  {
   "cell_type": "code",
   "execution_count": 57,
   "outputs": [
    {
     "data": {
      "text/plain": "count    38956.000000\nmean        26.128145\nstd         25.774559\nmin       -214.000000\n25%         10.000000\n50%         19.000000\n75%         35.000000\nmax        319.000000\nName: estimated_annual_mmbtu_savings, dtype: float64"
     },
     "execution_count": 57,
     "metadata": {},
     "output_type": "execute_result"
    }
   ],
   "source": [
    "df[\"estimated_annual_mmbtu_savings\"].describe()"
   ],
   "metadata": {
    "collapsed": false
   }
  },
  {
   "cell_type": "code",
   "execution_count": 58,
   "outputs": [
    {
     "data": {
      "text/plain": "<AxesSubplot:xlabel='estimated_annual_mmbtu_savings', ylabel='Count'>"
     },
     "execution_count": 58,
     "metadata": {},
     "output_type": "execute_result"
    },
    {
     "data": {
      "text/plain": "<Figure size 640x480 with 1 Axes>",
      "image/png": "[encoded data removed]"
     },
     "metadata": {},
     "output_type": "display_data"
    }
   ],
   "source": [
    "sns.histplot(df[\"estimated_annual_mmbtu_savings\"])"
   ],
   "metadata": {
    "collapsed": false
   }
  },
  {
   "cell_type": "markdown",
   "source": [
    "## Column 23: First Year Energy Savings $ Estimate"
   ],
   "metadata": {
    "collapsed": false
   }
  },
  {
   "cell_type": "code",
   "execution_count": 59,
   "outputs": [
    {
     "data": {
      "text/plain": "(0, 29)"
     },
     "execution_count": 59,
     "metadata": {},
     "output_type": "execute_result"
    }
   ],
   "source": [
    "df[df[\"first_year_energy_savings_$_estimate\"].isna()].shape"
   ],
   "metadata": {
    "collapsed": false
   }
  },
  {
   "cell_type": "code",
   "execution_count": 60,
   "outputs": [
    {
     "data": {
      "text/plain": "(14, 29)"
     },
     "execution_count": 60,
     "metadata": {},
     "output_type": "execute_result"
    }
   ],
   "source": [
    "df[df[\"first_year_energy_savings_$_estimate\"] == 0].shape"
   ],
   "metadata": {
    "collapsed": false
   }
  },
  {
   "cell_type": "code",
   "execution_count": 61,
   "outputs": [
    {
     "data": {
      "text/plain": "count    38956.000000\nmean       498.816947\nstd        588.049248\nmin          0.000000\n25%        136.000000\n50%        289.000000\n75%        630.000000\nmax       5981.000000\nName: first_year_energy_savings_$_estimate, dtype: float64"
     },
     "execution_count": 61,
     "metadata": {},
     "output_type": "execute_result"
    }
   ],
   "source": [
    "df[\"first_year_energy_savings_$_estimate\"].describe()"
   ],
   "metadata": {
    "collapsed": false
   }
  },
  {
   "cell_type": "code",
   "execution_count": 62,
   "outputs": [
    {
     "data": {
      "text/plain": "<AxesSubplot:xlabel='first_year_energy_savings_$_estimate', ylabel='Count'>"
     },
     "execution_count": 62,
     "metadata": {},
     "output_type": "execute_result"
    },
    {
     "data": {
      "text/plain": "<Figure size 640x480 with 1 Axes>",
      "image/png": "[encoded data removed]"
     },
     "metadata": {},
     "output_type": "display_data"
    }
   ],
   "source": [
    "sns.histplot(df[\"first_year_energy_savings_$_estimate\"])"
   ],
   "metadata": {
    "collapsed": false
   }
  },
  {
   "cell_type": "code",
   "execution_count": 63,
   "outputs": [
    {
     "data": {
      "text/plain": "      home_performance_project_id home_performance_site_id project_county  \\\n0                          483911                   357221         Oneida   \n1                          486389                   343438          Wayne   \n2                          483374                   356880           Erie   \n3                          475733                   350454         Oneida   \n4                          483731                   356491     Livingston   \n...                           ...                      ...            ...   \n55825                P00000721450             S00000124921           Erie   \n55826                P00000727276             S00000130155    Schenectady   \n55827                P00000726343             S00000129326       Tompkins   \n55828                P00000727199             S00000130090         Monroe   \n55829                P00000725072             S00000128120         Monroe   \n\n      project_city  project_zip            gas_utility_provider  \\\n0        Barneveld        13304                             NaN   \n1          Palmyra        14522                             NaN   \n2          Buffalo        14215  National Fuel Gas Distribution   \n3             Rome        13440                             NaN   \n4             Lima        14485                             NaN   \n...            ...          ...                             ...   \n55825        Depew        14043  National Fuel Gas Distribution   \n55826  Schenectady        12303                   National Grid   \n55827    Freeville        13068   New York State Electric & Gas   \n55828    Rochester        14617        Rochester Gas & Electric   \n55829    Rochester        14624        Rochester Gas & Electric   \n\n           electric_utility_provider project_completion_date customer_type  \\\n0                      National Grid              2021-01-16      Assisted   \n1      New York State Electric & Gas              2021-01-06      Assisted   \n2                      National Grid              2020-12-15      Assisted   \n3                      National Grid              2020-12-09      Assisted   \n4                      National Grid              2020-12-08      Assisted   \n...                              ...                     ...           ...   \n55825  New York State Electric & Gas              2010-11-15        Market   \n55826                  National Grid              2011-01-28      Assisted   \n55827  New York State Electric & Gas              2011-01-13        Market   \n55828       Rochester Gas & Electric              2010-12-26        Market   \n55829       Rochester Gas & Electric              2011-02-01        Market   \n\n               job_type  ...    measure_type  estimated_annual_kwh_savings  \\\n0      Home Performance  ...  Building Shell                             0   \n1      Home Performance  ...  Building Shell                           309   \n2      Home Performance  ...  Building Shell                             0   \n3      Home Performance  ...  Building Shell                             0   \n4      Home Performance  ...  Building Shell                             0   \n...                 ...  ...             ...                           ...   \n55825  Home Performance  ...  Building Shell                             0   \n55826  Home Performance  ...  Building Shell                             0   \n55827  Home Performance  ...  Building Shell                             0   \n55828  Home Performance  ...  Building Shell                           601   \n55829  Home Performance  ...  Building Shell                             0   \n\n      estimated_annual_mmbtu_savings  first_year_energy_savings_$_estimate  \\\n0                                 27                                   474   \n1                                  3                                   111   \n2                                  8                                    61   \n3                                 28                                   681   \n4                                  6                                   146   \n...                              ...                                   ...   \n55825                             24                                   340   \n55826                             33                                   823   \n55827                             16                                   887   \n55828                             11                                   258   \n55829                              1                                     9   \n\n      homeowner_received_free/reduced_cost_audit?  \\\n0                                               Y   \n1                                               Y   \n2                                               Y   \n3                                               Y   \n4                                               Y   \n...                                           ...   \n55825                                           N   \n55826                                           N   \n55827                                           N   \n55828                                           N   \n55829                                           N   \n\n                                                location  new_york_zip_codes  \\\n0      {'type': 'Point', 'coordinates': [-75.16936, 4...               764.0   \n1      {'type': 'Point', 'coordinates': [-77.218837, ...               364.0   \n2      {'type': 'Point', 'coordinates': [-78.808435, ...                71.0   \n3      {'type': 'Point', 'coordinates': [-75.454665, ...              1366.0   \n4      {'type': 'Point', 'coordinates': [-77.603561, ...               312.0   \n...                                                  ...                 ...   \n55825  {'type': 'Point', 'coordinates': [-78.702553, ...               506.0   \n55826  {'type': 'Point', 'coordinates': [-73.932117, ...                72.0   \n55827  {'type': 'Point', 'coordinates': [-76.359264, ...               622.0   \n55828  {'type': 'Point', 'coordinates': [-77.597999, ...              1676.0   \n55829  {'type': 'Point', 'coordinates': [-77.729647, ...              1683.0   \n\n       counties_2  nys_municipal_boundaries_2  year  \n0           625.0                         985  2021  \n1           631.0                         631  2021  \n2          2041.0                         300  2020  \n3           625.0                         989  2020  \n4          2091.0                         742  2020  \n...           ...                         ...   ...  \n55825      2041.0                         298  2010  \n55826      2030.0                         832  2011  \n55827      2181.0                         712  2011  \n55828      2093.0                         545  2010  \n55829      2093.0                         549  2011  \n\n[38956 rows x 29 columns]",
      "text/html": "<div>\n<style scoped>\n    .dataframe tbody tr th:only-of-type {\n        vertical-align: middle;\n    }\n\n    .dataframe tbody tr th {\n        vertical-align: top;\n    }\n\n    .dataframe thead th {\n        text-align: right;\n    }\n</style>\n<table border=\"1\" class=\"dataframe\">\n  <thead>\n    <tr style=\"text-align: right;\">\n      <th></th>\n      <th>home_performance_project_id</th>\n      <th>home_performance_site_id</th>\n      <th>project_county</th>\n      <th>project_city</th>\n      <th>project_zip</th>\n      <th>gas_utility_provider</th>\n      <th>electric_utility_provider</th>\n      <th>project_completion_date</th>\n      <th>customer_type</th>\n      <th>job_type</th>\n      <th>...</th>\n      <th>measure_type</th>\n      <th>estimated_annual_kwh_savings</th>\n      <th>estimated_annual_mmbtu_savings</th>\n      <th>first_year_energy_savings_$_estimate</th>\n      <th>homeowner_received_free/reduced_cost_audit?</th>\n      <th>location</th>\n      <th>new_york_zip_codes</th>\n      <th>counties_2</th>\n      <th>nys_municipal_boundaries_2</th>\n      <th>year</th>\n    </tr>\n  </thead>\n  <tbody>\n    <tr>\n      <th>0</th>\n      <td>483911</td>\n      <td>357221</td>\n      <td>Oneida</td>\n      <td>Barneveld</td>\n      <td>13304</td>\n      <td>NaN</td>\n      <td>National Grid</td>\n      <td>2021-01-16</td>\n      <td>Assisted</td>\n      <td>Home Performance</td>\n      <td>...</td>\n      <td>Building Shell</td>\n      <td>0</td>\n      <td>27</td>\n      <td>474</td>\n      <td>Y</td>\n      <td>{'type': 'Point', 'coordinates': [-75.16936, 4...</td>\n      <td>764.0</td>\n      <td>625.0</td>\n      <td>985</td>\n      <td>2021</td>\n    </tr>\n    <tr>\n      <th>1</th>\n      <td>486389</td>\n      <td>343438</td>\n      <td>Wayne</td>\n      <td>Palmyra</td>\n      <td>14522</td>\n      <td>NaN</td>\n      <td>New York State Electric &amp; Gas</td>\n      <td>2021-01-06</td>\n      <td>Assisted</td>\n      <td>Home Performance</td>\n      <td>...</td>\n      <td>Building Shell</td>\n      <td>309</td>\n      <td>3</td>\n      <td>111</td>\n      <td>Y</td>\n      <td>{'type': 'Point', 'coordinates': [-77.218837, ...</td>\n      <td>364.0</td>\n      <td>631.0</td>\n      <td>631</td>\n      <td>2021</td>\n    </tr>\n    <tr>\n      <th>2</th>\n      <td>483374</td>\n      <td>356880</td>\n      <td>Erie</td>\n      <td>Buffalo</td>\n      <td>14215</td>\n      <td>National Fuel Gas Distribution</td>\n      <td>National Grid</td>\n      <td>2020-12-15</td>\n      <td>Assisted</td>\n      <td>Home Performance</td>\n      <td>...</td>\n      <td>Building Shell</td>\n      <td>0</td>\n      <td>8</td>\n      <td>61</td>\n      <td>Y</td>\n      <td>{'type': 'Point', 'coordinates': [-78.808435, ...</td>\n      <td>71.0</td>\n      <td>2041.0</td>\n      <td>300</td>\n      <td>2020</td>\n    </tr>\n    <tr>\n      <th>3</th>\n      <td>475733</td>\n      <td>350454</td>\n      <td>Oneida</td>\n      <td>Rome</td>\n      <td>13440</td>\n      <td>NaN</td>\n      <td>National Grid</td>\n      <td>2020-12-09</td>\n      <td>Assisted</td>\n      <td>Home Performance</td>\n      <td>...</td>\n      <td>Building Shell</td>\n      <td>0</td>\n      <td>28</td>\n      <td>681</td>\n      <td>Y</td>\n      <td>{'type': 'Point', 'coordinates': [-75.454665, ...</td>\n      <td>1366.0</td>\n      <td>625.0</td>\n      <td>989</td>\n      <td>2020</td>\n    </tr>\n    <tr>\n      <th>4</th>\n      <td>483731</td>\n      <td>356491</td>\n      <td>Livingston</td>\n      <td>Lima</td>\n      <td>14485</td>\n      <td>NaN</td>\n      <td>National Grid</td>\n      <td>2020-12-08</td>\n      <td>Assisted</td>\n      <td>Home Performance</td>\n      <td>...</td>\n      <td>Building Shell</td>\n      <td>0</td>\n      <td>6</td>\n      <td>146</td>\n      <td>Y</td>\n      <td>{'type': 'Point', 'coordinates': [-77.603561, ...</td>\n      <td>312.0</td>\n      <td>2091.0</td>\n      <td>742</td>\n      <td>2020</td>\n    </tr>\n    <tr>\n      <th>...</th>\n      <td>...</td>\n      <td>...</td>\n      <td>...</td>\n      <td>...</td>\n      <td>...</td>\n      <td>...</td>\n      <td>...</td>\n      <td>...</td>\n      <td>...</td>\n      <td>...</td>\n      <td>...</td>\n      <td>...</td>\n      <td>...</td>\n      <td>...</td>\n      <td>...</td>\n      <td>...</td>\n      <td>...</td>\n      <td>...</td>\n      <td>...</td>\n      <td>...</td>\n      <td>...</td>\n    </tr>\n    <tr>\n      <th>55825</th>\n      <td>P00000721450</td>\n      <td>S00000124921</td>\n      <td>Erie</td>\n      <td>Depew</td>\n      <td>14043</td>\n      <td>National Fuel Gas Distribution</td>\n      <td>New York State Electric &amp; Gas</td>\n      <td>2010-11-15</td>\n      <td>Market</td>\n      <td>Home Performance</td>\n      <td>...</td>\n      <td>Building Shell</td>\n      <td>0</td>\n      <td>24</td>\n      <td>340</td>\n      <td>N</td>\n      <td>{'type': 'Point', 'coordinates': [-78.702553, ...</td>\n      <td>506.0</td>\n      <td>2041.0</td>\n      <td>298</td>\n      <td>2010</td>\n    </tr>\n    <tr>\n      <th>55826</th>\n      <td>P00000727276</td>\n      <td>S00000130155</td>\n      <td>Schenectady</td>\n      <td>Schenectady</td>\n      <td>12303</td>\n      <td>National Grid</td>\n      <td>National Grid</td>\n      <td>2011-01-28</td>\n      <td>Assisted</td>\n      <td>Home Performance</td>\n      <td>...</td>\n      <td>Building Shell</td>\n      <td>0</td>\n      <td>33</td>\n      <td>823</td>\n      <td>N</td>\n      <td>{'type': 'Point', 'coordinates': [-73.932117, ...</td>\n      <td>72.0</td>\n      <td>2030.0</td>\n      <td>832</td>\n      <td>2011</td>\n    </tr>\n    <tr>\n      <th>55827</th>\n      <td>P00000726343</td>\n      <td>S00000129326</td>\n      <td>Tompkins</td>\n      <td>Freeville</td>\n      <td>13068</td>\n      <td>New York State Electric &amp; Gas</td>\n      <td>New York State Electric &amp; Gas</td>\n      <td>2011-01-13</td>\n      <td>Market</td>\n      <td>Home Performance</td>\n      <td>...</td>\n      <td>Building Shell</td>\n      <td>0</td>\n      <td>16</td>\n      <td>887</td>\n      <td>N</td>\n      <td>{'type': 'Point', 'coordinates': [-76.359264, ...</td>\n      <td>622.0</td>\n      <td>2181.0</td>\n      <td>712</td>\n      <td>2011</td>\n    </tr>\n    <tr>\n      <th>55828</th>\n      <td>P00000727199</td>\n      <td>S00000130090</td>\n      <td>Monroe</td>\n      <td>Rochester</td>\n      <td>14617</td>\n      <td>Rochester Gas &amp; Electric</td>\n      <td>Rochester Gas &amp; Electric</td>\n      <td>2010-12-26</td>\n      <td>Market</td>\n      <td>Home Performance</td>\n      <td>...</td>\n      <td>Building Shell</td>\n      <td>601</td>\n      <td>11</td>\n      <td>258</td>\n      <td>N</td>\n      <td>{'type': 'Point', 'coordinates': [-77.597999, ...</td>\n      <td>1676.0</td>\n      <td>2093.0</td>\n      <td>545</td>\n      <td>2010</td>\n    </tr>\n    <tr>\n      <th>55829</th>\n      <td>P00000725072</td>\n      <td>S00000128120</td>\n      <td>Monroe</td>\n      <td>Rochester</td>\n      <td>14624</td>\n      <td>Rochester Gas &amp; Electric</td>\n      <td>Rochester Gas &amp; Electric</td>\n      <td>2011-02-01</td>\n      <td>Market</td>\n      <td>Home Performance</td>\n      <td>...</td>\n      <td>Building Shell</td>\n      <td>0</td>\n      <td>1</td>\n      <td>9</td>\n      <td>N</td>\n      <td>{'type': 'Point', 'coordinates': [-77.729647, ...</td>\n      <td>1683.0</td>\n      <td>2093.0</td>\n      <td>549</td>\n      <td>2011</td>\n    </tr>\n  </tbody>\n</table>\n<p>38956 rows × 29 columns</p>\n</div>"
     },
     "execution_count": 63,
     "metadata": {},
     "output_type": "execute_result"
    }
   ],
   "source": [
    "df"
   ],
   "metadata": {
    "collapsed": false
   }
  },
  {
   "cell_type": "markdown",
   "source": [
    "## Column 24: Homeowner Received Green Jobs-Green NY Free/Reduced Cost Audit (Y/N)"
   ],
   "metadata": {
    "collapsed": false
   }
  },
  {
   "cell_type": "code",
   "execution_count": 64,
   "outputs": [
    {
     "data": {
      "text/plain": "(0, 29)"
     },
     "execution_count": 64,
     "metadata": {},
     "output_type": "execute_result"
    }
   ],
   "source": [
    "df[df[\"homeowner_received_free/reduced_cost_audit?\"].isna()].shape"
   ],
   "metadata": {
    "collapsed": false
   }
  },
  {
   "cell_type": "code",
   "execution_count": 65,
   "outputs": [
    {
     "data": {
      "text/plain": "(0, 29)"
     },
     "execution_count": 65,
     "metadata": {},
     "output_type": "execute_result"
    }
   ],
   "source": [
    "df[df[\"homeowner_received_free/reduced_cost_audit?\"] == 0].shape"
   ],
   "metadata": {
    "collapsed": false
   }
  },
  {
   "cell_type": "code",
   "execution_count": 66,
   "outputs": [
    {
     "data": {
      "text/plain": "Y    33231\nN     5725\nName: homeowner_received_free/reduced_cost_audit?, dtype: int64"
     },
     "execution_count": 66,
     "metadata": {},
     "output_type": "execute_result"
    }
   ],
   "source": [
    "df[\"homeowner_received_free/reduced_cost_audit?\"].value_counts()"
   ],
   "metadata": {
    "collapsed": false
   }
  },
  {
   "cell_type": "code",
   "execution_count": 67,
   "outputs": [],
   "source": [
    "clm24_translator = {\"Y\": True, \"N\": False}"
   ],
   "metadata": {
    "collapsed": false
   }
  },
  {
   "cell_type": "code",
   "execution_count": 68,
   "outputs": [
    {
     "data": {
      "text/plain": "      home_performance_project_id home_performance_site_id project_county  \\\n0                          483911                   357221         Oneida   \n1                          486389                   343438          Wayne   \n2                          483374                   356880           Erie   \n3                          475733                   350454         Oneida   \n4                          483731                   356491     Livingston   \n...                           ...                      ...            ...   \n55825                P00000721450             S00000124921           Erie   \n55826                P00000727276             S00000130155    Schenectady   \n55827                P00000726343             S00000129326       Tompkins   \n55828                P00000727199             S00000130090         Monroe   \n55829                P00000725072             S00000128120         Monroe   \n\n      project_city  project_zip            gas_utility_provider  \\\n0        Barneveld        13304                             NaN   \n1          Palmyra        14522                             NaN   \n2          Buffalo        14215  National Fuel Gas Distribution   \n3             Rome        13440                             NaN   \n4             Lima        14485                             NaN   \n...            ...          ...                             ...   \n55825        Depew        14043  National Fuel Gas Distribution   \n55826  Schenectady        12303                   National Grid   \n55827    Freeville        13068   New York State Electric & Gas   \n55828    Rochester        14617        Rochester Gas & Electric   \n55829    Rochester        14624        Rochester Gas & Electric   \n\n           electric_utility_provider project_completion_date customer_type  \\\n0                      National Grid              2021-01-16      Assisted   \n1      New York State Electric & Gas              2021-01-06      Assisted   \n2                      National Grid              2020-12-15      Assisted   \n3                      National Grid              2020-12-09      Assisted   \n4                      National Grid              2020-12-08      Assisted   \n...                              ...                     ...           ...   \n55825  New York State Electric & Gas              2010-11-15        Market   \n55826                  National Grid              2011-01-28      Assisted   \n55827  New York State Electric & Gas              2011-01-13        Market   \n55828       Rochester Gas & Electric              2010-12-26        Market   \n55829       Rochester Gas & Electric              2011-02-01        Market   \n\n               job_type  ...    measure_type  estimated_annual_kwh_savings  \\\n0      Home Performance  ...  Building Shell                             0   \n1      Home Performance  ...  Building Shell                           309   \n2      Home Performance  ...  Building Shell                             0   \n3      Home Performance  ...  Building Shell                             0   \n4      Home Performance  ...  Building Shell                             0   \n...                 ...  ...             ...                           ...   \n55825  Home Performance  ...  Building Shell                             0   \n55826  Home Performance  ...  Building Shell                             0   \n55827  Home Performance  ...  Building Shell                             0   \n55828  Home Performance  ...  Building Shell                           601   \n55829  Home Performance  ...  Building Shell                             0   \n\n      estimated_annual_mmbtu_savings  first_year_energy_savings_$_estimate  \\\n0                                 27                                   474   \n1                                  3                                   111   \n2                                  8                                    61   \n3                                 28                                   681   \n4                                  6                                   146   \n...                              ...                                   ...   \n55825                             24                                   340   \n55826                             33                                   823   \n55827                             16                                   887   \n55828                             11                                   258   \n55829                              1                                     9   \n\n      homeowner_received_free/reduced_cost_audit?  \\\n0                                            True   \n1                                            True   \n2                                            True   \n3                                            True   \n4                                            True   \n...                                           ...   \n55825                                       False   \n55826                                       False   \n55827                                       False   \n55828                                       False   \n55829                                       False   \n\n                                                location  new_york_zip_codes  \\\n0      {'type': 'Point', 'coordinates': [-75.16936, 4...               764.0   \n1      {'type': 'Point', 'coordinates': [-77.218837, ...               364.0   \n2      {'type': 'Point', 'coordinates': [-78.808435, ...                71.0   \n3      {'type': 'Point', 'coordinates': [-75.454665, ...              1366.0   \n4      {'type': 'Point', 'coordinates': [-77.603561, ...               312.0   \n...                                                  ...                 ...   \n55825  {'type': 'Point', 'coordinates': [-78.702553, ...               506.0   \n55826  {'type': 'Point', 'coordinates': [-73.932117, ...                72.0   \n55827  {'type': 'Point', 'coordinates': [-76.359264, ...               622.0   \n55828  {'type': 'Point', 'coordinates': [-77.597999, ...              1676.0   \n55829  {'type': 'Point', 'coordinates': [-77.729647, ...              1683.0   \n\n       counties_2  nys_municipal_boundaries_2  year  \n0           625.0                         985  2021  \n1           631.0                         631  2021  \n2          2041.0                         300  2020  \n3           625.0                         989  2020  \n4          2091.0                         742  2020  \n...           ...                         ...   ...  \n55825      2041.0                         298  2010  \n55826      2030.0                         832  2011  \n55827      2181.0                         712  2011  \n55828      2093.0                         545  2010  \n55829      2093.0                         549  2011  \n\n[38956 rows x 29 columns]",
      "text/html": "<div>\n<style scoped>\n    .dataframe tbody tr th:only-of-type {\n        vertical-align: middle;\n    }\n\n    .dataframe tbody tr th {\n        vertical-align: top;\n    }\n\n    .dataframe thead th {\n        text-align: right;\n    }\n</style>\n<table border=\"1\" class=\"dataframe\">\n  <thead>\n    <tr style=\"text-align: right;\">\n      <th></th>\n      <th>home_performance_project_id</th>\n      <th>home_performance_site_id</th>\n      <th>project_county</th>\n      <th>project_city</th>\n      <th>project_zip</th>\n      <th>gas_utility_provider</th>\n      <th>electric_utility_provider</th>\n      <th>project_completion_date</th>\n      <th>customer_type</th>\n      <th>job_type</th>\n      <th>...</th>\n      <th>measure_type</th>\n      <th>estimated_annual_kwh_savings</th>\n      <th>estimated_annual_mmbtu_savings</th>\n      <th>first_year_energy_savings_$_estimate</th>\n      <th>homeowner_received_free/reduced_cost_audit?</th>\n      <th>location</th>\n      <th>new_york_zip_codes</th>\n      <th>counties_2</th>\n      <th>nys_municipal_boundaries_2</th>\n      <th>year</th>\n    </tr>\n  </thead>\n  <tbody>\n    <tr>\n      <th>0</th>\n      <td>483911</td>\n      <td>357221</td>\n      <td>Oneida</td>\n      <td>Barneveld</td>\n      <td>13304</td>\n      <td>NaN</td>\n      <td>National Grid</td>\n      <td>2021-01-16</td>\n      <td>Assisted</td>\n      <td>Home Performance</td>\n      <td>...</td>\n      <td>Building Shell</td>\n      <td>0</td>\n      <td>27</td>\n      <td>474</td>\n      <td>True</td>\n      <td>{'type': 'Point', 'coordinates': [-75.16936, 4...</td>\n      <td>764.0</td>\n      <td>625.0</td>\n      <td>985</td>\n      <td>2021</td>\n    </tr>\n    <tr>\n      <th>1</th>\n      <td>486389</td>\n      <td>343438</td>\n      <td>Wayne</td>\n      <td>Palmyra</td>\n      <td>14522</td>\n      <td>NaN</td>\n      <td>New York State Electric &amp; Gas</td>\n      <td>2021-01-06</td>\n      <td>Assisted</td>\n      <td>Home Performance</td>\n      <td>...</td>\n      <td>Building Shell</td>\n      <td>309</td>\n      <td>3</td>\n      <td>111</td>\n      <td>True</td>\n      <td>{'type': 'Point', 'coordinates': [-77.218837, ...</td>\n      <td>364.0</td>\n      <td>631.0</td>\n      <td>631</td>\n      <td>2021</td>\n    </tr>\n    <tr>\n      <th>2</th>\n      <td>483374</td>\n      <td>356880</td>\n      <td>Erie</td>\n      <td>Buffalo</td>\n      <td>14215</td>\n      <td>National Fuel Gas Distribution</td>\n      <td>National Grid</td>\n      <td>2020-12-15</td>\n      <td>Assisted</td>\n      <td>Home Performance</td>\n      <td>...</td>\n      <td>Building Shell</td>\n      <td>0</td>\n      <td>8</td>\n      <td>61</td>\n      <td>True</td>\n      <td>{'type': 'Point', 'coordinates': [-78.808435, ...</td>\n      <td>71.0</td>\n      <td>2041.0</td>\n      <td>300</td>\n      <td>2020</td>\n    </tr>\n    <tr>\n      <th>3</th>\n      <td>475733</td>\n      <td>350454</td>\n      <td>Oneida</td>\n      <td>Rome</td>\n      <td>13440</td>\n      <td>NaN</td>\n      <td>National Grid</td>\n      <td>2020-12-09</td>\n      <td>Assisted</td>\n      <td>Home Performance</td>\n      <td>...</td>\n      <td>Building Shell</td>\n      <td>0</td>\n      <td>28</td>\n      <td>681</td>\n      <td>True</td>\n      <td>{'type': 'Point', 'coordinates': [-75.454665, ...</td>\n      <td>1366.0</td>\n      <td>625.0</td>\n      <td>989</td>\n      <td>2020</td>\n    </tr>\n    <tr>\n      <th>4</th>\n      <td>483731</td>\n      <td>356491</td>\n      <td>Livingston</td>\n      <td>Lima</td>\n      <td>14485</td>\n      <td>NaN</td>\n      <td>National Grid</td>\n      <td>2020-12-08</td>\n      <td>Assisted</td>\n      <td>Home Performance</td>\n      <td>...</td>\n      <td>Building Shell</td>\n      <td>0</td>\n      <td>6</td>\n      <td>146</td>\n      <td>True</td>\n      <td>{'type': 'Point', 'coordinates': [-77.603561, ...</td>\n      <td>312.0</td>\n      <td>2091.0</td>\n      <td>742</td>\n      <td>2020</td>\n    </tr>\n    <tr>\n      <th>...</th>\n      <td>...</td>\n      <td>...</td>\n      <td>...</td>\n      <td>...</td>\n      <td>...</td>\n      <td>...</td>\n      <td>...</td>\n      <td>...</td>\n      <td>...</td>\n      <td>...</td>\n      <td>...</td>\n      <td>...</td>\n      <td>...</td>\n      <td>...</td>\n      <td>...</td>\n      <td>...</td>\n      <td>...</td>\n      <td>...</td>\n      <td>...</td>\n      <td>...</td>\n      <td>...</td>\n    </tr>\n    <tr>\n      <th>55825</th>\n      <td>P00000721450</td>\n      <td>S00000124921</td>\n      <td>Erie</td>\n      <td>Depew</td>\n      <td>14043</td>\n      <td>National Fuel Gas Distribution</td>\n      <td>New York State Electric &amp; Gas</td>\n      <td>2010-11-15</td>\n      <td>Market</td>\n      <td>Home Performance</td>\n      <td>...</td>\n      <td>Building Shell</td>\n      <td>0</td>\n      <td>24</td>\n      <td>340</td>\n      <td>False</td>\n      <td>{'type': 'Point', 'coordinates': [-78.702553, ...</td>\n      <td>506.0</td>\n      <td>2041.0</td>\n      <td>298</td>\n      <td>2010</td>\n    </tr>\n    <tr>\n      <th>55826</th>\n      <td>P00000727276</td>\n      <td>S00000130155</td>\n      <td>Schenectady</td>\n      <td>Schenectady</td>\n      <td>12303</td>\n      <td>National Grid</td>\n      <td>National Grid</td>\n      <td>2011-01-28</td>\n      <td>Assisted</td>\n      <td>Home Performance</td>\n      <td>...</td>\n      <td>Building Shell</td>\n      <td>0</td>\n      <td>33</td>\n      <td>823</td>\n      <td>False</td>\n      <td>{'type': 'Point', 'coordinates': [-73.932117, ...</td>\n      <td>72.0</td>\n      <td>2030.0</td>\n      <td>832</td>\n      <td>2011</td>\n    </tr>\n    <tr>\n      <th>55827</th>\n      <td>P00000726343</td>\n      <td>S00000129326</td>\n      <td>Tompkins</td>\n      <td>Freeville</td>\n      <td>13068</td>\n      <td>New York State Electric &amp; Gas</td>\n      <td>New York State Electric &amp; Gas</td>\n      <td>2011-01-13</td>\n      <td>Market</td>\n      <td>Home Performance</td>\n      <td>...</td>\n      <td>Building Shell</td>\n      <td>0</td>\n      <td>16</td>\n      <td>887</td>\n      <td>False</td>\n      <td>{'type': 'Point', 'coordinates': [-76.359264, ...</td>\n      <td>622.0</td>\n      <td>2181.0</td>\n      <td>712</td>\n      <td>2011</td>\n    </tr>\n    <tr>\n      <th>55828</th>\n      <td>P00000727199</td>\n      <td>S00000130090</td>\n      <td>Monroe</td>\n      <td>Rochester</td>\n      <td>14617</td>\n      <td>Rochester Gas &amp; Electric</td>\n      <td>Rochester Gas &amp; Electric</td>\n      <td>2010-12-26</td>\n      <td>Market</td>\n      <td>Home Performance</td>\n      <td>...</td>\n      <td>Building Shell</td>\n      <td>601</td>\n      <td>11</td>\n      <td>258</td>\n      <td>False</td>\n      <td>{'type': 'Point', 'coordinates': [-77.597999, ...</td>\n      <td>1676.0</td>\n      <td>2093.0</td>\n      <td>545</td>\n      <td>2010</td>\n    </tr>\n    <tr>\n      <th>55829</th>\n      <td>P00000725072</td>\n      <td>S00000128120</td>\n      <td>Monroe</td>\n      <td>Rochester</td>\n      <td>14624</td>\n      <td>Rochester Gas &amp; Electric</td>\n      <td>Rochester Gas &amp; Electric</td>\n      <td>2011-02-01</td>\n      <td>Market</td>\n      <td>Home Performance</td>\n      <td>...</td>\n      <td>Building Shell</td>\n      <td>0</td>\n      <td>1</td>\n      <td>9</td>\n      <td>False</td>\n      <td>{'type': 'Point', 'coordinates': [-77.729647, ...</td>\n      <td>1683.0</td>\n      <td>2093.0</td>\n      <td>549</td>\n      <td>2011</td>\n    </tr>\n  </tbody>\n</table>\n<p>38956 rows × 29 columns</p>\n</div>"
     },
     "execution_count": 68,
     "metadata": {},
     "output_type": "execute_result"
    }
   ],
   "source": [
    "unify_column_entries(df, clm24_translator, \"homeowner_received_free/reduced_cost_audit?\")"
   ],
   "metadata": {
    "collapsed": false
   }
  },
  {
   "cell_type": "markdown",
   "source": [
    "## Column 25: New Georeferenced Column"
   ],
   "metadata": {
    "collapsed": false
   }
  },
  {
   "cell_type": "markdown",
   "source": [
    "**google says \"latitude and longitude\" --> change order**"
   ],
   "metadata": {
    "collapsed": false
   }
  },
  {
   "cell_type": "code",
   "execution_count": 71,
   "outputs": [],
   "source": [
    "import ast\n",
    "\n",
    "df[\"latitude\"] = df[\"location\"].apply(lambda x: ast.literal_eval(x)[\"coordinates\"][0])\n",
    "df[\"longitude\"] = df[\"location\"].apply(lambda x: ast.literal_eval(x)[\"coordinates\"][1])\n",
    "df.drop([\"location\"], axis=1, inplace=True)"
   ],
   "metadata": {
    "collapsed": false
   }
  },
  {
   "cell_type": "markdown",
   "source": [
    "## Columns 26 - 28: Remove columns"
   ],
   "metadata": {
    "collapsed": false
   }
  },
  {
   "cell_type": "code",
   "execution_count": 72,
   "outputs": [],
   "source": [
    "df.drop([\"new_york_zip_codes\", \"counties_2\", \"nys_municipal_boundaries_2\"], axis=1, inplace=True)"
   ],
   "metadata": {
    "collapsed": false
   }
  },
  {
   "cell_type": "markdown",
   "source": [
    "## Final dataframe"
   ],
   "metadata": {
    "collapsed": false
   }
  },
  {
   "cell_type": "code",
   "execution_count": 73,
   "outputs": [
    {
     "data": {
      "text/plain": "      home_performance_project_id home_performance_site_id project_county  \\\n0                          483911                   357221         Oneida   \n1                          486389                   343438          Wayne   \n2                          483374                   356880           Erie   \n3                          475733                   350454         Oneida   \n4                          483731                   356491     Livingston   \n...                           ...                      ...            ...   \n55825                P00000721450             S00000124921           Erie   \n55826                P00000727276             S00000130155    Schenectady   \n55827                P00000726343             S00000129326       Tompkins   \n55828                P00000727199             S00000130090         Monroe   \n55829                P00000725072             S00000128120         Monroe   \n\n      project_city  project_zip            gas_utility_provider  \\\n0        Barneveld        13304                             NaN   \n1          Palmyra        14522                             NaN   \n2          Buffalo        14215  National Fuel Gas Distribution   \n3             Rome        13440                             NaN   \n4             Lima        14485                             NaN   \n...            ...          ...                             ...   \n55825        Depew        14043  National Fuel Gas Distribution   \n55826  Schenectady        12303                   National Grid   \n55827    Freeville        13068   New York State Electric & Gas   \n55828    Rochester        14617        Rochester Gas & Electric   \n55829    Rochester        14624        Rochester Gas & Electric   \n\n           electric_utility_provider project_completion_date customer_type  \\\n0                      National Grid              2021-01-16      Assisted   \n1      New York State Electric & Gas              2021-01-06      Assisted   \n2                      National Grid              2020-12-15      Assisted   \n3                      National Grid              2020-12-09      Assisted   \n4                      National Grid              2020-12-08      Assisted   \n...                              ...                     ...           ...   \n55825  New York State Electric & Gas              2010-11-15        Market   \n55826                  National Grid              2011-01-28      Assisted   \n55827  New York State Electric & Gas              2011-01-13        Market   \n55828       Rochester Gas & Electric              2010-12-26        Market   \n55829       Rochester Gas & Electric              2011-02-01        Market   \n\n               job_type  ...  volume_of_home  number_of_units    measure_type  \\\n0      Home Performance  ...       543.29088              1.0  Building Shell   \n1      Home Performance  ...       241.20144              1.0  Building Shell   \n2      Home Performance  ...       581.01312              1.0  Building Shell   \n3      Home Performance  ...       222.02880              1.0  Building Shell   \n4      Home Performance  ...       212.96640              1.0  Building Shell   \n...                 ...  ...             ...              ...             ...   \n55825  Home Performance  ...       405.08928              1.0  Building Shell   \n55826  Home Performance  ...       671.29728              1.0  Building Shell   \n55827  Home Performance  ...       244.68480              1.0  Building Shell   \n55828  Home Performance  ...       718.90320              1.0  Building Shell   \n55829  Home Performance  ...       530.15040              1.0  Building Shell   \n\n       estimated_annual_kwh_savings estimated_annual_mmbtu_savings  \\\n0                                 0                             27   \n1                               309                              3   \n2                                 0                              8   \n3                                 0                             28   \n4                                 0                              6   \n...                             ...                            ...   \n55825                             0                             24   \n55826                             0                             33   \n55827                             0                             16   \n55828                           601                             11   \n55829                             0                              1   \n\n       first_year_energy_savings_$_estimate  \\\n0                                       474   \n1                                       111   \n2                                        61   \n3                                       681   \n4                                       146   \n...                                     ...   \n55825                                   340   \n55826                                   823   \n55827                                   887   \n55828                                   258   \n55829                                     9   \n\n       homeowner_received_free/reduced_cost_audit?  year   latitude  longitude  \n0                                             True  2021 -75.169360  43.241398  \n1                                             True  2021 -77.218837  43.059660  \n2                                             True  2020 -78.808435  42.934202  \n3                                             True  2020 -75.454665  43.214717  \n4                                             True  2020 -77.603561  42.886564  \n...                                            ...   ...        ...        ...  \n55825                                        False  2010 -78.702553  42.904567  \n55826                                        False  2011 -73.932117  42.759175  \n55827                                        False  2011 -76.359264  42.505028  \n55828                                        False  2010 -77.597999  43.221623  \n55829                                        False  2011 -77.729647  43.128513  \n\n[38956 rows x 27 columns]",
      "text/html": "<div>\n<style scoped>\n    .dataframe tbody tr th:only-of-type {\n        vertical-align: middle;\n    }\n\n    .dataframe tbody tr th {\n        vertical-align: top;\n    }\n\n    .dataframe thead th {\n        text-align: right;\n    }\n</style>\n<table border=\"1\" class=\"dataframe\">\n  <thead>\n    <tr style=\"text-align: right;\">\n      <th></th>\n      <th>home_performance_project_id</th>\n      <th>home_performance_site_id</th>\n      <th>project_county</th>\n      <th>project_city</th>\n      <th>project_zip</th>\n      <th>gas_utility_provider</th>\n      <th>electric_utility_provider</th>\n      <th>project_completion_date</th>\n      <th>customer_type</th>\n      <th>job_type</th>\n      <th>...</th>\n      <th>volume_of_home</th>\n      <th>number_of_units</th>\n      <th>measure_type</th>\n      <th>estimated_annual_kwh_savings</th>\n      <th>estimated_annual_mmbtu_savings</th>\n      <th>first_year_energy_savings_$_estimate</th>\n      <th>homeowner_received_free/reduced_cost_audit?</th>\n      <th>year</th>\n      <th>latitude</th>\n      <th>longitude</th>\n    </tr>\n  </thead>\n  <tbody>\n    <tr>\n      <th>0</th>\n      <td>483911</td>\n      <td>357221</td>\n      <td>Oneida</td>\n      <td>Barneveld</td>\n      <td>13304</td>\n      <td>NaN</td>\n      <td>National Grid</td>\n      <td>2021-01-16</td>\n      <td>Assisted</td>\n      <td>Home Performance</td>\n      <td>...</td>\n      <td>543.29088</td>\n      <td>1.0</td>\n      <td>Building Shell</td>\n      <td>0</td>\n      <td>27</td>\n      <td>474</td>\n      <td>True</td>\n      <td>2021</td>\n      <td>-75.169360</td>\n      <td>43.241398</td>\n    </tr>\n    <tr>\n      <th>1</th>\n      <td>486389</td>\n      <td>343438</td>\n      <td>Wayne</td>\n      <td>Palmyra</td>\n      <td>14522</td>\n      <td>NaN</td>\n      <td>New York State Electric &amp; Gas</td>\n      <td>2021-01-06</td>\n      <td>Assisted</td>\n      <td>Home Performance</td>\n      <td>...</td>\n      <td>241.20144</td>\n      <td>1.0</td>\n      <td>Building Shell</td>\n      <td>309</td>\n      <td>3</td>\n      <td>111</td>\n      <td>True</td>\n      <td>2021</td>\n      <td>-77.218837</td>\n      <td>43.059660</td>\n    </tr>\n    <tr>\n      <th>2</th>\n      <td>483374</td>\n      <td>356880</td>\n      <td>Erie</td>\n      <td>Buffalo</td>\n      <td>14215</td>\n      <td>National Fuel Gas Distribution</td>\n      <td>National Grid</td>\n      <td>2020-12-15</td>\n      <td>Assisted</td>\n      <td>Home Performance</td>\n      <td>...</td>\n      <td>581.01312</td>\n      <td>1.0</td>\n      <td>Building Shell</td>\n      <td>0</td>\n      <td>8</td>\n      <td>61</td>\n      <td>True</td>\n      <td>2020</td>\n      <td>-78.808435</td>\n      <td>42.934202</td>\n    </tr>\n    <tr>\n      <th>3</th>\n      <td>475733</td>\n      <td>350454</td>\n      <td>Oneida</td>\n      <td>Rome</td>\n      <td>13440</td>\n      <td>NaN</td>\n      <td>National Grid</td>\n      <td>2020-12-09</td>\n      <td>Assisted</td>\n      <td>Home Performance</td>\n      <td>...</td>\n      <td>222.02880</td>\n      <td>1.0</td>\n      <td>Building Shell</td>\n      <td>0</td>\n      <td>28</td>\n      <td>681</td>\n      <td>True</td>\n      <td>2020</td>\n      <td>-75.454665</td>\n      <td>43.214717</td>\n    </tr>\n    <tr>\n      <th>4</th>\n      <td>483731</td>\n      <td>356491</td>\n      <td>Livingston</td>\n      <td>Lima</td>\n      <td>14485</td>\n      <td>NaN</td>\n      <td>National Grid</td>\n      <td>2020-12-08</td>\n      <td>Assisted</td>\n      <td>Home Performance</td>\n      <td>...</td>\n      <td>212.96640</td>\n      <td>1.0</td>\n      <td>Building Shell</td>\n      <td>0</td>\n      <td>6</td>\n      <td>146</td>\n      <td>True</td>\n      <td>2020</td>\n      <td>-77.603561</td>\n      <td>42.886564</td>\n    </tr>\n    <tr>\n      <th>...</th>\n      <td>...</td>\n      <td>...</td>\n      <td>...</td>\n      <td>...</td>\n      <td>...</td>\n      <td>...</td>\n      <td>...</td>\n      <td>...</td>\n      <td>...</td>\n      <td>...</td>\n      <td>...</td>\n      <td>...</td>\n      <td>...</td>\n      <td>...</td>\n      <td>...</td>\n      <td>...</td>\n      <td>...</td>\n      <td>...</td>\n      <td>...</td>\n      <td>...</td>\n      <td>...</td>\n    </tr>\n    <tr>\n      <th>55825</th>\n      <td>P00000721450</td>\n      <td>S00000124921</td>\n      <td>Erie</td>\n      <td>Depew</td>\n      <td>14043</td>\n      <td>National Fuel Gas Distribution</td>\n      <td>New York State Electric &amp; Gas</td>\n      <td>2010-11-15</td>\n      <td>Market</td>\n      <td>Home Performance</td>\n      <td>...</td>\n      <td>405.08928</td>\n      <td>1.0</td>\n      <td>Building Shell</td>\n      <td>0</td>\n      <td>24</td>\n      <td>340</td>\n      <td>False</td>\n      <td>2010</td>\n      <td>-78.702553</td>\n      <td>42.904567</td>\n    </tr>\n    <tr>\n      <th>55826</th>\n      <td>P00000727276</td>\n      <td>S00000130155</td>\n      <td>Schenectady</td>\n      <td>Schenectady</td>\n      <td>12303</td>\n      <td>National Grid</td>\n      <td>National Grid</td>\n      <td>2011-01-28</td>\n      <td>Assisted</td>\n      <td>Home Performance</td>\n      <td>...</td>\n      <td>671.29728</td>\n      <td>1.0</td>\n      <td>Building Shell</td>\n      <td>0</td>\n      <td>33</td>\n      <td>823</td>\n      <td>False</td>\n      <td>2011</td>\n      <td>-73.932117</td>\n      <td>42.759175</td>\n    </tr>\n    <tr>\n      <th>55827</th>\n      <td>P00000726343</td>\n      <td>S00000129326</td>\n      <td>Tompkins</td>\n      <td>Freeville</td>\n      <td>13068</td>\n      <td>New York State Electric &amp; Gas</td>\n      <td>New York State Electric &amp; Gas</td>\n      <td>2011-01-13</td>\n      <td>Market</td>\n      <td>Home Performance</td>\n      <td>...</td>\n      <td>244.68480</td>\n      <td>1.0</td>\n      <td>Building Shell</td>\n      <td>0</td>\n      <td>16</td>\n      <td>887</td>\n      <td>False</td>\n      <td>2011</td>\n      <td>-76.359264</td>\n      <td>42.505028</td>\n    </tr>\n    <tr>\n      <th>55828</th>\n      <td>P00000727199</td>\n      <td>S00000130090</td>\n      <td>Monroe</td>\n      <td>Rochester</td>\n      <td>14617</td>\n      <td>Rochester Gas &amp; Electric</td>\n      <td>Rochester Gas &amp; Electric</td>\n      <td>2010-12-26</td>\n      <td>Market</td>\n      <td>Home Performance</td>\n      <td>...</td>\n      <td>718.90320</td>\n      <td>1.0</td>\n      <td>Building Shell</td>\n      <td>601</td>\n      <td>11</td>\n      <td>258</td>\n      <td>False</td>\n      <td>2010</td>\n      <td>-77.597999</td>\n      <td>43.221623</td>\n    </tr>\n    <tr>\n      <th>55829</th>\n      <td>P00000725072</td>\n      <td>S00000128120</td>\n      <td>Monroe</td>\n      <td>Rochester</td>\n      <td>14624</td>\n      <td>Rochester Gas &amp; Electric</td>\n      <td>Rochester Gas &amp; Electric</td>\n      <td>2011-02-01</td>\n      <td>Market</td>\n      <td>Home Performance</td>\n      <td>...</td>\n      <td>530.15040</td>\n      <td>1.0</td>\n      <td>Building Shell</td>\n      <td>0</td>\n      <td>1</td>\n      <td>9</td>\n      <td>False</td>\n      <td>2011</td>\n      <td>-77.729647</td>\n      <td>43.128513</td>\n    </tr>\n  </tbody>\n</table>\n<p>38956 rows × 27 columns</p>\n</div>"
     },
     "execution_count": 73,
     "metadata": {},
     "output_type": "execute_result"
    }
   ],
   "source": [
    "df"
   ],
   "metadata": {
    "collapsed": false
   }
  },
  {
   "cell_type": "code",
   "execution_count": null,
   "outputs": [],
   "source": [],
   "metadata": {
    "collapsed": false
   }
  }
 ],
 "metadata": {
  "kernelspec": {
   "display_name": "Python 3",
   "language": "python",
   "name": "python3"
  },
  "language_info": {
   "codemirror_mode": {
    "name": "ipython",
    "version": 2
   },
   "file_extension": ".py",
   "mimetype": "text/x-python",
   "name": "python",
   "nbconvert_exporter": "python",
   "pygments_lexer": "ipython2",
   "version": "2.7.6"
  }
 },
 "nbformat": 4,
 "nbformat_minor": 0
}
